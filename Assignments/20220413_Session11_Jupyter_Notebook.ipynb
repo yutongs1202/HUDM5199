{
 "cells": [
  {
   "cell_type": "markdown",
   "metadata": {},
   "source": [
    "# HUDM5199 Probability distributions and related visualizations in Python"
   ]
  },
  {
   "cell_type": "markdown",
   "metadata": {},
   "source": [
    "### What is a probability distribution?\n",
    "- Many statistical tools and techniques used in data analysis are based on probability. \n",
    "\n",
    "- **Probability** measures how likely it is for an event to occur on a scale from 0 (the event never occurs) to 1 (the event always occurs.). \n",
    "\n",
    "- When working with data, variables in the columns of the data set can be thought of as **random variables**: variables that vary due to chance. \n",
    "\n",
    "- **A probability distribution** describes how a random variable is distributed; it tells us which values a random variable is most likely to take on and which values are less likely.\n",
    "\n",
    "- In statistics there are a range of precisely defined probability distributions that have different shapes and can be used to model different types of random events. \n",
    "\n",
    "- Here we discuss some common probability distributions and how to work with them in Python.\n"
   ]
  },
  {
   "cell_type": "markdown",
   "metadata": {},
   "source": [
    "### The Uniform Distribution"
   ]
  },
  {
   "cell_type": "markdown",
   "metadata": {},
   "source": [
    "- The uniform distribution is a probability distribution where **each value within a certain range is equally likely to occur and values outside of the range never occur**. If we make a density plot of a uniform distribution, it appears flat because no value is any more likely (and hence has any more density) than another. \n",
    "\n",
    "- Many useful functions for working with probability distributions in Python are contained in the **scipy.stats** library. Let's load in some libraries, generate some uniform data and plot a density curve:"
   ]
  },
  {
   "cell_type": "code",
   "execution_count": null,
   "metadata": {},
   "outputs": [],
   "source": [
    "%matplotlib inline"
   ]
  },
  {
   "cell_type": "code",
   "execution_count": null,
   "metadata": {},
   "outputs": [],
   "source": [
    "import numpy as np\n",
    "import pandas as pd\n",
    "import matplotlib.pyplot as plt\n",
    "import scipy.stats  as stats"
   ]
  },
  {
   "cell_type": "code",
   "execution_count": null,
   "metadata": {},
   "outputs": [],
   "source": [
    "uniform_data = stats.uniform.rvs(size=100000,  # Generate 100000 numbers\n",
    "                                 loc = 0,      # From 0 \n",
    "                                 scale=10)     # To 10"
   ]
  },
  {
   "cell_type": "code",
   "execution_count": null,
   "metadata": {},
   "outputs": [],
   "source": [
    "uniform_data[0:20]"
   ]
  },
  {
   "cell_type": "markdown",
   "metadata": {},
   "source": [
    "- In the code above we generated 100,000 data points from a uniform distribution spanning the range 0 to 10. In the density plot we see that the density of our uniform data is essentially level meaning any given value has the same probability of occurring. The area under a probability density curve is always equal to 1."
   ]
  },
  {
   "cell_type": "code",
   "execution_count": null,
   "metadata": {},
   "outputs": [],
   "source": [
    "pd.DataFrame(uniform_data).plot(kind=\"density\",  # Plot the distribution\n",
    "                               figsize=(9,9), \n",
    "                               xlim=(-1,11))"
   ]
  },
  {
   "cell_type": "markdown",
   "metadata": {},
   "source": [
    "*Note: the plot above is an approximation of the underlying distribution, since it is based on a sample of observations."
   ]
  },
  {
   "cell_type": "markdown",
   "metadata": {},
   "source": [
    "### Probability distributions in scipy come with several useful functions for generating random data and extracting values of interest: \n",
    "\n",
    "- **stats.distribution.rvs()** generates random numbers from the specified distribution. The arguments to rvs() will vary depending on the type of distribution you're working with; in the case of the uniform distribution, we have to specify the starting and ending points and the size (number of random points to generate.).\n",
    "\n",
    "- **stats.distribution.cdf()** is used to determine the probability that an observation drawn from a distribution **falls below a specified value** (known as the cumulative distribution function.). In essence, cdf() gives you the area under the distribution's density curve to the left of a certain value on the x axis. For example, in the uniform distribution above, there is a 25% chance that an observation will be in the range 0 to 2.5 and a 75% chance it will fall in the range 2.5 to 10. We can confirm this with cdf():"
   ]
  },
  {
   "cell_type": "code",
   "execution_count": null,
   "metadata": {},
   "outputs": [],
   "source": [
    "stats.uniform.cdf(x=2.5,         # Cutoff value (quantile) to check # Cumulative distribution function\n",
    "                  loc=0,         # Distribution start\n",
    "                  scale=10)      # Distribution end"
   ]
  },
  {
   "cell_type": "markdown",
   "metadata": {},
   "source": [
    "- **stats.distribution.ppf()** is the inverse of cdf(): it returns the x axis cutoff value (quantile) associated with a given probability. For instance, if we want to know the cutoff value for which we have a 40% chance of drawing an observation below that value, we can use ppf():"
   ]
  },
  {
   "cell_type": "code",
   "execution_count": null,
   "metadata": {},
   "outputs": [],
   "source": [
    "stats.uniform.ppf(q=0.4,         # Probability cutoff\n",
    "                  loc=0,         # Distribution start\n",
    "                  scale=10)      # Distribution end"
   ]
  },
  {
   "cell_type": "markdown",
   "metadata": {},
   "source": [
    "- **stats.distribution.pdf()** gives you the probability density (height of the  distribution) at a given x value. Since the uniform distribution is flat, all x values within its range will have the same probability densitiy and x values outside the range have a probability density of 0:"
   ]
  },
  {
   "cell_type": "code",
   "execution_count": null,
   "metadata": {},
   "outputs": [],
   "source": [
    "for x in range(-1,12,3):\n",
    "    print(\"Density at x value \" + str(x))\n",
    "    print( stats.uniform.pdf(x, loc=0, scale=10) )   "
   ]
  },
  {
   "cell_type": "markdown",
   "metadata": {},
   "source": [
    "Probability distribution functions in scipy also support median(), mean(), var() and std()."
   ]
  },
  {
   "cell_type": "markdown",
   "metadata": {},
   "source": [
    "### Generating Random Numbers and Setting The Seed"
   ]
  },
  {
   "cell_type": "markdown",
   "metadata": {},
   "source": [
    "When you need to generate random real numbers in a range with equal probability you can draw numbers from a uniform distribution using stats.distribution.rvs(). Python also comes with a library called \"random\" that let's you perform various operations that involve randomization. Let's look at a few functions in the random library:"
   ]
  },
  {
   "cell_type": "code",
   "execution_count": null,
   "metadata": {},
   "outputs": [],
   "source": [
    "import random"
   ]
  },
  {
   "cell_type": "code",
   "execution_count": null,
   "metadata": {},
   "outputs": [],
   "source": [
    "random.randint(0,10)     # Get a random integer in the specified range"
   ]
  },
  {
   "cell_type": "code",
   "execution_count": null,
   "metadata": {},
   "outputs": [],
   "source": [
    "random.choice([2,4,6,9]) # Get a random element from a sequence"
   ]
  },
  {
   "cell_type": "code",
   "execution_count": null,
   "metadata": {},
   "outputs": [],
   "source": [
    "random.random()          # Get a real number between 0 and 1"
   ]
  },
  {
   "cell_type": "code",
   "execution_count": null,
   "metadata": {},
   "outputs": [],
   "source": [
    "random.uniform(0,10)     # Get a real in the specified range"
   ]
  },
  {
   "cell_type": "markdown",
   "metadata": {},
   "source": [
    "Notice that the random library also lets you generate random uniform numbers. Regardless of the method you use to generate random numbers, however, **the result of a random process can differ from one run to the next**. Having results vary each time you run a function is often not desirable. For example, if you want a colleague to be able to reproduce your results exactly, you can run into problems when you use randomization. You can ensure that your results are the same each time you use a function that involves randomness by setting the random number generator's seed value to initialize it prior to running the function. Set the random seed with **random.seed()**:"
   ]
  },
  {
   "cell_type": "code",
   "execution_count": null,
   "metadata": {},
   "outputs": [],
   "source": [
    "random.seed(12)  # Set the seed to an arbitrary value\n",
    "\n",
    "print([random.uniform(0,10) for x in range(4)])\n",
    "\n",
    "random.seed(12)  # Set the seed to the same value\n",
    "\n",
    "print([random.uniform(0,10) for x in range(4)])"
   ]
  },
  {
   "cell_type": "markdown",
   "metadata": {},
   "source": [
    "Notice that we generated the exact same numbers with both calls to random.uniform() because we set the same seed before each call. If we had not set the seed, we would have gotten different numbers. This reproducibility illustrates the fact that these random numbers aren't truly random, but rather \"pseudorandom\".\n",
    "\n",
    "Many functions in Python's libraries that use randomness have an optional random seed argument built in so that you don't have to set the seed outside of the function. For instance, the rvs() function has an optional argument random_state, that lets you set the seed."
   ]
  },
  {
   "cell_type": "markdown",
   "metadata": {},
   "source": [
    "### The Normal Distribution"
   ]
  },
  {
   "cell_type": "markdown",
   "metadata": {},
   "source": [
    "**The normal or Gaussian distribution is a continuous probability distribution characterized by a symmetric bell-shaped curve.** A normal distribution is defined by its center (mean) and spread (standard deviation.). The bulk of the observations generated from a normal distribution lie near the mean, which lies at the exact center of the distribution: as a rule of thumb, about 68% of the data lies within 1 standard deviation of the mean, 95% lies within 2 standard deviations and 99.7% lies within 3 standard deviations.\n",
    "\n",
    "The normal distribution is perhaps the most important distribution in all of statistics. It turns out that many real world phenomena, like IQ test scores and human heights, roughly follow a normal distribution, so it is often used to model random variables. **Many common statistical tests assume distributions are normal.**\n",
    "\n",
    "The scipy nickname for the normal distribution is norm. Let's investigate the normal distribution:"
   ]
  },
  {
   "cell_type": "code",
   "execution_count": null,
   "metadata": {},
   "outputs": [],
   "source": [
    "prob_under_minus1 = stats.norm.cdf(x= -1,  \n",
    "                                loc = 0,               \n",
    "                                scale= 1)     \n",
    "\n",
    "prob_over_1 = 1 - stats.norm.cdf(x= 1,  \n",
    "                                loc = 0,               \n",
    "                                scale= 1) \n",
    "\n",
    "between_prob = 1-(prob_under_minus1+prob_over_1)\n",
    "\n",
    "print(prob_under_minus1, prob_over_1, between_prob)"
   ]
  },
  {
   "cell_type": "markdown",
   "metadata": {},
   "source": [
    "The output shows that roughly 16% of the data generated by a normal distribution with mean 0 and standard deviation 1 is below -1, 16% is above 1 and 68% lies between -1 and 1, which agrees with the 68, 95, 99.7 rule. Let's plot the normal distribution and inspect areas we calculated:"
   ]
  },
  {
   "cell_type": "code",
   "execution_count": null,
   "metadata": {},
   "outputs": [],
   "source": [
    "# Plot normal distribution areas*\n",
    "\n",
    "plt.rcParams[\"figure.figsize\"] = (9,9)\n",
    "                                  \n",
    "plt.fill_between(x=np.arange(-4,-1,0.01), \n",
    "                 y1= stats.norm.pdf(np.arange(-4,-1,0.01)) ,\n",
    "                 facecolor='red',\n",
    "                 alpha=0.35)\n",
    "\n",
    "plt.fill_between(x=np.arange(1,4,0.01), \n",
    "                 y1= stats.norm.pdf(np.arange(1,4,0.01)) ,\n",
    "                 facecolor='red',\n",
    "                 alpha=0.35)\n",
    "\n",
    "plt.fill_between(x=np.arange(-1,1,0.01), \n",
    "                 y1= stats.norm.pdf(np.arange(-1,1,0.01)) ,\n",
    "                 facecolor='blue',\n",
    "                 alpha=0.35)\n",
    "\n",
    "plt.text(x=-1.8, y=0.03, s= round(prob_under_minus1,3))\n",
    "plt.text(x=-0.2, y=0.1, s= round(between_prob,3))\n",
    "plt.text(x=1.4, y=0.03, s= round(prob_over_1,3))\n",
    "\n"
   ]
  },
  {
   "cell_type": "markdown",
   "metadata": {},
   "source": [
    "*Note: This lesson uses some plotting code we did not cover in the plotting lesson in order to to make plots for explaintory purposes.\n",
    "\n",
    "The plot above shows the bell shape of the normal distribution, the area below and above one standard deviation and the area within 1 standard deviation of the mean.\n",
    "\n",
    "Finding quantiles of the normal distribution is a common task when performing statistical tests. You can check normal distribution quantiles with stats.norm.ppf():"
   ]
  },
  {
   "cell_type": "code",
   "execution_count": null,
   "metadata": {},
   "outputs": [],
   "source": [
    "print( stats.norm.ppf(q=0.025) ) # Find the quantile for the 2.5% cutoff\n",
    "\n",
    "print( stats.norm.ppf(q=0.975) ) # Find the quantile for the 97.5% cutoff"
   ]
  },
  {
   "cell_type": "markdown",
   "metadata": {},
   "source": [
    "The quantile output above confirms that roughly 5% of the data lies more than 2 standard deviations from the mean.\n",
    "\n",
    "*Note: a mean of 0 and standard deviation of 1 are default values for the normal distribution."
   ]
  },
  {
   "cell_type": "markdown",
   "metadata": {},
   "source": [
    "### The Binomial Distribution"
   ]
  },
  {
   "cell_type": "markdown",
   "metadata": {},
   "source": [
    "**The binomial distribution is a discrete probability distribution that models the outcomes of a given number of random trails of some experiment or event.** The binomial is defined by two parameters: the probability of success in any given trial and the number of trials. The binomial distribution tells you how likely it is to achieve a given number of successes in n trials of the experiment. For example, we could model flipping a fair coin 10 times with a binomial distribution where the number of trials is set to 10 and the probability of success is set to 0.5. In this case the distribution would tell us how likely it is to get zero heads, 1 head, 2 heads and so on.\n",
    "\n",
    "The scipy name for the binomial is binom. Let's generate and investigate some binomial data:"
   ]
  },
  {
   "cell_type": "code",
   "execution_count": null,
   "metadata": {},
   "outputs": [],
   "source": [
    "fair_coin_flips = stats.binom.rvs(n=1,        # Number of flips per trial\n",
    "                                  p=0.5,       # Success probability\n",
    "                                  size=10000)  # Number of trials\n",
    "\n",
    "print( pd.crosstab(index=\"counts\", columns= fair_coin_flips))"
   ]
  },
  {
   "cell_type": "code",
   "execution_count": null,
   "metadata": {},
   "outputs": [],
   "source": [
    "fair_coin_flips = stats.binom.rvs(n=1,        # Number of flips per trial\n",
    "                                  p=0.5,       # Success probability\n",
    "                                  size=1000000)  # Number of trials\n",
    "\n",
    "print( pd.crosstab(index=\"counts\", columns= fair_coin_flips))"
   ]
  },
  {
   "cell_type": "code",
   "execution_count": null,
   "metadata": {},
   "outputs": [],
   "source": [
    "fair_coin_flips = stats.binom.rvs(n=10,        # Number of flips per trial\n",
    "                                  p=0.5,       # Success probability\n",
    "                                  size=10000)  # Number of trials\n",
    "\n",
    "print( pd.crosstab(index=\"counts\", columns= fair_coin_flips))\n",
    "\n",
    "pd.DataFrame(fair_coin_flips).hist(range=(-0.5,10.5), bins=11)"
   ]
  },
  {
   "cell_type": "markdown",
   "metadata": {},
   "source": [
    "Note that since the binomial distribution is discrete, it only takes on integer values so we can summarize binomial data with a frequency table and its distribution with a histogram. The histogram shows us that a binomial distribution with a 50% probability of success is roughly symmetric, with the most likely outcomes lying at the center. This is reminiscent of the normal distribution, but if we alter the success probability, the distribution won't be symmetric:"
   ]
  },
  {
   "cell_type": "code",
   "execution_count": null,
   "metadata": {},
   "outputs": [],
   "source": [
    "biased_coin_flips = stats.binom.rvs(n=10,      # Number of flips per trial\n",
    "                                  p=0.8,       # Success probability\n",
    "                                  size=10000)  # Number of trials\n",
    "\n",
    "# Print table of counts\n",
    "print( pd.crosstab(index=\"counts\", columns= biased_coin_flips))\n",
    "\n",
    "# Plot histogram\n",
    "pd.DataFrame(biased_coin_flips).hist(range=(-0.5,10.5), bins=11)"
   ]
  },
  {
   "cell_type": "markdown",
   "metadata": {},
   "source": [
    "The cdf() function lets us check the probability of achieving a number of successes within a certain range:"
   ]
  },
  {
   "cell_type": "code",
   "execution_count": null,
   "metadata": {},
   "outputs": [],
   "source": [
    "stats.binom.cdf(k=5,        # Probability of k = 5 successes or less\n",
    "                n=10,       # With 10 flips\n",
    "                p=0.8)      # And success probability 0.8"
   ]
  },
  {
   "cell_type": "code",
   "execution_count": null,
   "metadata": {},
   "outputs": [],
   "source": [
    "1 - stats.binom.cdf(k=8,        # Probability of k = 9 successes or more\n",
    "                    n=10,       # With 10 flips\n",
    "                    p=0.8)      # And success probability 0.8"
   ]
  },
  {
   "cell_type": "markdown",
   "metadata": {},
   "source": [
    "For continous probability density functions, you use pdf() to check the probability density at a given x value. **For discrete distributions like the binomial, use stats.distribution.pmf() (probability mass fuction) to check the mass (proportion of observations) at given number of successes k:**"
   ]
  },
  {
   "cell_type": "code",
   "execution_count": null,
   "metadata": {},
   "outputs": [],
   "source": [
    "stats.binom.pmf(k=5,        # Probability of k = 5 successes\n",
    "                n=10,       # With 10 flips\n",
    "                p=0.5)      # And success probability 0.5"
   ]
  },
  {
   "cell_type": "code",
   "execution_count": null,
   "metadata": {},
   "outputs": [],
   "source": [
    "stats.binom.pmf(k=8,        # Probability of k = 8 successes\n",
    "                n=10,       # With 10 flips\n",
    "                p=0.8)      # And success probability 0.8"
   ]
  },
  {
   "cell_type": "markdown",
   "metadata": {},
   "source": [
    "### The Geometric and Exponential Distributions"
   ]
  },
  {
   "cell_type": "markdown",
   "metadata": {},
   "source": [
    "**The geometric and exponential distributions model the time it takes for an event to occur.** \n",
    "- The geometric distribution is discrete and models the number of trials it takes to achieve a success in repeated experiments with a given probability of success. \n",
    "- The exponential distribution is a continuous analog of the geometric distribution and models the amount of time you have to wait before an event occurs given a certain occurrence rate.\n",
    "\n",
    "The scipy nickname for the geometric distribution is \"geom\". Let's use the geom functions to model the number of trials it takes to get a success (heads) when flipping a fair coin:"
   ]
  },
  {
   "cell_type": "code",
   "execution_count": null,
   "metadata": {},
   "outputs": [],
   "source": [
    "random.seed(12)\n",
    "\n",
    "flips_till_heads = stats.geom.rvs(size=10000,  # Generate geometric data\n",
    "                                  p=0.5)       # With success prob 0.5\n",
    "\n",
    "# Print table of counts\n",
    "print( pd.crosstab(index=\"counts\", columns= flips_till_heads))\n",
    "\n",
    "# Plot histogram\n",
    "pd.DataFrame(flips_till_heads).hist(range=(-0.5,max(flips_till_heads)+0.5)\n",
    "                                    , bins=max(flips_till_heads)+1)"
   ]
  },
  {
   "cell_type": "markdown",
   "metadata": {},
   "source": [
    "The distribution looks similar to what we'd expect: it is very likely to get a heads in 1 or 2 flips, while it is very unlikely for it to take more than 5 flips to get a heads. In the 10,000 trails we generated, the longest it took to get a heads was 13 flips.\n",
    "\n",
    "Let's use cdf() to check the probability of needing 6 flips or more to get a success:"
   ]
  },
  {
   "cell_type": "code",
   "execution_count": null,
   "metadata": {},
   "outputs": [],
   "source": [
    "first_five = stats.geom.cdf(k=5,   # Prob of success in first 5 flips\n",
    "                           p=0.5)\n",
    "\n",
    "1 - first_five"
   ]
  },
  {
   "cell_type": "markdown",
   "metadata": {},
   "source": [
    "Use pmf() to check the probability of seeing a specific number of flips before a succcess:"
   ]
  },
  {
   "cell_type": "code",
   "execution_count": null,
   "metadata": {},
   "outputs": [],
   "source": [
    "stats.geom.pmf(k=2,   # Prob of needing exactly 2 flips to get first success\n",
    "              p=0.5)"
   ]
  },
  {
   "cell_type": "markdown",
   "metadata": {},
   "source": [
    "The scipy name for the exponential distribution is \"expon\". Let's investigate the exponential distribution:"
   ]
  },
  {
   "cell_type": "code",
   "execution_count": null,
   "metadata": {},
   "outputs": [],
   "source": [
    "# Get the probability of waiting more than 1 time unit before a success\n",
    "\n",
    "prob_1 = stats.expon.cdf(x=1,        \n",
    "                         scale=1)  # Arrival rate\n",
    "\n",
    "1 - prob_1"
   ]
  },
  {
   "cell_type": "markdown",
   "metadata": {},
   "source": [
    "*Note: The average arrival time for the exponential distribution is equal to 1/arrival_rate.\n",
    "\n",
    "Let's plot this explonential distribution to get an idea of its shape:"
   ]
  },
  {
   "cell_type": "code",
   "execution_count": null,
   "metadata": {},
   "outputs": [],
   "source": [
    "plt.fill_between(x=np.arange(0,1,0.01), \n",
    "                 y1= stats.expon.pdf(np.arange(0,1,0.01)) ,\n",
    "                 facecolor='blue',\n",
    "                 alpha=0.35)\n",
    "\n",
    "plt.fill_between(x=np.arange(1,7,0.01), \n",
    "                 y1= stats.expon.pdf(np.arange(1,7,0.01)) ,\n",
    "                 facecolor='red',\n",
    "                 alpha=0.35)\n",
    "\n",
    "\n",
    "plt.text(x=0.3, y=0.2, s= round(prob_1,3))\n",
    "plt.text(x=1.5, y=0.08, s= round(1 - prob_1,3))"
   ]
  },
  {
   "cell_type": "markdown",
   "metadata": {},
   "source": [
    "Similar to the geometric distribution, the exponential starts high and has a long tail that trails off to the right that contains rare cases where you have to wait much longer than average for an arrival."
   ]
  },
  {
   "cell_type": "markdown",
   "metadata": {},
   "source": [
    "### The Poisson Distribution"
   ]
  },
  {
   "cell_type": "markdown",
   "metadata": {},
   "source": [
    "**The Poisson distribution models the probability of seeing a certain number of successes within a time interval, where the time it takes for the next success is modeled by an exponential distribution.** The Poisson distribution can be used to model traffic, such as the number of arrivals a hospital can expect in a hour's time or the number of emails you'd expect to receive in a week.\n",
    "\n",
    "The scipy name for the Poisson distribution is \"poisson\". Let's generate and plot some data from a Poisson distribution with an arrival rate of 1 per time unit:"
   ]
  },
  {
   "cell_type": "code",
   "execution_count": null,
   "metadata": {},
   "outputs": [],
   "source": [
    "random.seed(12)\n",
    "\n",
    "arrival_rate_1 = stats.poisson.rvs(size=10000,  # Generate Poisson data\n",
    "                                   mu=1 )       # Average arrival time 1\n",
    "\n",
    "# Print table of counts\n",
    "print( pd.crosstab(index=\"counts\", columns= arrival_rate_1))\n",
    "\n",
    "# Plot histogram\n",
    "pd.DataFrame(arrival_rate_1).hist(range=(-0.5,max(arrival_rate_1)+0.5)\n",
    "                                    , bins=max(arrival_rate_1)+1)"
   ]
  },
  {
   "cell_type": "markdown",
   "metadata": {},
   "source": [
    "The histogram shows that when arrivals are relatively infrequent, it is rare to see more than a couple of arrivals in each time period. When the arrival rate is high, it becomes increasingly rare to see a low number of arrivals and the distribution starts to look more symmetric:"
   ]
  },
  {
   "cell_type": "code",
   "execution_count": null,
   "metadata": {},
   "outputs": [],
   "source": [
    "random.seed(12)\n",
    "\n",
    "arrival_rate_10 = stats.poisson.rvs(size=10000,  # Generate Poisson data\n",
    "                                   mu=10 )       # Avarage arrival time 10\n",
    "\n",
    "# Print table of counts\n",
    "print (pd.crosstab(index=\"counts\", columns= arrival_rate_10))\n",
    "\n",
    "# Plot histogram\n",
    "pd.DataFrame(arrival_rate_10).hist(range=(-0.5,max(arrival_rate_10)+0.5)\n",
    "                                    , bins=max(arrival_rate_10)+1)"
   ]
  },
  {
   "cell_type": "markdown",
   "metadata": {},
   "source": [
    "As with other discrete probability distributions, we can use the cdf() (cumulative distribution function) to check the probability of achieving more or less than a certain number of successes and the pmf() (probability mass function) to check the probability of obtaining a specific number of successes:"
   ]
  },
  {
   "cell_type": "code",
   "execution_count": null,
   "metadata": {},
   "outputs": [],
   "source": [
    "stats.poisson.cdf(k=5,     # Check the probability of 5 arrivals or less\n",
    "                  mu=10)   # With arrival rate 10"
   ]
  },
  {
   "cell_type": "code",
   "execution_count": null,
   "metadata": {},
   "outputs": [],
   "source": [
    "stats.poisson.pmf(k=10,     # Check the prob f exactly 10 arrivals\n",
    "                  mu=10)    # With arrival rate 10"
   ]
  },
  {
   "cell_type": "code",
   "execution_count": null,
   "metadata": {},
   "outputs": [],
   "source": []
  },
  {
   "cell_type": "markdown",
   "metadata": {},
   "source": [
    "# HUDM5199 Inference Testing"
   ]
  },
  {
   "cell_type": "code",
   "execution_count": null,
   "metadata": {
    "scrolled": true
   },
   "outputs": [],
   "source": [
    "import pandas as pd\n",
    "from scipy import stats\n",
    "\n",
    "data = pd.read_csv(r'brain_size.csv', sep=';', na_values=\".\")\n",
    "print (data.shape)\n",
    "data.head()"
   ]
  },
  {
   "cell_type": "code",
   "execution_count": null,
   "metadata": {},
   "outputs": [],
   "source": [
    "data.mean()"
   ]
  },
  {
   "cell_type": "markdown",
   "metadata": {},
   "source": [
    "### One-sample T Test\n",
    "-- Test whether the mean of our sample differs in a statistically significant way from the theoretical expectation."
   ]
  },
  {
   "cell_type": "code",
   "execution_count": null,
   "metadata": {},
   "outputs": [],
   "source": [
    "# 1-sample t-test: testing the value of a population mean\n",
    "# tests if the population mean of data is likely to be equal to a given value (0 in this case) \n",
    "# VIQ\n",
    "stats.ttest_1samp(data['VIQ'], 0)\n",
    "\n",
    "# p is 10^-28 < 0.05\n",
    "# Reject null hypothesis\n",
    "# Conclude that the mean of VIQ in our sample is different from the given value 0 significantly"
   ]
  },
  {
   "cell_type": "markdown",
   "metadata": {},
   "source": [
    "-- Statistical significance is a measurement of how likely it is that the difference between two groups, models, or statistics occurred by chance or occurred because two variables are actually related to each other. "
   ]
  },
  {
   "cell_type": "code",
   "execution_count": null,
   "metadata": {},
   "outputs": [],
   "source": [
    "# PIQ\n",
    "print('t-statistic = %6.3f pvalue = %6.4f' %  stats.ttest_1samp(data['PIQ'], 0))"
   ]
  },
  {
   "cell_type": "code",
   "execution_count": null,
   "metadata": {},
   "outputs": [],
   "source": [
    "# The given value is 110 now\n",
    "\n",
    "print('t-statistic = %6.3f pvalue = %6.4f' %  stats.ttest_1samp(data['PIQ'], 110))\n",
    "\n",
    "# p is 0.7745 > 0.05\n",
    "# Do not reject null hypothesis\n",
    "# Conclude that the mean of PIQ in our sample is not different from the given value 110 significantly"
   ]
  },
  {
   "cell_type": "markdown",
   "metadata": {},
   "source": [
    "### Two-sample T test: testing for difference across two groups"
   ]
  },
  {
   "cell_type": "code",
   "execution_count": null,
   "metadata": {},
   "outputs": [],
   "source": [
    "groupby_gender = data.groupby('Gender').mean()\n",
    "groupby_gender"
   ]
  },
  {
   "cell_type": "code",
   "execution_count": null,
   "metadata": {},
   "outputs": [],
   "source": [
    "# 2-sample t-test: testing for difference across populations\n",
    "# test if this is significant, we do a 2-sample t-test\n",
    "female_viq = data[data['Gender'] == 'Female']['VIQ']\n",
    "male_viq = data[data['Gender'] == 'Male']['VIQ']\n",
    "stats.ttest_ind(female_viq, male_viq)\n",
    "\n",
    "# Do not reject null hypothesis\n",
    "# Conclude that the mean of VIQ in our female sample is not different from the mean of VIQ in our male sample significantly"
   ]
  },
  {
   "cell_type": "markdown",
   "metadata": {},
   "source": [
    "### One Way ANOVA: testing for difference across two or more groups"
   ]
  },
  {
   "cell_type": "code",
   "execution_count": null,
   "metadata": {},
   "outputs": [],
   "source": [
    "# One Way ANOVA\n",
    "stats.f_oneway(data['VIQ'][data['Gender'] == 'Female'],\n",
    "               data['VIQ'][data['Gender'] == 'Male'])"
   ]
  },
  {
   "cell_type": "markdown",
   "metadata": {},
   "source": [
    "### Normal Distribution Analysis: test if the data is normal distributed"
   ]
  },
  {
   "cell_type": "code",
   "execution_count": null,
   "metadata": {},
   "outputs": [],
   "source": [
    "x = data['VIQ']\n",
    "print(stats.skew(x))  # skewness for normal distribution is 0\n",
    "print(stats.kurtosis(x)) # kurtosis for normal distribution is 3"
   ]
  },
  {
   "cell_type": "code",
   "execution_count": null,
   "metadata": {},
   "outputs": [],
   "source": [
    "# Test the Null hypothesis that 'ViQ' have a Skew and Kurtosis of a normal distribution\n",
    "\n",
    "# Test if skew and kurtosis of our sample differ significantly from those of a normal distribution\n",
    "\n",
    "x = data['VIQ']\n",
    "print('normal skewtest teststat = %6.3f pvalue = %6.4f' % stats.skewtest(x))\n",
    "# P = 0.8351 > 0.05\n",
    "# Conclude: the skew of our sample VIQ is not different from that of a normal distribution\n",
    "\n",
    "print('normal kurtosistest teststat = %6.3f pvalue = %6.4f' % stats.kurtosistest(x))\n",
    "# P = 0.0001 < 0.05\n",
    "# Conclude: the kurtosis of our sample VIQ is significantly different from that of a normal distribution"
   ]
  },
  {
   "cell_type": "code",
   "execution_count": null,
   "metadata": {},
   "outputs": [],
   "source": [
    "# These skew and kurtosis tests are combined in the normality test\n",
    "print('normaltest teststat = %6.3f pvalue = %6.4f' % stats.normaltest(x))\n",
    "# P = 0.0006 < 0.05\n",
    "# Conclude: the distribution of our sample VIQ is significantly different from a normal distribution"
   ]
  },
  {
   "cell_type": "code",
   "execution_count": null,
   "metadata": {},
   "outputs": [],
   "source": []
  },
  {
   "cell_type": "markdown",
   "metadata": {},
   "source": [
    "# A bit more about Plotly..."
   ]
  },
  {
   "cell_type": "markdown",
   "metadata": {},
   "source": [
    "https://plotly.com/python/basic-charts/"
   ]
  },
  {
   "cell_type": "code",
   "execution_count": null,
   "metadata": {},
   "outputs": [],
   "source": [
    "import plotly.express as px\n",
    "df = px.data.iris()\n",
    "fig = px.scatter(df, x=\"sepal_width\", y=\"sepal_length\", color=\"species\",\n",
    "                 size='petal_length', hover_data=['petal_width'])\n",
    "fig.show()"
   ]
  },
  {
   "cell_type": "code",
   "execution_count": null,
   "metadata": {},
   "outputs": [],
   "source": [
    "import plotly.express as px\n",
    "df = px.data.gapminder()\n",
    "fig = px.scatter_geo(df, locations=\"iso_alpha\", color=\"continent\",\n",
    "                     hover_name=\"country\", size=\"pop\",\n",
    "                     animation_frame=\"year\",\n",
    "                     projection=\"natural earth\")\n",
    "fig.show()"
   ]
  },
  {
   "cell_type": "code",
   "execution_count": null,
   "metadata": {},
   "outputs": [],
   "source": [
    "from urllib.request import urlopen\n",
    "import json\n",
    "with urlopen('https://raw.githubusercontent.com/plotly/datasets/master/geojson-counties-fips.json') as response:\n",
    "    counties = json.load(response)\n",
    "\n",
    "import pandas as pd\n",
    "df = pd.read_csv(\"https://raw.githubusercontent.com/plotly/datasets/master/fips-unemp-16.csv\",\n",
    "                   dtype={\"fips\": str})\n",
    "\n",
    "import plotly.express as px\n",
    "\n",
    "fig = px.choropleth(df, geojson=counties, locations='fips', color='unemp',\n",
    "                           color_continuous_scale=\"Viridis\",\n",
    "                           range_color=(0, 12),\n",
    "                           scope=\"usa\",\n",
    "                           labels={'unemp':'unemployment rate'}\n",
    "                          )\n",
    "fig.update_layout(margin={\"r\":0,\"t\":0,\"l\":0,\"b\":0})\n",
    "fig.show()"
   ]
  },
  {
   "cell_type": "markdown",
   "metadata": {},
   "source": [
    "## Try with the sample dataset below:"
   ]
  },
  {
   "cell_type": "code",
   "execution_count": null,
   "metadata": {},
   "outputs": [],
   "source": [
    "df= pd.read_csv('sales.csv')\n",
    "df.head()\n"
   ]
  },
  {
   "cell_type": "code",
   "execution_count": null,
   "metadata": {},
   "outputs": [],
   "source": []
  }
 ],
 "metadata": {
  "kernelspec": {
   "display_name": "Python 3 (ipykernel)",
   "language": "python",
   "name": "python3"
  },
  "language_info": {
   "codemirror_mode": {
    "name": "ipython",
    "version": 3
   },
   "file_extension": ".py",
   "mimetype": "text/x-python",
   "name": "python",
   "nbconvert_exporter": "python",
   "pygments_lexer": "ipython3",
   "version": "3.7.4"
  }
 },
 "nbformat": 4,
 "nbformat_minor": 1
}
