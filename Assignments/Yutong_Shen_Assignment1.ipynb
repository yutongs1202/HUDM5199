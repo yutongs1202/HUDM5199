{
 "cells": [
  {
   "cell_type": "markdown",
   "id": "8f19dd6c",
   "metadata": {},
   "source": [
    "# HUDM 5199 - Spring 2022"
   ]
  },
  {
   "cell_type": "markdown",
   "id": "712564e7",
   "metadata": {},
   "source": [
    "# Yutong Shen, ys3453"
   ]
  },
  {
   "cell_type": "markdown",
   "id": "a76dc923",
   "metadata": {},
   "source": [
    "# HW1 - 2.2"
   ]
  },
  {
   "cell_type": "markdown",
   "id": "4371e38b",
   "metadata": {},
   "source": [
    "## Session 2"
   ]
  },
  {
   "cell_type": "markdown",
   "id": "e2068056",
   "metadata": {},
   "source": [
    "**Variables and Assignment Statements**"
   ]
  },
  {
   "cell_type": "code",
   "execution_count": 1,
   "id": "4c5d43db",
   "metadata": {},
   "outputs": [
    {
     "data": {
      "text/plain": [
       "98"
      ]
     },
     "execution_count": 1,
     "metadata": {},
     "output_type": "execute_result"
    }
   ],
   "source": [
    "41 + 57"
   ]
  },
  {
   "cell_type": "code",
   "execution_count": 2,
   "id": "5a1b051f",
   "metadata": {},
   "outputs": [],
   "source": [
    "x = 5"
   ]
  },
  {
   "cell_type": "code",
   "execution_count": 3,
   "id": "f0caf994",
   "metadata": {},
   "outputs": [],
   "source": [
    "y = 10"
   ]
  },
  {
   "cell_type": "code",
   "execution_count": 4,
   "id": "8ab163ed",
   "metadata": {},
   "outputs": [],
   "source": [
    "x = 5\n",
    "y = 10"
   ]
  },
  {
   "cell_type": "code",
   "execution_count": 6,
   "id": "76eb4759",
   "metadata": {},
   "outputs": [],
   "source": [
    "x, y = 5, 10"
   ]
  },
  {
   "cell_type": "code",
   "execution_count": 7,
   "id": "907f3498",
   "metadata": {},
   "outputs": [
    {
     "data": {
      "text/plain": [
       "15"
      ]
     },
     "execution_count": 7,
     "metadata": {},
     "output_type": "execute_result"
    }
   ],
   "source": [
    "x + y"
   ]
  },
  {
   "cell_type": "code",
   "execution_count": 8,
   "id": "e0a0e3f8",
   "metadata": {},
   "outputs": [],
   "source": [
    "total = x + y"
   ]
  },
  {
   "cell_type": "code",
   "execution_count": 9,
   "id": "1ec35191",
   "metadata": {},
   "outputs": [
    {
     "data": {
      "text/plain": [
       "15"
      ]
     },
     "execution_count": 9,
     "metadata": {},
     "output_type": "execute_result"
    }
   ],
   "source": [
    "total"
   ]
  },
  {
   "cell_type": "markdown",
   "id": "081d5577",
   "metadata": {},
   "source": [
    "**Numeric Data Types, Literals, and the str Data Type**"
   ]
  },
  {
   "cell_type": "code",
   "execution_count": 11,
   "id": "ad2acd6b",
   "metadata": {},
   "outputs": [
    {
     "data": {
      "text/plain": [
       "int"
      ]
     },
     "execution_count": 11,
     "metadata": {},
     "output_type": "execute_result"
    }
   ],
   "source": [
    "type(x)"
   ]
  },
  {
   "cell_type": "code",
   "execution_count": 12,
   "id": "c9c6634d",
   "metadata": {},
   "outputs": [
    {
     "data": {
      "text/plain": [
       "float"
      ]
     },
     "execution_count": 12,
     "metadata": {},
     "output_type": "execute_result"
    }
   ],
   "source": [
    "type(10.5)"
   ]
  },
  {
   "cell_type": "code",
   "execution_count": 14,
   "id": "1fa901b5",
   "metadata": {},
   "outputs": [
    {
     "data": {
      "text/plain": [
       "str"
      ]
     },
     "execution_count": 14,
     "metadata": {},
     "output_type": "execute_result"
    }
   ],
   "source": [
    "title = 'Hello'\n",
    "type(title)"
   ]
  },
  {
   "cell_type": "markdown",
   "id": "b0fb265a",
   "metadata": {},
   "source": [
    "**Variable Reassignment**"
   ]
  },
  {
   "cell_type": "code",
   "execution_count": 15,
   "id": "7273dc33",
   "metadata": {},
   "outputs": [],
   "source": [
    "x = 99"
   ]
  },
  {
   "cell_type": "code",
   "execution_count": 16,
   "id": "e2292173",
   "metadata": {},
   "outputs": [],
   "source": [
    "x = 'Take me to your leader'"
   ]
  },
  {
   "cell_type": "code",
   "execution_count": 17,
   "id": "ae6cefc6",
   "metadata": {},
   "outputs": [
    {
     "data": {
      "text/plain": [
       "'Take me to your leader'"
      ]
     },
     "execution_count": 17,
     "metadata": {},
     "output_type": "execute_result"
    }
   ],
   "source": [
    "x"
   ]
  },
  {
   "cell_type": "markdown",
   "id": "740febcf",
   "metadata": {},
   "source": [
    "**Operators - Arithmetic**"
   ]
  },
  {
   "cell_type": "code",
   "execution_count": 18,
   "id": "4d11e657",
   "metadata": {},
   "outputs": [
    {
     "ename": "ZeroDivisionError",
     "evalue": "division by zero",
     "output_type": "error",
     "traceback": [
      "\u001b[0;31m---------------------------------------------------------------------------\u001b[0m",
      "\u001b[0;31mZeroDivisionError\u001b[0m                         Traceback (most recent call last)",
      "\u001b[0;32m/var/folders/x5/frnnlchj569_vyvfcshj1fv00000gn/T/ipykernel_50784/906332980.py\u001b[0m in \u001b[0;36m<module>\u001b[0;34m\u001b[0m\n\u001b[0;32m----> 1\u001b[0;31m \u001b[0;36m123\u001b[0m\u001b[0;34m/\u001b[0m\u001b[0;36m0\u001b[0m\u001b[0;34m\u001b[0m\u001b[0;34m\u001b[0m\u001b[0m\n\u001b[0m",
      "\u001b[0;31mZeroDivisionError\u001b[0m: division by zero"
     ]
    }
   ],
   "source": [
    "123/0"
   ]
  },
  {
   "cell_type": "markdown",
   "id": "6f854510",
   "metadata": {},
   "source": [
    "**Error and Tracebacks**"
   ]
  },
  {
   "cell_type": "code",
   "execution_count": 23,
   "id": "5fde255f",
   "metadata": {},
   "outputs": [
    {
     "ename": "NameError",
     "evalue": "name 'z' is not defined",
     "output_type": "error",
     "traceback": [
      "\u001b[0;31m---------------------------------------------------------------------------\u001b[0m",
      "\u001b[0;31mNameError\u001b[0m                                 Traceback (most recent call last)",
      "\u001b[0;32m/var/folders/x5/frnnlchj569_vyvfcshj1fv00000gn/T/ipykernel_73988/1015484808.py\u001b[0m in \u001b[0;36m<module>\u001b[0;34m\u001b[0m\n\u001b[0;32m----> 1\u001b[0;31m \u001b[0mz\u001b[0m \u001b[0;34m+\u001b[0m \u001b[0;36m7\u001b[0m\u001b[0;34m\u001b[0m\u001b[0;34m\u001b[0m\u001b[0m\n\u001b[0m",
      "\u001b[0;31mNameError\u001b[0m: name 'z' is not defined"
     ]
    }
   ],
   "source": [
    "z + 7"
   ]
  },
  {
   "cell_type": "markdown",
   "id": "ca5ad28e",
   "metadata": {},
   "source": [
    "**Displaying Output with the print Function**"
   ]
  },
  {
   "cell_type": "code",
   "execution_count": 19,
   "id": "61d040d4",
   "metadata": {},
   "outputs": [
    {
     "name": "stdout",
     "output_type": "stream",
     "text": [
      "Welcome to Python!\n"
     ]
    }
   ],
   "source": [
    "print('Welcome to Python!')"
   ]
  },
  {
   "cell_type": "code",
   "execution_count": 20,
   "id": "8b5096c5",
   "metadata": {},
   "outputs": [
    {
     "name": "stdout",
     "output_type": "stream",
     "text": [
      "Welcome to Python!\n"
     ]
    }
   ],
   "source": [
    "print(\"Welcome to Python!\")"
   ]
  },
  {
   "cell_type": "code",
   "execution_count": 21,
   "id": "e04c2be2",
   "metadata": {},
   "outputs": [
    {
     "name": "stdout",
     "output_type": "stream",
     "text": [
      "Welcome to Python!\n"
     ]
    }
   ],
   "source": [
    "print('Welcome', 'to', 'Python!')"
   ]
  },
  {
   "cell_type": "code",
   "execution_count": 22,
   "id": "e6166bc2",
   "metadata": {},
   "outputs": [
    {
     "name": "stdout",
     "output_type": "stream",
     "text": [
      "Sum is 10\n"
     ]
    }
   ],
   "source": [
    "print('Sum is', 7 + 3)"
   ]
  },
  {
   "cell_type": "markdown",
   "id": "aedc1cc3",
   "metadata": {},
   "source": [
    "**Printing Many Lines of Text with One Statement**"
   ]
  },
  {
   "cell_type": "code",
   "execution_count": 23,
   "id": "a7af4075",
   "metadata": {},
   "outputs": [
    {
     "name": "stdout",
     "output_type": "stream",
     "text": [
      "Welcome\n",
      "to\n",
      "\n",
      "Python!\n"
     ]
    }
   ],
   "source": [
    "print('Welcome\\nto\\n\\nPython!')"
   ]
  },
  {
   "cell_type": "markdown",
   "id": "6fa8f050",
   "metadata": {},
   "source": [
    "**Escape Characters**"
   ]
  },
  {
   "cell_type": "code",
   "execution_count": 24,
   "id": "a749bb66",
   "metadata": {},
   "outputs": [
    {
     "ename": "SyntaxError",
     "evalue": "EOL while scanning string literal (407964710.py, line 1)",
     "output_type": "error",
     "traceback": [
      "\u001b[0;36m  File \u001b[0;32m\"/var/folders/x5/frnnlchj569_vyvfcshj1fv00000gn/T/ipykernel_73988/407964710.py\"\u001b[0;36m, line \u001b[0;32m1\u001b[0m\n\u001b[0;31m    print('this is a longer string, so we\u001b[0m\n\u001b[0m                                          ^\u001b[0m\n\u001b[0;31mSyntaxError\u001b[0m\u001b[0;31m:\u001b[0m EOL while scanning string literal\n"
     ]
    }
   ],
   "source": [
    "print('this is a longer string, so we \n",
    "split it over two lines')"
   ]
  },
  {
   "cell_type": "code",
   "execution_count": 24,
   "id": "48b64f44",
   "metadata": {},
   "outputs": [
    {
     "name": "stdout",
     "output_type": "stream",
     "text": [
      "this is a longer string, so we split it over two lines\n"
     ]
    }
   ],
   "source": [
    "print('this is a longer string, so we \\\n",
    "split it over two lines')"
   ]
  },
  {
   "cell_type": "markdown",
   "id": "a4cbfa45",
   "metadata": {},
   "source": [
    "**Including Quotes in Strings**"
   ]
  },
  {
   "cell_type": "code",
   "execution_count": 25,
   "id": "4b7d89dd",
   "metadata": {},
   "outputs": [
    {
     "name": "stdout",
     "output_type": "stream",
     "text": [
      "Display \"hi\" in quotes\n"
     ]
    }
   ],
   "source": [
    "print('Display \"hi\" in quotes')"
   ]
  },
  {
   "cell_type": "code",
   "execution_count": 27,
   "id": "b39cbe2e",
   "metadata": {},
   "outputs": [
    {
     "ename": "SyntaxError",
     "evalue": "invalid syntax (102489360.py, line 1)",
     "output_type": "error",
     "traceback": [
      "\u001b[0;36m  File \u001b[0;32m\"/var/folders/x5/frnnlchj569_vyvfcshj1fv00000gn/T/ipykernel_50784/102489360.py\"\u001b[0;36m, line \u001b[0;32m1\u001b[0m\n\u001b[0;31m    print('Display 'hi' in quotes')\u001b[0m\n\u001b[0m                     ^\u001b[0m\n\u001b[0;31mSyntaxError\u001b[0m\u001b[0;31m:\u001b[0m invalid syntax\n"
     ]
    }
   ],
   "source": [
    "print('Display 'hi' in quotes')"
   ]
  },
  {
   "cell_type": "code",
   "execution_count": 26,
   "id": "4af81548",
   "metadata": {},
   "outputs": [
    {
     "name": "stdout",
     "output_type": "stream",
     "text": [
      "Display 'hi' in quotes\n"
     ]
    }
   ],
   "source": [
    "print('Display \\'hi\\' in quotes')"
   ]
  },
  {
   "cell_type": "code",
   "execution_count": 28,
   "id": "92e29538",
   "metadata": {},
   "outputs": [
    {
     "name": "stdout",
     "output_type": "stream",
     "text": [
      "Display the name O'brien\n"
     ]
    }
   ],
   "source": [
    "print(\"Display the name O'brien\")"
   ]
  },
  {
   "cell_type": "code",
   "execution_count": 29,
   "id": "efbebc1d",
   "metadata": {},
   "outputs": [
    {
     "name": "stdout",
     "output_type": "stream",
     "text": [
      "Display \"hi\" in quotes\n"
     ]
    }
   ],
   "source": [
    "print(\"Display \\\"hi\\\" in quotes\")"
   ]
  },
  {
   "cell_type": "code",
   "execution_count": 30,
   "id": "2cbceff4",
   "metadata": {},
   "outputs": [
    {
     "name": "stdout",
     "output_type": "stream",
     "text": [
      "Display \"hi\" and 'bye' in quotes\n"
     ]
    }
   ],
   "source": [
    "print(\"\"\"Display \"hi\" and 'bye' in quotes\"\"\")"
   ]
  },
  {
   "cell_type": "markdown",
   "id": "115885bf",
   "metadata": {},
   "source": [
    "**Multiline Strings**"
   ]
  },
  {
   "cell_type": "code",
   "execution_count": 31,
   "id": "5044e1ea",
   "metadata": {},
   "outputs": [],
   "source": [
    "triple_quoted_string = \"\"\"This is a triple-quoted\n",
    "string that spans two lines\"\"\""
   ]
  },
  {
   "cell_type": "code",
   "execution_count": 32,
   "id": "7f6f3a21",
   "metadata": {},
   "outputs": [
    {
     "name": "stdout",
     "output_type": "stream",
     "text": [
      "This is a triple-quoted\n",
      "string that spans two lines\n"
     ]
    }
   ],
   "source": [
    "print(triple_quoted_string)"
   ]
  },
  {
   "cell_type": "code",
   "execution_count": 33,
   "id": "64f68426",
   "metadata": {},
   "outputs": [
    {
     "data": {
      "text/plain": [
       "'This is a triple-quoted\\nstring that spans two lines'"
      ]
     },
     "execution_count": 33,
     "metadata": {},
     "output_type": "execute_result"
    }
   ],
   "source": [
    "triple_quoted_string"
   ]
  },
  {
   "cell_type": "markdown",
   "id": "e7f16726",
   "metadata": {},
   "source": [
    "**Comments**"
   ]
  },
  {
   "cell_type": "code",
   "execution_count": 34,
   "id": "d95f6999",
   "metadata": {},
   "outputs": [],
   "source": [
    "# This is a comment"
   ]
  },
  {
   "cell_type": "code",
   "execution_count": 35,
   "id": "35c1ea2f",
   "metadata": {},
   "outputs": [],
   "source": [
    "x = 7 # 7 is assigned to x"
   ]
  },
  {
   "cell_type": "markdown",
   "id": "84b61391",
   "metadata": {},
   "source": [
    "**Getting Input from the User**"
   ]
  },
  {
   "cell_type": "code",
   "execution_count": 44,
   "id": "96c1c30a",
   "metadata": {},
   "outputs": [
    {
     "name": "stdout",
     "output_type": "stream",
     "text": [
      "what's your name? Yutong\n"
     ]
    }
   ],
   "source": [
    "name = input(\"what's your name? \")"
   ]
  },
  {
   "cell_type": "code",
   "execution_count": 46,
   "id": "9570fed8",
   "metadata": {},
   "outputs": [
    {
     "data": {
      "text/plain": [
       "'Yutong'"
      ]
     },
     "execution_count": 46,
     "metadata": {},
     "output_type": "execute_result"
    }
   ],
   "source": [
    "name"
   ]
  },
  {
   "cell_type": "code",
   "execution_count": 47,
   "id": "be585bb5",
   "metadata": {},
   "outputs": [
    {
     "name": "stdout",
     "output_type": "stream",
     "text": [
      "Yutong\n"
     ]
    }
   ],
   "source": [
    "print(name)"
   ]
  },
  {
   "cell_type": "code",
   "execution_count": 39,
   "id": "53c869cb",
   "metadata": {},
   "outputs": [
    {
     "name": "stdout",
     "output_type": "stream",
     "text": [
      "Enter first number: 2\n"
     ]
    }
   ],
   "source": [
    "value1 = input('Enter first number: ')"
   ]
  },
  {
   "cell_type": "code",
   "execution_count": 40,
   "id": "0d019f31",
   "metadata": {},
   "outputs": [
    {
     "name": "stdout",
     "output_type": "stream",
     "text": [
      "Enter second number: 7\n"
     ]
    }
   ],
   "source": [
    "value2 = input('Enter second number: ')"
   ]
  },
  {
   "cell_type": "code",
   "execution_count": 43,
   "id": "3c858fe5",
   "metadata": {},
   "outputs": [
    {
     "data": {
      "text/plain": [
       "'27'"
      ]
     },
     "execution_count": 43,
     "metadata": {},
     "output_type": "execute_result"
    }
   ],
   "source": [
    "value1 + value2 # string concatenation"
   ]
  },
  {
   "cell_type": "code",
   "execution_count": 48,
   "id": "b4262de2",
   "metadata": {},
   "outputs": [
    {
     "name": "stdout",
     "output_type": "stream",
     "text": [
      "11\n"
     ]
    }
   ],
   "source": [
    "x = 11.56\n",
    "print(int(x))"
   ]
  },
  {
   "cell_type": "code",
   "execution_count": 49,
   "id": "f3002656",
   "metadata": {},
   "outputs": [],
   "source": [
    "value1 = int(value1)\n",
    "value2 = int(value2)"
   ]
  },
  {
   "cell_type": "code",
   "execution_count": 50,
   "id": "54357ec1",
   "metadata": {},
   "outputs": [
    {
     "data": {
      "text/plain": [
       "9"
      ]
     },
     "execution_count": 50,
     "metadata": {},
     "output_type": "execute_result"
    }
   ],
   "source": [
    "value1 + value2"
   ]
  },
  {
   "cell_type": "code",
   "execution_count": 51,
   "id": "6025a8a6",
   "metadata": {},
   "outputs": [
    {
     "name": "stdout",
     "output_type": "stream",
     "text": [
      "Enter another number: 17\n"
     ]
    }
   ],
   "source": [
    "another_value = int(input('Enter another number: '))"
   ]
  },
  {
   "cell_type": "code",
   "execution_count": 52,
   "id": "f4ac8e73",
   "metadata": {},
   "outputs": [
    {
     "data": {
      "text/plain": [
       "17"
      ]
     },
     "execution_count": 52,
     "metadata": {},
     "output_type": "execute_result"
    }
   ],
   "source": [
    "another_value"
   ]
  },
  {
   "cell_type": "code",
   "execution_count": 53,
   "id": "ece2849e",
   "metadata": {},
   "outputs": [
    {
     "data": {
      "text/plain": [
       "26"
      ]
     },
     "execution_count": 53,
     "metadata": {},
     "output_type": "execute_result"
    }
   ],
   "source": [
    "value1 + value2 + another_value"
   ]
  },
  {
   "cell_type": "markdown",
   "id": "cf318ad7",
   "metadata": {},
   "source": [
    "**Operators - Comparison and Logical**"
   ]
  },
  {
   "cell_type": "code",
   "execution_count": 54,
   "id": "5fce9311",
   "metadata": {},
   "outputs": [
    {
     "data": {
      "text/plain": [
       "True"
      ]
     },
     "execution_count": 54,
     "metadata": {},
     "output_type": "execute_result"
    }
   ],
   "source": [
    "7 > 4"
   ]
  },
  {
   "cell_type": "code",
   "execution_count": 32,
   "id": "d5cd9a29",
   "metadata": {},
   "outputs": [
    {
     "data": {
      "text/plain": [
       "True"
      ]
     },
     "execution_count": 32,
     "metadata": {},
     "output_type": "execute_result"
    }
   ],
   "source": [
    "7 >= 4"
   ]
  },
  {
   "cell_type": "markdown",
   "id": "3bf13517",
   "metadata": {},
   "source": [
    "**Making Decisions with the if Statement: Introducing Scripts**"
   ]
  },
  {
   "cell_type": "code",
   "execution_count": 55,
   "id": "64fa71c7",
   "metadata": {},
   "outputs": [
    {
     "name": "stdout",
     "output_type": "stream",
     "text": [
      "Enter two intergers, and I will tell you the relationships they satisfy\n",
      "Enter first integer: 5\n",
      "Enter second integer: 7\n",
      "5 is not equal to 7\n",
      "5 is less than 7\n",
      "5 is less than or equal to 7\n"
     ]
    }
   ],
   "source": [
    "print('Enter two intergers, and I will tell you', 'the relationships they satisfy')\n",
    "\n",
    "# read first integer\n",
    "number1 = int(input('Enter first integer: '))\n",
    "\n",
    "# read second integer\n",
    "number2 = int(input('Enter second integer: '))\n",
    "\n",
    "if number1 == number2:\n",
    "    print(number1, 'is equal to', number2)\n",
    "    \n",
    "if number1 != number2:\n",
    "    print(number1, 'is not equal to', number2)\n",
    "    \n",
    "if number1 < number2:\n",
    "    print(number1, 'is less than', number2)\n",
    "\n",
    "if number1 > number2:\n",
    "    print(number1, 'is greater than', number2)\n",
    "    \n",
    "if number1 <= number2:\n",
    "    print(number1, 'is less than or equal to', number2)\n",
    "    \n",
    "if number1 >= number2:\n",
    "    print(number1, 'is greater than or equal to', number2)"
   ]
  },
  {
   "cell_type": "markdown",
   "id": "b74a3ebe",
   "metadata": {},
   "source": [
    "## Session 3"
   ]
  },
  {
   "cell_type": "code",
   "execution_count": 2,
   "id": "bac4aaf6",
   "metadata": {},
   "outputs": [
    {
     "ename": "IndentationError",
     "evalue": "expected an indented block (1938229125.py, line 3)",
     "output_type": "error",
     "traceback": [
      "\u001b[0;36m  File \u001b[0;32m\"/var/folders/x5/frnnlchj569_vyvfcshj1fv00000gn/T/ipykernel_73988/1938229125.py\"\u001b[0;36m, line \u001b[0;32m3\u001b[0m\n\u001b[0;31m    print('Passed')\u001b[0m\n\u001b[0m        ^\u001b[0m\n\u001b[0;31mIndentationError\u001b[0m\u001b[0;31m:\u001b[0m expected an indented block\n"
     ]
    }
   ],
   "source": [
    "grade = 85\n",
    "if grade >= 60:\n",
    "print('Passed')"
   ]
  },
  {
   "cell_type": "code",
   "execution_count": 1,
   "id": "d1784191",
   "metadata": {},
   "outputs": [
    {
     "name": "stdout",
     "output_type": "stream",
     "text": [
      "Passed\n"
     ]
    }
   ],
   "source": [
    "grade = 85\n",
    "if grade >= 60:\n",
    "    print('Passed')"
   ]
  },
  {
   "cell_type": "code",
   "execution_count": 4,
   "id": "cb59c2dc",
   "metadata": {},
   "outputs": [
    {
     "name": "stdout",
     "output_type": "stream",
     "text": [
      "Failed\n"
     ]
    }
   ],
   "source": [
    "grade = 50\n",
    "if grade >= 60:\n",
    "    print('Passed')\n",
    "else:\n",
    "    print('Failed')"
   ]
  },
  {
   "cell_type": "code",
   "execution_count": 6,
   "id": "8ff168c0",
   "metadata": {},
   "outputs": [
    {
     "data": {
      "text/plain": [
       "'Passed'"
      ]
     },
     "execution_count": 6,
     "metadata": {},
     "output_type": "execute_result"
    }
   ],
   "source": [
    "grade = 90\n",
    "if grade >= 60:\n",
    "    result = 'Passed'\n",
    "else:\n",
    "    result = 'Failed'\n",
    "result"
   ]
  },
  {
   "cell_type": "markdown",
   "id": "9b367c48",
   "metadata": {},
   "source": [
    "**Conditional Expressions**"
   ]
  },
  {
   "cell_type": "code",
   "execution_count": 8,
   "id": "3f3d96c5",
   "metadata": {},
   "outputs": [
    {
     "data": {
      "text/plain": [
       "'Passed'"
      ]
     },
     "execution_count": 8,
     "metadata": {},
     "output_type": "execute_result"
    }
   ],
   "source": [
    "result = ('Passed' if grade >= 60 else 'Failed')\n",
    "result"
   ]
  },
  {
   "cell_type": "code",
   "execution_count": 9,
   "id": "d35f03ad",
   "metadata": {},
   "outputs": [
    {
     "data": {
      "text/plain": [
       "'Passed'"
      ]
     },
     "execution_count": 9,
     "metadata": {},
     "output_type": "execute_result"
    }
   ],
   "source": [
    "'Passed' if grade >= 60 else 'Failed'"
   ]
  },
  {
   "cell_type": "markdown",
   "id": "101c2193",
   "metadata": {},
   "source": [
    "**Multiple Statements in a Suite**"
   ]
  },
  {
   "cell_type": "code",
   "execution_count": 10,
   "id": "dacc7beb",
   "metadata": {},
   "outputs": [],
   "source": [
    "grade = 40"
   ]
  },
  {
   "cell_type": "code",
   "execution_count": 11,
   "id": "6dfb695d",
   "metadata": {},
   "outputs": [
    {
     "name": "stdout",
     "output_type": "stream",
     "text": [
      "Failed\n",
      "You must take this course again\n"
     ]
    }
   ],
   "source": [
    "if grade >= 60:\n",
    "    print('Passed')\n",
    "else:\n",
    "    print('Failed')\n",
    "    print('You must take this course again')"
   ]
  },
  {
   "cell_type": "code",
   "execution_count": 12,
   "id": "839710bd",
   "metadata": {},
   "outputs": [],
   "source": [
    "grade = 100"
   ]
  },
  {
   "cell_type": "code",
   "execution_count": 13,
   "id": "ebe9a537",
   "metadata": {},
   "outputs": [
    {
     "name": "stdout",
     "output_type": "stream",
     "text": [
      "Passed\n",
      "You must take this course again\n"
     ]
    }
   ],
   "source": [
    "if grade >= 60:\n",
    "    print('Passed')\n",
    "else:\n",
    "    print('Failed')\n",
    "print('You must take this course again')"
   ]
  },
  {
   "cell_type": "markdown",
   "id": "12e6a6b4",
   "metadata": {},
   "source": [
    "**if...elif...else Statement**"
   ]
  },
  {
   "cell_type": "code",
   "execution_count": 14,
   "id": "8aa3f1fd",
   "metadata": {},
   "outputs": [],
   "source": [
    "grade = 77"
   ]
  },
  {
   "cell_type": "code",
   "execution_count": 15,
   "id": "bd7b7422",
   "metadata": {},
   "outputs": [
    {
     "name": "stdout",
     "output_type": "stream",
     "text": [
      "C\n"
     ]
    }
   ],
   "source": [
    "if grade >= 90:\n",
    "    print('A')\n",
    "elif grade >= 80:\n",
    "    print('B')\n",
    "elif grade >= 70:\n",
    "    print('C')\n",
    "elif grade >= 60:\n",
    "    print('D')\n",
    "else:\n",
    "    print('F')"
   ]
  },
  {
   "cell_type": "markdown",
   "id": "2a1837f7",
   "metadata": {},
   "source": [
    "**while Statement**"
   ]
  },
  {
   "cell_type": "code",
   "execution_count": 18,
   "id": "535f36c3",
   "metadata": {},
   "outputs": [],
   "source": [
    "product = 3"
   ]
  },
  {
   "cell_type": "code",
   "execution_count": 19,
   "id": "79eb684b",
   "metadata": {},
   "outputs": [],
   "source": [
    "while product <= 50:\n",
    "    product = product * 3"
   ]
  },
  {
   "cell_type": "code",
   "execution_count": 20,
   "id": "ea9429d1",
   "metadata": {},
   "outputs": [
    {
     "data": {
      "text/plain": [
       "81"
      ]
     },
     "execution_count": 20,
     "metadata": {},
     "output_type": "execute_result"
    }
   ],
   "source": [
    "product"
   ]
  },
  {
   "cell_type": "markdown",
   "id": "d3a6ec70",
   "metadata": {},
   "source": [
    "**for Statement**"
   ]
  },
  {
   "cell_type": "code",
   "execution_count": 21,
   "id": "5152c389",
   "metadata": {},
   "outputs": [
    {
     "name": "stdout",
     "output_type": "stream",
     "text": [
      "P\n",
      "r\n",
      "o\n",
      "g\n",
      "r\n",
      "a\n",
      "m\n",
      "m\n",
      "i\n",
      "n\n",
      "g\n"
     ]
    }
   ],
   "source": [
    "for character in 'Programming':\n",
    "    print(character)"
   ]
  },
  {
   "cell_type": "code",
   "execution_count": 22,
   "id": "9e8611e4",
   "metadata": {},
   "outputs": [
    {
     "name": "stdout",
     "output_type": "stream",
     "text": [
      "P  r  o  g  r  a  m  m  i  n  g  "
     ]
    }
   ],
   "source": [
    "for character in 'Programming':\n",
    "    print(character, end = '  ') # end is a keyword argument, but it's not a Python keyword"
   ]
  },
  {
   "cell_type": "markdown",
   "id": "4e7e72ff",
   "metadata": {},
   "source": [
    "**Function print's**"
   ]
  },
  {
   "cell_type": "code",
   "execution_count": 25,
   "id": "2c5c8d3a",
   "metadata": {},
   "outputs": [
    {
     "name": "stdout",
     "output_type": "stream",
     "text": [
      "10 20 30\n"
     ]
    }
   ],
   "source": [
    "print(10,20,30)"
   ]
  },
  {
   "cell_type": "code",
   "execution_count": 26,
   "id": "0350a3a4",
   "metadata": {},
   "outputs": [
    {
     "name": "stdout",
     "output_type": "stream",
     "text": [
      "102030\n"
     ]
    }
   ],
   "source": [
    "print(10,20,30, sep='')"
   ]
  },
  {
   "cell_type": "code",
   "execution_count": 27,
   "id": "b4ff1d8b",
   "metadata": {},
   "outputs": [
    {
     "name": "stdout",
     "output_type": "stream",
     "text": [
      "10,20,30\n"
     ]
    }
   ],
   "source": [
    "print(10,20,30, sep=',')"
   ]
  },
  {
   "cell_type": "code",
   "execution_count": 28,
   "id": "9c805aca",
   "metadata": {},
   "outputs": [
    {
     "name": "stdout",
     "output_type": "stream",
     "text": [
      "10!20!30\n"
     ]
    }
   ],
   "source": [
    "print(10,20,30, sep='!')"
   ]
  },
  {
   "cell_type": "markdown",
   "id": "2c6f8200",
   "metadata": {},
   "source": [
    "**Iterables, Lists and iterators**"
   ]
  },
  {
   "cell_type": "code",
   "execution_count": 29,
   "id": "f1dd09dc",
   "metadata": {},
   "outputs": [],
   "source": [
    "total = 0"
   ]
  },
  {
   "cell_type": "code",
   "execution_count": 30,
   "id": "8c642f82",
   "metadata": {},
   "outputs": [],
   "source": [
    "for number in [2, -3, 0, 17, 9]:\n",
    "    total = total + number"
   ]
  },
  {
   "cell_type": "code",
   "execution_count": 31,
   "id": "3d04b64f",
   "metadata": {},
   "outputs": [
    {
     "data": {
      "text/plain": [
       "25"
      ]
     },
     "execution_count": 31,
     "metadata": {},
     "output_type": "execute_result"
    }
   ],
   "source": [
    "total"
   ]
  },
  {
   "cell_type": "markdown",
   "id": "768f2883",
   "metadata": {},
   "source": [
    "**Built-In range Function**"
   ]
  },
  {
   "cell_type": "code",
   "execution_count": 33,
   "id": "a0ae4153",
   "metadata": {},
   "outputs": [
    {
     "name": "stdout",
     "output_type": "stream",
     "text": [
      "0 1 2 3 4 5 6 7 8 9 "
     ]
    }
   ],
   "source": [
    "for counter in range(10):\n",
    "    print(counter, end = ' ')"
   ]
  },
  {
   "cell_type": "code",
   "execution_count": 34,
   "id": "65795157",
   "metadata": {},
   "outputs": [
    {
     "name": "stdout",
     "output_type": "stream",
     "text": [
      "5 6 7 8 9 "
     ]
    }
   ],
   "source": [
    "for number in range(5, 10):\n",
    "    print(number, end = ' ')"
   ]
  },
  {
   "cell_type": "code",
   "execution_count": 35,
   "id": "2aebf71f",
   "metadata": {},
   "outputs": [
    {
     "name": "stdout",
     "output_type": "stream",
     "text": [
      "0 2 4 6 8 "
     ]
    }
   ],
   "source": [
    "for number in range(0, 10, 2):\n",
    "    print(number, end = ' ')"
   ]
  },
  {
   "cell_type": "code",
   "execution_count": 36,
   "id": "ac68db28",
   "metadata": {},
   "outputs": [
    {
     "name": "stdout",
     "output_type": "stream",
     "text": [
      "10 8 6 4 2 "
     ]
    }
   ],
   "source": [
    "for number in range(10, 0, -2):\n",
    "    print(number, end = ' ')"
   ]
  },
  {
   "cell_type": "markdown",
   "id": "75ef47f6",
   "metadata": {},
   "source": [
    "**Augmented Assignments**"
   ]
  },
  {
   "cell_type": "code",
   "execution_count": 38,
   "id": "920ad04d",
   "metadata": {},
   "outputs": [
    {
     "data": {
      "text/plain": [
       "15"
      ]
     },
     "execution_count": 38,
     "metadata": {},
     "output_type": "execute_result"
    }
   ],
   "source": [
    "total = 0\n",
    "for number in [1, 2, 3, 4, 5]:\n",
    "    total = total + number\n",
    "total"
   ]
  },
  {
   "cell_type": "code",
   "execution_count": 39,
   "id": "ee30dada",
   "metadata": {},
   "outputs": [
    {
     "data": {
      "text/plain": [
       "15"
      ]
     },
     "execution_count": 39,
     "metadata": {},
     "output_type": "execute_result"
    }
   ],
   "source": [
    "total = 0\n",
    "for number in [1, 2, 3, 4, 5]:\n",
    "    total += number\n",
    "total"
   ]
  },
  {
   "cell_type": "markdown",
   "id": "35511d5c",
   "metadata": {},
   "source": [
    "**Program Development: Sequence-Controlled Iteration**"
   ]
  },
  {
   "cell_type": "code",
   "execution_count": 51,
   "id": "3da736ed",
   "metadata": {},
   "outputs": [
    {
     "name": "stdout",
     "output_type": "stream",
     "text": [
      "Class average is: 81.7\n"
     ]
    }
   ],
   "source": [
    "# initialization phase\n",
    "grades = [98, 76, 71, 87, 83, 90, 57, 79, 82, 94]\n",
    "grade_counter = 0\n",
    "total = 0 # sum of grades\n",
    "\n",
    "# processing phase\n",
    "for grade in grades:\n",
    "    total += grade # add current grade to the running total\n",
    "    grade_counter += 1 # indicate that one more grade was processed\n",
    "    \n",
    "# termination phase\n",
    "average = total / grade_counter\n",
    "# average = total / len(grades)\n",
    "print(f'Class average is: {average}')"
   ]
  },
  {
   "cell_type": "markdown",
   "id": "085b1a06",
   "metadata": {},
   "source": [
    "**Introduction to Formatted Strings**"
   ]
  },
  {
   "cell_type": "code",
   "execution_count": 52,
   "id": "ed5e4aef",
   "metadata": {},
   "outputs": [
    {
     "name": "stdout",
     "output_type": "stream",
     "text": [
      "My name is Janet\n"
     ]
    }
   ],
   "source": [
    "name = 'Janet'\n",
    "print(f'My name is {name}')"
   ]
  },
  {
   "cell_type": "markdown",
   "id": "a1f54d23",
   "metadata": {},
   "source": [
    "**Program Development: Sentinel-Controlled Iteration / Indefinite Iteration**"
   ]
  },
  {
   "cell_type": "code",
   "execution_count": 57,
   "id": "a3633352",
   "metadata": {},
   "outputs": [
    {
     "name": "stdout",
     "output_type": "stream",
     "text": [
      "Enter grade, -1 to end: 88\n",
      "Enter grade, -1 to end: 64\n",
      "Enter grade, -1 to end: 73\n",
      "Enter grade, -1 to end: 92\n",
      "Enter grade, -1 to end: 79\n",
      "Enter grade, -1 to end: 47\n",
      "Enter grade, -1 to end: -1\n",
      "class average is 73.83\n"
     ]
    }
   ],
   "source": [
    "#initilization phase\n",
    "total = 0 # sum of grade\n",
    "grade_counter = 0\n",
    "\n",
    "\n",
    "#processing phase\n",
    "grade = int(input('Enter grade, -1 to end: ')) # get one grade\n",
    "\n",
    "while grade != -1:\n",
    "    total += grade\n",
    "    grade_counter += 1\n",
    "    grade = int(input('Enter grade, -1 to end: '))\n",
    "\n",
    "#termination phase\n",
    "if grade_counter != 0:\n",
    "    average = total/grade_counter\n",
    "    print (f'class average is {average:.2f}')\n",
    "else:\n",
    "    print('No grades were entered')"
   ]
  },
  {
   "cell_type": "markdown",
   "id": "fdab3d2e",
   "metadata": {},
   "source": [
    "## Textbook Exercises"
   ]
  },
  {
   "cell_type": "markdown",
   "id": "515b75bb",
   "metadata": {},
   "source": [
    "**2.1**"
   ]
  },
  {
   "cell_type": "code",
   "execution_count": 59,
   "id": "0788853b",
   "metadata": {},
   "outputs": [],
   "source": [
    "x = 2\n",
    "y = 3"
   ]
  },
  {
   "cell_type": "code",
   "execution_count": 60,
   "id": "68b14af2",
   "metadata": {},
   "outputs": [
    {
     "name": "stdout",
     "output_type": "stream",
     "text": [
      "x = 2\n"
     ]
    }
   ],
   "source": [
    "# a) \n",
    "print('x =', x)"
   ]
  },
  {
   "cell_type": "code",
   "execution_count": 61,
   "id": "de0e177d",
   "metadata": {},
   "outputs": [
    {
     "name": "stdout",
     "output_type": "stream",
     "text": [
      "Value of 2 + 2 is 4\n"
     ]
    }
   ],
   "source": [
    "# b) \n",
    "print('Value of', x, '+', x, 'is', (x + x))"
   ]
  },
  {
   "cell_type": "code",
   "execution_count": 62,
   "id": "7bfe87a4",
   "metadata": {},
   "outputs": [
    {
     "name": "stdout",
     "output_type": "stream",
     "text": [
      "x =\n"
     ]
    }
   ],
   "source": [
    "# c) \n",
    "print('x =')"
   ]
  },
  {
   "cell_type": "code",
   "execution_count": 63,
   "id": "302785e4",
   "metadata": {},
   "outputs": [
    {
     "name": "stdout",
     "output_type": "stream",
     "text": [
      "5 = 5\n"
     ]
    }
   ],
   "source": [
    "# d) \n",
    "print((x + y), '=', (y + x))"
   ]
  },
  {
   "cell_type": "markdown",
   "id": "71967d0f",
   "metadata": {},
   "source": [
    "**2.2**"
   ]
  },
  {
   "cell_type": "code",
   "execution_count": 67,
   "id": "f993918a",
   "metadata": {},
   "outputs": [
    {
     "name": "stdout",
     "output_type": "stream",
     "text": [
      "Enter an integer rating between 1 and 10: 7\n"
     ]
    }
   ],
   "source": [
    "# The code doesn't specify the input type of integer. The correct code should be:\n",
    "rating = int(input('Enter an integer rating between 1 and 10: '))"
   ]
  },
  {
   "cell_type": "markdown",
   "id": "79583804",
   "metadata": {},
   "source": [
    "**2.3**"
   ]
  },
  {
   "cell_type": "code",
   "execution_count": 71,
   "id": "9d620412",
   "metadata": {},
   "outputs": [
    {
     "name": "stdout",
     "output_type": "stream",
     "text": [
      "Congratulations! Your grade of 91 earns you an A in this course\n"
     ]
    }
   ],
   "source": [
    "grade = 91\n",
    "if grade >= 90:\n",
    "    print(f'Congratulations! Your grade of {grade} earns you an A in this course')"
   ]
  },
  {
   "cell_type": "markdown",
   "id": "f992117e",
   "metadata": {},
   "source": [
    "**3.3**"
   ]
  },
  {
   "cell_type": "code",
   "execution_count": 72,
   "id": "f9b884d1",
   "metadata": {
    "scrolled": true
   },
   "outputs": [
    {
     "name": "stdout",
     "output_type": "stream",
     "text": [
      ">>>>>>>>>>\n",
      "<<<<<<<<<<\n",
      ">>>>>>>>>>\n",
      "<<<<<<<<<<\n",
      ">>>>>>>>>>\n",
      "<<<<<<<<<<\n",
      ">>>>>>>>>>\n",
      "<<<<<<<<<<\n",
      ">>>>>>>>>>\n",
      "<<<<<<<<<<\n"
     ]
    }
   ],
   "source": [
    "for row in range(10):\n",
    "           for column in range(10):\n",
    "               print('<' if row % 2 == 1 else '>', end='')\n",
    "           print()"
   ]
  },
  {
   "cell_type": "markdown",
   "id": "429eb8c7",
   "metadata": {},
   "source": [
    "The code diaplays 10 rows of '<'s and '>'s, with the odd rows printing 10 '>' symbols and the even rows printing 10 '<' symbols."
   ]
  },
  {
   "cell_type": "markdown",
   "id": "f9f70c61",
   "metadata": {},
   "source": [
    "**3.4**"
   ]
  },
  {
   "cell_type": "code",
   "execution_count": 74,
   "id": "4bea47ae",
   "metadata": {},
   "outputs": [
    {
     "name": "stdout",
     "output_type": "stream",
     "text": [
      "@@@@@@@\n",
      "@@@@@@@\n"
     ]
    }
   ],
   "source": [
    "for row in range(2):\n",
    "    for column in range(7):\n",
    "        print('@', end = '')\n",
    "    print()"
   ]
  }
 ],
 "metadata": {
  "kernelspec": {
   "display_name": "Python 3 (ipykernel)",
   "language": "python",
   "name": "python3"
  },
  "language_info": {
   "codemirror_mode": {
    "name": "ipython",
    "version": 3
   },
   "file_extension": ".py",
   "mimetype": "text/x-python",
   "name": "python",
   "nbconvert_exporter": "python",
   "pygments_lexer": "ipython3",
   "version": "3.7.4"
  }
 },
 "nbformat": 4,
 "nbformat_minor": 5
}
