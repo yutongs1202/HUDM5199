{
 "cells": [
  {
   "cell_type": "markdown",
   "id": "adc9edae",
   "metadata": {},
   "source": [
    "## HUDM 5199 - Spring 2022"
   ]
  },
  {
   "cell_type": "markdown",
   "id": "e79a4939",
   "metadata": {},
   "source": [
    "## Yutong Shen, ys3453"
   ]
  },
  {
   "cell_type": "markdown",
   "id": "6bf48aaf",
   "metadata": {},
   "source": [
    "## HW2 - Feb 13, 2022"
   ]
  },
  {
   "cell_type": "markdown",
   "id": "f3f6a100",
   "metadata": {},
   "source": [
    "## Session 4"
   ]
  },
  {
   "cell_type": "markdown",
   "id": "4424c2af",
   "metadata": {},
   "source": [
    "### Program Development: Nested Control Statements"
   ]
  },
  {
   "cell_type": "code",
   "execution_count": 2,
   "id": "24f42775",
   "metadata": {},
   "outputs": [
    {
     "name": "stdout",
     "output_type": "stream",
     "text": [
      "Enter result (1=pass, 2=fail): 1\n",
      "Enter result (1=pass, 2=fail): 1\n",
      "Enter result (1=pass, 2=fail): 1\n",
      "Enter result (1=pass, 2=fail): 1\n",
      "Enter result (1=pass, 2=fail): 1\n",
      "Enter result (1=pass, 2=fail): 1\n",
      "Enter result (1=pass, 2=fail): 1\n",
      "Enter result (1=pass, 2=fail): 1\n",
      "Enter result (1=pass, 2=fail): 1\n",
      "Enter result (1=pass, 2=fail): 1\n",
      "Passed: 10\n",
      "Failed: 0\n",
      "Bonus to instructor\n"
     ]
    }
   ],
   "source": [
    "# initialize variables\n",
    "passes = 0 # number of passes\n",
    "failures = 0 # number of failures\n",
    "\n",
    "#process 10 students\n",
    "for student in range(10):\n",
    "    # get one exam result\n",
    "    result = int(input('Enter result (1=pass, 2=fail): '))\n",
    "    \n",
    "    if result == 1:\n",
    "        passes += 1\n",
    "    else:\n",
    "        failures += 1\n",
    "\n",
    "# termination phase\n",
    "print('Passed:', passes)\n",
    "print('Failed:', failures)\n",
    "\n",
    "if passes > 8:\n",
    "    print('Bonus to instructor')"
   ]
  },
  {
   "cell_type": "markdown",
   "id": "7c38e801",
   "metadata": {},
   "source": [
    "### Simple Number values Format"
   ]
  },
  {
   "cell_type": "code",
   "execution_count": 3,
   "id": "ae09a0eb",
   "metadata": {},
   "outputs": [
    {
     "name": "stdout",
     "output_type": "stream",
     "text": [
      "112.31\n",
      "112.31000000000000227374\n"
     ]
    }
   ],
   "source": [
    "# Floating point numbers\n",
    "amount = 112.31\n",
    "print(amount)\n",
    "print(f'{amount:.20f}')"
   ]
  },
  {
   "cell_type": "markdown",
   "id": "86783a2f",
   "metadata": {},
   "source": [
    "### break and continue Statements"
   ]
  },
  {
   "cell_type": "code",
   "execution_count": 4,
   "id": "8174f05d",
   "metadata": {},
   "outputs": [
    {
     "name": "stdout",
     "output_type": "stream",
     "text": [
      "0 1 2 3 4 5 6 7 8 9 "
     ]
    }
   ],
   "source": [
    "for number in range(100):\n",
    "    if number == 10:\n",
    "        break\n",
    "    print(number, end = ' ')"
   ]
  },
  {
   "cell_type": "code",
   "execution_count": 5,
   "id": "d62fb257",
   "metadata": {},
   "outputs": [
    {
     "name": "stdout",
     "output_type": "stream",
     "text": [
      "1 2 3 4 7 8 9 10 "
     ]
    }
   ],
   "source": [
    "number = 0\n",
    "\n",
    "while number in range(10):\n",
    "    number += 1\n",
    "    if number in range(5, 7, 1):\n",
    "        continue\n",
    "    print(number, end = ' ')"
   ]
  },
  {
   "cell_type": "code",
   "execution_count": 6,
   "id": "657f01e4",
   "metadata": {},
   "outputs": [
    {
     "name": "stdout",
     "output_type": "stream",
     "text": [
      "0 1 2 3 4 6 7 8 9 "
     ]
    }
   ],
   "source": [
    "for number in range(10):\n",
    "    if number == 5:\n",
    "        continue\n",
    "    print(number, end = ' ')"
   ]
  },
  {
   "cell_type": "markdown",
   "id": "543307f7",
   "metadata": {},
   "source": [
    "### Boolean Operators and, or and not"
   ]
  },
  {
   "cell_type": "markdown",
   "id": "6c24b050",
   "metadata": {},
   "source": [
    "**and**"
   ]
  },
  {
   "cell_type": "code",
   "execution_count": 7,
   "id": "335c679f",
   "metadata": {},
   "outputs": [],
   "source": [
    "gender = 'Female'"
   ]
  },
  {
   "cell_type": "code",
   "execution_count": 8,
   "id": "da94950b",
   "metadata": {},
   "outputs": [],
   "source": [
    "age = 70"
   ]
  },
  {
   "cell_type": "code",
   "execution_count": 9,
   "id": "216d749e",
   "metadata": {},
   "outputs": [
    {
     "name": "stdout",
     "output_type": "stream",
     "text": [
      "senior female\n"
     ]
    }
   ],
   "source": [
    "if gender == 'Female' and age >= 65:\n",
    "    print('senior female')"
   ]
  },
  {
   "cell_type": "markdown",
   "id": "779042f3",
   "metadata": {},
   "source": [
    "**or**"
   ]
  },
  {
   "cell_type": "code",
   "execution_count": 10,
   "id": "9c4f4c50",
   "metadata": {},
   "outputs": [],
   "source": [
    "semester_average = 83"
   ]
  },
  {
   "cell_type": "code",
   "execution_count": 11,
   "id": "e525a6f7",
   "metadata": {},
   "outputs": [],
   "source": [
    "final_exam = 95"
   ]
  },
  {
   "cell_type": "code",
   "execution_count": 12,
   "id": "82f0b6f1",
   "metadata": {},
   "outputs": [
    {
     "name": "stdout",
     "output_type": "stream",
     "text": [
      "Student gets an A\n"
     ]
    }
   ],
   "source": [
    "if semester_average >= 90 or final_exam >= 90:\n",
    "    print('Student gets an A')"
   ]
  },
  {
   "cell_type": "markdown",
   "id": "befe2dda",
   "metadata": {},
   "source": [
    "**not**"
   ]
  },
  {
   "cell_type": "code",
   "execution_count": 13,
   "id": "4d789cab",
   "metadata": {},
   "outputs": [],
   "source": [
    "grade = 87"
   ]
  },
  {
   "cell_type": "code",
   "execution_count": 14,
   "id": "3a9a2787",
   "metadata": {},
   "outputs": [
    {
     "name": "stdout",
     "output_type": "stream",
     "text": [
      "The next grade is: 87\n"
     ]
    }
   ],
   "source": [
    "if not grade == -1:\n",
    "    print('The next grade is:', grade)"
   ]
  },
  {
   "cell_type": "code",
   "execution_count": 15,
   "id": "617f57bd",
   "metadata": {},
   "outputs": [
    {
     "name": "stdout",
     "output_type": "stream",
     "text": [
      "The next grade is: 87\n"
     ]
    }
   ],
   "source": [
    "if grade != -1:\n",
    "    print('The next grade is:', grade)"
   ]
  },
  {
   "cell_type": "markdown",
   "id": "1572671e",
   "metadata": {},
   "source": [
    "### Defining Functions"
   ]
  },
  {
   "cell_type": "code",
   "execution_count": 16,
   "id": "30444cf0",
   "metadata": {},
   "outputs": [],
   "source": [
    "def square(number):\n",
    "    \"\"\"Calculate the square of number\"\"\"\n",
    "    return number ** 2"
   ]
  },
  {
   "cell_type": "code",
   "execution_count": 17,
   "id": "8727611f",
   "metadata": {},
   "outputs": [
    {
     "data": {
      "text/plain": [
       "49"
      ]
     },
     "execution_count": 17,
     "metadata": {},
     "output_type": "execute_result"
    }
   ],
   "source": [
    "square(7)"
   ]
  },
  {
   "cell_type": "code",
   "execution_count": 18,
   "id": "4c032316",
   "metadata": {},
   "outputs": [
    {
     "data": {
      "text/plain": [
       "6.25"
      ]
     },
     "execution_count": 18,
     "metadata": {},
     "output_type": "execute_result"
    }
   ],
   "source": [
    "square(2.5)"
   ]
  },
  {
   "cell_type": "code",
   "execution_count": 19,
   "id": "1214f2e0",
   "metadata": {},
   "outputs": [
    {
     "name": "stdout",
     "output_type": "stream",
     "text": [
      "The square of 7 is 49\n"
     ]
    }
   ],
   "source": [
    "print('The square of 7 is', square(7))"
   ]
  },
  {
   "cell_type": "markdown",
   "id": "3c47fbc4",
   "metadata": {},
   "source": [
    "### Returning a Result to a Function's Caller"
   ]
  },
  {
   "cell_type": "code",
   "execution_count": 20,
   "id": "c6fe633a",
   "metadata": {},
   "outputs": [
    {
     "data": {
      "text/plain": [
       "4"
      ]
     },
     "execution_count": 20,
     "metadata": {},
     "output_type": "execute_result"
    }
   ],
   "source": [
    "def f(x):\n",
    "    x = x * 2\n",
    "    return x\n",
    "\n",
    "f(2)"
   ]
  },
  {
   "cell_type": "code",
   "execution_count": 21,
   "id": "f238143e",
   "metadata": {},
   "outputs": [],
   "source": [
    "def f(x):\n",
    "    x = x * 2\n",
    "    return\n",
    "\n",
    "f(2)"
   ]
  },
  {
   "cell_type": "code",
   "execution_count": 22,
   "id": "83a88b3a",
   "metadata": {},
   "outputs": [
    {
     "data": {
      "text/plain": [
       "()"
      ]
     },
     "execution_count": 22,
     "metadata": {},
     "output_type": "execute_result"
    }
   ],
   "source": [
    "def f(x):\n",
    "    x = x * 2\n",
    "    return ()\n",
    "\n",
    "f(2)"
   ]
  },
  {
   "cell_type": "code",
   "execution_count": 23,
   "id": "168e49e7",
   "metadata": {},
   "outputs": [],
   "source": [
    "def f(x):\n",
    "    x = x * 2\n",
    "\n",
    "f(2)"
   ]
  },
  {
   "cell_type": "code",
   "execution_count": 24,
   "id": "fd11f635",
   "metadata": {},
   "outputs": [],
   "source": [
    "def multiply5(number):\n",
    "    i = 5\n",
    "    number = number * i\n",
    "    return number"
   ]
  },
  {
   "cell_type": "code",
   "execution_count": 25,
   "id": "b4a6ee2d",
   "metadata": {},
   "outputs": [
    {
     "data": {
      "text/plain": [
       "15"
      ]
     },
     "execution_count": 25,
     "metadata": {},
     "output_type": "execute_result"
    }
   ],
   "source": [
    "multiply5(3)"
   ]
  },
  {
   "cell_type": "code",
   "execution_count": 26,
   "id": "36dcdb90",
   "metadata": {},
   "outputs": [
    {
     "data": {
      "text/plain": [
       "30"
      ]
     },
     "execution_count": 26,
     "metadata": {},
     "output_type": "execute_result"
    }
   ],
   "source": [
    "multiply5(6)"
   ]
  },
  {
   "cell_type": "markdown",
   "id": "4cda4003",
   "metadata": {},
   "source": [
    "### Functions with Multiple Parameters"
   ]
  },
  {
   "cell_type": "code",
   "execution_count": 27,
   "id": "90d9f349",
   "metadata": {},
   "outputs": [],
   "source": [
    "def maximum(value1, value2, value3):\n",
    "    \"\"\"Return the maximum of three values.\"\"\"\n",
    "    max_value = value1\n",
    "    if value2 > max_value:\n",
    "        max_value = value2\n",
    "    if value3 > max_value:\n",
    "        max_value = value3\n",
    "    return max_value"
   ]
  },
  {
   "cell_type": "code",
   "execution_count": 28,
   "id": "b10635e6",
   "metadata": {},
   "outputs": [
    {
     "data": {
      "text/plain": [
       "36"
      ]
     },
     "execution_count": 28,
     "metadata": {},
     "output_type": "execute_result"
    }
   ],
   "source": [
    "maximum(12, 27, 36)"
   ]
  },
  {
   "cell_type": "code",
   "execution_count": 29,
   "id": "b6de5c52",
   "metadata": {},
   "outputs": [
    {
     "data": {
      "text/plain": [
       "45.6"
      ]
     },
     "execution_count": 29,
     "metadata": {},
     "output_type": "execute_result"
    }
   ],
   "source": [
    "maximum(12.3, 45.6, 9.7)"
   ]
  },
  {
   "cell_type": "code",
   "execution_count": 30,
   "id": "99bd885e",
   "metadata": {},
   "outputs": [
    {
     "data": {
      "text/plain": [
       "36"
      ]
     },
     "execution_count": 30,
     "metadata": {},
     "output_type": "execute_result"
    }
   ],
   "source": [
    "max(12, 27, 36)"
   ]
  },
  {
   "cell_type": "markdown",
   "id": "9b115a35",
   "metadata": {},
   "source": [
    "### Python Standard Library"
   ]
  },
  {
   "cell_type": "markdown",
   "id": "cc83bd5d",
   "metadata": {},
   "source": [
    "### math Module Functions"
   ]
  },
  {
   "cell_type": "code",
   "execution_count": 31,
   "id": "3637c63c",
   "metadata": {},
   "outputs": [],
   "source": [
    "import math"
   ]
  },
  {
   "cell_type": "code",
   "execution_count": 32,
   "id": "cf75ac47",
   "metadata": {},
   "outputs": [
    {
     "data": {
      "text/plain": [
       "30.0"
      ]
     },
     "execution_count": 32,
     "metadata": {},
     "output_type": "execute_result"
    }
   ],
   "source": [
    "math.sqrt(900)"
   ]
  },
  {
   "cell_type": "code",
   "execution_count": 33,
   "id": "8f53a1a0",
   "metadata": {},
   "outputs": [
    {
     "data": {
      "text/plain": [
       "10.0"
      ]
     },
     "execution_count": 33,
     "metadata": {},
     "output_type": "execute_result"
    }
   ],
   "source": [
    "math.fabs(-10) # absolute value"
   ]
  },
  {
   "cell_type": "markdown",
   "id": "27c25371",
   "metadata": {},
   "source": [
    "### Using IPython Tab Completion for Discovery"
   ]
  },
  {
   "cell_type": "code",
   "execution_count": 34,
   "id": "8acf4541",
   "metadata": {},
   "outputs": [
    {
     "ename": "NameError",
     "evalue": "name 'ma' is not defined",
     "output_type": "error",
     "traceback": [
      "\u001b[0;31m---------------------------------------------------------------------------\u001b[0m",
      "\u001b[0;31mNameError\u001b[0m                                 Traceback (most recent call last)",
      "\u001b[0;32m/var/folders/x5/frnnlchj569_vyvfcshj1fv00000gn/T/ipykernel_34547/4134723244.py\u001b[0m in \u001b[0;36m<module>\u001b[0;34m\u001b[0m\n\u001b[1;32m      1\u001b[0m \u001b[0;31m# press <Tab> after ma\u001b[0m\u001b[0;34m\u001b[0m\u001b[0;34m\u001b[0m\u001b[0;34m\u001b[0m\u001b[0m\n\u001b[0;32m----> 2\u001b[0;31m \u001b[0mma\u001b[0m\u001b[0;34m\u001b[0m\u001b[0;34m\u001b[0m\u001b[0m\n\u001b[0m",
      "\u001b[0;31mNameError\u001b[0m: name 'ma' is not defined"
     ]
    }
   ],
   "source": [
    "# press <Tab> after ma\n",
    "ma"
   ]
  },
  {
   "cell_type": "code",
   "execution_count": 35,
   "id": "33f9bfe6",
   "metadata": {},
   "outputs": [
    {
     "ename": "SyntaxError",
     "evalue": "invalid syntax (1810615657.py, line 2)",
     "output_type": "error",
     "traceback": [
      "\u001b[0;36m  File \u001b[0;32m\"/var/folders/x5/frnnlchj569_vyvfcshj1fv00000gn/T/ipykernel_34547/1810615657.py\"\u001b[0;36m, line \u001b[0;32m2\u001b[0m\n\u001b[0;31m    math.\u001b[0m\n\u001b[0m         ^\u001b[0m\n\u001b[0;31mSyntaxError\u001b[0m\u001b[0;31m:\u001b[0m invalid syntax\n"
     ]
    }
   ],
   "source": [
    "# press <Tab> after the dot\n",
    "math."
   ]
  },
  {
   "cell_type": "code",
   "execution_count": 37,
   "id": "3b419865",
   "metadata": {},
   "outputs": [],
   "source": [
    "math.fabs?"
   ]
  },
  {
   "cell_type": "markdown",
   "id": "c88eb22c",
   "metadata": {},
   "source": [
    "### Default Parameter Values"
   ]
  },
  {
   "cell_type": "code",
   "execution_count": 38,
   "id": "5f0453a7",
   "metadata": {},
   "outputs": [],
   "source": [
    "def rectangle_area(length=2, width=3):\n",
    "    \"\"\"Returning a rectangle's area.\"\"\"\n",
    "    return length * width"
   ]
  },
  {
   "cell_type": "code",
   "execution_count": 39,
   "id": "4a8c4a9d",
   "metadata": {},
   "outputs": [
    {
     "data": {
      "text/plain": [
       "6"
      ]
     },
     "execution_count": 39,
     "metadata": {},
     "output_type": "execute_result"
    }
   ],
   "source": [
    "rectangle_area()"
   ]
  },
  {
   "cell_type": "code",
   "execution_count": 40,
   "id": "f7f3fccb",
   "metadata": {},
   "outputs": [
    {
     "data": {
      "text/plain": [
       "30"
      ]
     },
     "execution_count": 40,
     "metadata": {},
     "output_type": "execute_result"
    }
   ],
   "source": [
    "rectangle_area(10)"
   ]
  },
  {
   "cell_type": "code",
   "execution_count": 41,
   "id": "d3013bc2",
   "metadata": {},
   "outputs": [
    {
     "data": {
      "text/plain": [
       "50"
      ]
     },
     "execution_count": 41,
     "metadata": {},
     "output_type": "execute_result"
    }
   ],
   "source": [
    "rectangle_area(10, 5)"
   ]
  },
  {
   "cell_type": "markdown",
   "id": "87a2a20f",
   "metadata": {},
   "source": [
    "### Keyword Arguments"
   ]
  },
  {
   "cell_type": "code",
   "execution_count": 42,
   "id": "97e8dbca",
   "metadata": {},
   "outputs": [],
   "source": [
    "def rectangle_area(length, width):\n",
    "    \"\"\"Returning a rectangle's area.\"\"\"\n",
    "    return length * width"
   ]
  },
  {
   "cell_type": "code",
   "execution_count": 43,
   "id": "640c1bb9",
   "metadata": {},
   "outputs": [
    {
     "data": {
      "text/plain": [
       "50"
      ]
     },
     "execution_count": 43,
     "metadata": {},
     "output_type": "execute_result"
    }
   ],
   "source": [
    "rectangle_area(width = 5, length = 10)"
   ]
  },
  {
   "cell_type": "markdown",
   "id": "979bf40e",
   "metadata": {},
   "source": [
    "### Arbitrary Argument List"
   ]
  },
  {
   "cell_type": "code",
   "execution_count": 44,
   "id": "67b793a7",
   "metadata": {},
   "outputs": [],
   "source": [
    "def average(*args):\n",
    "    return sum(args) / len(args)"
   ]
  },
  {
   "cell_type": "code",
   "execution_count": 45,
   "id": "06ebc7e2",
   "metadata": {},
   "outputs": [
    {
     "data": {
      "text/plain": [
       "7.5"
      ]
     },
     "execution_count": 45,
     "metadata": {},
     "output_type": "execute_result"
    }
   ],
   "source": [
    "average(5, 10)"
   ]
  },
  {
   "cell_type": "code",
   "execution_count": 46,
   "id": "08560a7c",
   "metadata": {},
   "outputs": [
    {
     "data": {
      "text/plain": [
       "10.0"
      ]
     },
     "execution_count": 46,
     "metadata": {},
     "output_type": "execute_result"
    }
   ],
   "source": [
    "average(5, 10, 15)"
   ]
  },
  {
   "cell_type": "code",
   "execution_count": 47,
   "id": "5418eeec",
   "metadata": {},
   "outputs": [
    {
     "data": {
      "text/plain": [
       "12.5"
      ]
     },
     "execution_count": 47,
     "metadata": {},
     "output_type": "execute_result"
    }
   ],
   "source": [
    "average(5, 10, 15, 20)"
   ]
  },
  {
   "cell_type": "code",
   "execution_count": 48,
   "id": "ea9e089c",
   "metadata": {},
   "outputs": [
    {
     "ename": "TypeError",
     "evalue": "'int' object is not iterable",
     "output_type": "error",
     "traceback": [
      "\u001b[0;31m---------------------------------------------------------------------------\u001b[0m",
      "\u001b[0;31mTypeError\u001b[0m                                 Traceback (most recent call last)",
      "\u001b[0;32m/var/folders/x5/frnnlchj569_vyvfcshj1fv00000gn/T/ipykernel_34547/2023485250.py\u001b[0m in \u001b[0;36m<module>\u001b[0;34m\u001b[0m\n\u001b[0;32m----> 1\u001b[0;31m \u001b[0mmax\u001b[0m\u001b[0;34m(\u001b[0m\u001b[0;36m11\u001b[0m\u001b[0;34m)\u001b[0m\u001b[0;34m\u001b[0m\u001b[0;34m\u001b[0m\u001b[0m\n\u001b[0m",
      "\u001b[0;31mTypeError\u001b[0m: 'int' object is not iterable"
     ]
    }
   ],
   "source": [
    "max(11)"
   ]
  },
  {
   "cell_type": "code",
   "execution_count": 49,
   "id": "41aae7ed",
   "metadata": {},
   "outputs": [
    {
     "data": {
      "text/plain": [
       "22"
      ]
     },
     "execution_count": 49,
     "metadata": {},
     "output_type": "execute_result"
    }
   ],
   "source": [
    "max(11, 22)"
   ]
  },
  {
   "cell_type": "code",
   "execution_count": 50,
   "id": "5a6baf7a",
   "metadata": {},
   "outputs": [
    {
     "data": {
      "text/plain": [
       "36"
      ]
     },
     "execution_count": 50,
     "metadata": {},
     "output_type": "execute_result"
    }
   ],
   "source": [
    "max(12, 27, 36)"
   ]
  },
  {
   "cell_type": "code",
   "execution_count": 51,
   "id": "de5eaa59",
   "metadata": {},
   "outputs": [],
   "source": [
    "grades = [88, 75, 96, 55, 83]"
   ]
  },
  {
   "cell_type": "code",
   "execution_count": 52,
   "id": "eeaa563e",
   "metadata": {},
   "outputs": [
    {
     "data": {
      "text/plain": [
       "79.4"
      ]
     },
     "execution_count": 52,
     "metadata": {},
     "output_type": "execute_result"
    }
   ],
   "source": [
    "average(*grades)"
   ]
  },
  {
   "cell_type": "markdown",
   "id": "065b8241",
   "metadata": {},
   "source": [
    "### Methods: Functions that Belong to Objects"
   ]
  },
  {
   "cell_type": "code",
   "execution_count": 53,
   "id": "64f2a613",
   "metadata": {},
   "outputs": [],
   "source": [
    "s = 'Hello'"
   ]
  },
  {
   "cell_type": "code",
   "execution_count": 54,
   "id": "befbf989",
   "metadata": {},
   "outputs": [
    {
     "data": {
      "text/plain": [
       "'hello'"
      ]
     },
     "execution_count": 54,
     "metadata": {},
     "output_type": "execute_result"
    }
   ],
   "source": [
    "s.lower()"
   ]
  },
  {
   "cell_type": "code",
   "execution_count": 55,
   "id": "f312742c",
   "metadata": {},
   "outputs": [
    {
     "data": {
      "text/plain": [
       "'HELLO'"
      ]
     },
     "execution_count": 55,
     "metadata": {},
     "output_type": "execute_result"
    }
   ],
   "source": [
    "s.upper()"
   ]
  },
  {
   "cell_type": "code",
   "execution_count": 56,
   "id": "99b0fb85",
   "metadata": {},
   "outputs": [
    {
     "data": {
      "text/plain": [
       "'Hello'"
      ]
     },
     "execution_count": 56,
     "metadata": {},
     "output_type": "execute_result"
    }
   ],
   "source": [
    "s"
   ]
  },
  {
   "cell_type": "markdown",
   "id": "14f9c141",
   "metadata": {},
   "source": [
    "### Scope Rules"
   ]
  },
  {
   "cell_type": "markdown",
   "id": "7621f20a",
   "metadata": {},
   "source": [
    "Local Scope\n",
    "\n",
    "Global Scope"
   ]
  },
  {
   "cell_type": "code",
   "execution_count": 58,
   "id": "6a670439",
   "metadata": {},
   "outputs": [],
   "source": [
    "x = 7"
   ]
  },
  {
   "cell_type": "code",
   "execution_count": 59,
   "id": "a9f081cb",
   "metadata": {},
   "outputs": [],
   "source": [
    "def access_global():\n",
    "    print('x printed from access_global:', x)"
   ]
  },
  {
   "cell_type": "code",
   "execution_count": 60,
   "id": "a2caea81",
   "metadata": {},
   "outputs": [
    {
     "name": "stdout",
     "output_type": "stream",
     "text": [
      "x printed from access_global: 7\n"
     ]
    }
   ],
   "source": [
    "access_global()"
   ]
  },
  {
   "cell_type": "code",
   "execution_count": 61,
   "id": "c774b0b2",
   "metadata": {},
   "outputs": [],
   "source": [
    "def try_to_modify_global():\n",
    "    x = 3.5\n",
    "    print('x printed from try_to_modify_global:', x)"
   ]
  },
  {
   "cell_type": "code",
   "execution_count": 62,
   "id": "557df456",
   "metadata": {},
   "outputs": [
    {
     "name": "stdout",
     "output_type": "stream",
     "text": [
      "x printed from try_to_modify_global: 3.5\n"
     ]
    }
   ],
   "source": [
    "try_to_modify_global()"
   ]
  },
  {
   "cell_type": "code",
   "execution_count": 63,
   "id": "2b87d17b",
   "metadata": {},
   "outputs": [
    {
     "data": {
      "text/plain": [
       "7"
      ]
     },
     "execution_count": 63,
     "metadata": {},
     "output_type": "execute_result"
    }
   ],
   "source": [
    "x"
   ]
  },
  {
   "cell_type": "code",
   "execution_count": 64,
   "id": "d12debf0",
   "metadata": {},
   "outputs": [],
   "source": [
    "def modify_global():\n",
    "    global x;\n",
    "    x = 'hello'\n",
    "    print('x printed from modify_global:', x)"
   ]
  },
  {
   "cell_type": "code",
   "execution_count": 65,
   "id": "182e0c94",
   "metadata": {},
   "outputs": [
    {
     "name": "stdout",
     "output_type": "stream",
     "text": [
      "x printed from modify_global: hello\n"
     ]
    }
   ],
   "source": [
    "modify_global()"
   ]
  },
  {
   "cell_type": "code",
   "execution_count": 66,
   "id": "a8439f57",
   "metadata": {},
   "outputs": [
    {
     "data": {
      "text/plain": [
       "'hello'"
      ]
     },
     "execution_count": 66,
     "metadata": {},
     "output_type": "execute_result"
    }
   ],
   "source": [
    "x"
   ]
  },
  {
   "cell_type": "markdown",
   "id": "a9cc6d7c",
   "metadata": {},
   "source": [
    "### import: A Deeper Look"
   ]
  },
  {
   "cell_type": "code",
   "execution_count": 67,
   "id": "b6561a64",
   "metadata": {},
   "outputs": [],
   "source": [
    "from math import ceil, floor"
   ]
  },
  {
   "cell_type": "code",
   "execution_count": 68,
   "id": "e76ec4dd",
   "metadata": {},
   "outputs": [
    {
     "data": {
      "text/plain": [
       "11"
      ]
     },
     "execution_count": 68,
     "metadata": {},
     "output_type": "execute_result"
    }
   ],
   "source": [
    "ceil(10.3)"
   ]
  },
  {
   "cell_type": "code",
   "execution_count": 69,
   "id": "475093a0",
   "metadata": {},
   "outputs": [
    {
     "data": {
      "text/plain": [
       "10"
      ]
     },
     "execution_count": 69,
     "metadata": {},
     "output_type": "execute_result"
    }
   ],
   "source": [
    "floor(10.7)"
   ]
  },
  {
   "cell_type": "code",
   "execution_count": 70,
   "id": "eda0708d",
   "metadata": {},
   "outputs": [],
   "source": [
    "e = 'hello'"
   ]
  },
  {
   "cell_type": "code",
   "execution_count": 71,
   "id": "a0187f24",
   "metadata": {},
   "outputs": [],
   "source": [
    "from math import *"
   ]
  },
  {
   "cell_type": "code",
   "execution_count": 72,
   "id": "65bb7298",
   "metadata": {},
   "outputs": [
    {
     "data": {
      "text/plain": [
       "2.718281828459045"
      ]
     },
     "execution_count": 72,
     "metadata": {},
     "output_type": "execute_result"
    }
   ],
   "source": [
    "e"
   ]
  },
  {
   "cell_type": "code",
   "execution_count": 73,
   "id": "00ff97c9",
   "metadata": {},
   "outputs": [],
   "source": [
    "import statistics as stats"
   ]
  },
  {
   "cell_type": "code",
   "execution_count": 74,
   "id": "12c0e9fc",
   "metadata": {},
   "outputs": [],
   "source": [
    "grades = [85, 93, 45, 87, 93]"
   ]
  },
  {
   "cell_type": "code",
   "execution_count": 75,
   "id": "3fe1b10a",
   "metadata": {},
   "outputs": [
    {
     "data": {
      "text/plain": [
       "80.6"
      ]
     },
     "execution_count": 75,
     "metadata": {},
     "output_type": "execute_result"
    }
   ],
   "source": [
    "stats.mean(grades)"
   ]
  },
  {
   "cell_type": "markdown",
   "id": "8c24187e",
   "metadata": {},
   "source": [
    "### Build your own functions"
   ]
  },
  {
   "cell_type": "code",
   "execution_count": 76,
   "id": "9b8deb41",
   "metadata": {},
   "outputs": [],
   "source": [
    "def my_product(*args):\n",
    "    if len(args) == 0:\n",
    "        return 0\n",
    "    res = 1\n",
    "    for x in args:\n",
    "        res *= x\n",
    "    return res"
   ]
  },
  {
   "cell_type": "code",
   "execution_count": 77,
   "id": "1e912cbb",
   "metadata": {},
   "outputs": [
    {
     "data": {
      "text/plain": [
       "420"
      ]
     },
     "execution_count": 77,
     "metadata": {},
     "output_type": "execute_result"
    }
   ],
   "source": [
    "my_product(6, 10, 7)"
   ]
  },
  {
   "cell_type": "code",
   "execution_count": 78,
   "id": "607e7f51",
   "metadata": {},
   "outputs": [
    {
     "data": {
      "text/plain": [
       "0"
      ]
     },
     "execution_count": 78,
     "metadata": {},
     "output_type": "execute_result"
    }
   ],
   "source": [
    "my_product()"
   ]
  },
  {
   "cell_type": "code",
   "execution_count": 79,
   "id": "84738431",
   "metadata": {},
   "outputs": [
    {
     "data": {
      "text/plain": [
       "5"
      ]
     },
     "execution_count": 79,
     "metadata": {},
     "output_type": "execute_result"
    }
   ],
   "source": [
    "my_product(5)"
   ]
  },
  {
   "cell_type": "code",
   "execution_count": 80,
   "id": "e1443bf8",
   "metadata": {},
   "outputs": [
    {
     "data": {
      "text/plain": [
       "0"
      ]
     },
     "execution_count": 80,
     "metadata": {},
     "output_type": "execute_result"
    }
   ],
   "source": [
    "my_product(0, 19, 6)"
   ]
  },
  {
   "cell_type": "code",
   "execution_count": 81,
   "id": "a0233e4b",
   "metadata": {},
   "outputs": [
    {
     "data": {
      "text/plain": [
       "108"
      ]
     },
     "execution_count": 81,
     "metadata": {},
     "output_type": "execute_result"
    }
   ],
   "source": [
    "my_product(9, 2, 3, 2)"
   ]
  },
  {
   "cell_type": "code",
   "execution_count": 82,
   "id": "8a3a8549",
   "metadata": {},
   "outputs": [],
   "source": [
    "import numpy as np\n",
    "def my_product2(*args):\n",
    "    if len(args) == 0:\n",
    "        return 0\n",
    "    return np.prod(args)"
   ]
  },
  {
   "cell_type": "code",
   "execution_count": 83,
   "id": "d59a8451",
   "metadata": {},
   "outputs": [
    {
     "data": {
      "text/plain": [
       "0"
      ]
     },
     "execution_count": 83,
     "metadata": {},
     "output_type": "execute_result"
    }
   ],
   "source": [
    "my_product2()"
   ]
  },
  {
   "cell_type": "code",
   "execution_count": 84,
   "id": "7c7bef86",
   "metadata": {},
   "outputs": [
    {
     "data": {
      "text/plain": [
       "30"
      ]
     },
     "execution_count": 84,
     "metadata": {},
     "output_type": "execute_result"
    }
   ],
   "source": [
    "my_product2(2, 5, 3)"
   ]
  },
  {
   "cell_type": "code",
   "execution_count": 85,
   "id": "aa82c4d4",
   "metadata": {},
   "outputs": [
    {
     "data": {
      "text/plain": [
       "210"
      ]
     },
     "execution_count": 85,
     "metadata": {},
     "output_type": "execute_result"
    }
   ],
   "source": [
    "my_product2(2, 7, 5, 3)"
   ]
  },
  {
   "cell_type": "markdown",
   "id": "5d95f65f",
   "metadata": {},
   "source": [
    "### Build and import your own functions"
   ]
  },
  {
   "cell_type": "code",
   "execution_count": 94,
   "id": "dee83e7c",
   "metadata": {},
   "outputs": [],
   "source": [
    "import my_function"
   ]
  },
  {
   "cell_type": "code",
   "execution_count": 87,
   "id": "f3cb1605",
   "metadata": {},
   "outputs": [
    {
     "data": {
      "text/plain": [
       "0"
      ]
     },
     "execution_count": 87,
     "metadata": {},
     "output_type": "execute_result"
    }
   ],
   "source": [
    "my_function.my_product()"
   ]
  },
  {
   "cell_type": "code",
   "execution_count": 88,
   "id": "4c7a927a",
   "metadata": {},
   "outputs": [
    {
     "data": {
      "text/plain": [
       "210"
      ]
     },
     "execution_count": 88,
     "metadata": {},
     "output_type": "execute_result"
    }
   ],
   "source": [
    "my_function.my_product(5, 6, 7)"
   ]
  },
  {
   "cell_type": "code",
   "execution_count": 89,
   "id": "5d9492b2",
   "metadata": {},
   "outputs": [],
   "source": [
    "final_result = my_function.my_product(9, 8, 2)"
   ]
  },
  {
   "cell_type": "code",
   "execution_count": 90,
   "id": "d233623f",
   "metadata": {},
   "outputs": [
    {
     "data": {
      "text/plain": [
       "144"
      ]
     },
     "execution_count": 90,
     "metadata": {},
     "output_type": "execute_result"
    }
   ],
   "source": [
    "final_result"
   ]
  },
  {
   "cell_type": "code",
   "execution_count": 91,
   "id": "f030ea53",
   "metadata": {},
   "outputs": [
    {
     "data": {
      "text/plain": [
       "0"
      ]
     },
     "execution_count": 91,
     "metadata": {},
     "output_type": "execute_result"
    }
   ],
   "source": [
    "my_function.my_product2()"
   ]
  },
  {
   "cell_type": "code",
   "execution_count": 92,
   "id": "cf3a8219",
   "metadata": {},
   "outputs": [
    {
     "data": {
      "text/plain": [
       "210"
      ]
     },
     "execution_count": 92,
     "metadata": {},
     "output_type": "execute_result"
    }
   ],
   "source": [
    "my_function.my_product2(5, 6, 7)"
   ]
  },
  {
   "cell_type": "code",
   "execution_count": 93,
   "id": "21a82b47",
   "metadata": {},
   "outputs": [],
   "source": [
    "final_result = my_function.my_product2(9, 8, 2)"
   ]
  },
  {
   "cell_type": "code",
   "execution_count": 95,
   "id": "fd6d8be3",
   "metadata": {},
   "outputs": [
    {
     "data": {
      "text/plain": [
       "144"
      ]
     },
     "execution_count": 95,
     "metadata": {},
     "output_type": "execute_result"
    }
   ],
   "source": [
    "final_result"
   ]
  },
  {
   "cell_type": "code",
   "execution_count": 96,
   "id": "c7d607e1",
   "metadata": {},
   "outputs": [],
   "source": [
    "def product_user_input():\n",
    "    \"\"\"Calculate product of the arguments.\"\"\"\n",
    "    product = input('Please enter a number (enter \"end\" to end): ')\n",
    "    \n",
    "    if product == 'end':\n",
    "        return('No number is entered!')\n",
    "    else:\n",
    "        product = int(product)\n",
    "        product = product * 1\n",
    "        \n",
    "        number = input('Please enter a number (enter \"end\" to end): ')\n",
    "        \n",
    "        if number == 'end':\n",
    "            return product\n",
    "        else:\n",
    "            while number != 'end':\n",
    "                number = int(number)\n",
    "                product *= number\n",
    "                number = input('Please enter a number (enter \"end\" to end): ')\n",
    "                \n",
    "            return product"
   ]
  },
  {
   "cell_type": "code",
   "execution_count": 97,
   "id": "2c50f601",
   "metadata": {},
   "outputs": [
    {
     "name": "stdout",
     "output_type": "stream",
     "text": [
      "Please enter a number (enter \"end\" to end): end\n"
     ]
    },
    {
     "data": {
      "text/plain": [
       "'No number is entered!'"
      ]
     },
     "execution_count": 97,
     "metadata": {},
     "output_type": "execute_result"
    }
   ],
   "source": [
    "product_user_input()"
   ]
  },
  {
   "cell_type": "markdown",
   "id": "3e507012",
   "metadata": {},
   "source": [
    "## Textbook Exercises"
   ]
  },
  {
   "cell_type": "markdown",
   "id": "d69da91f",
   "metadata": {},
   "source": [
    "### 4.3"
   ]
  },
  {
   "cell_type": "code",
   "execution_count": 98,
   "id": "6b16d665",
   "metadata": {},
   "outputs": [
    {
     "name": "stdout",
     "output_type": "stream",
     "text": [
      "The cube of 2 is None\n"
     ]
    }
   ],
   "source": [
    "def cube(x):\n",
    "    \"\"\"Calculate the cube of x.\"\"\"\n",
    "    x ** 3\n",
    "print('The cube of 2 is', cube(2))"
   ]
  },
  {
   "cell_type": "markdown",
   "id": "f297400b",
   "metadata": {},
   "source": [
    "The above code does not have a return statement. The correct code should be:"
   ]
  },
  {
   "cell_type": "code",
   "execution_count": 99,
   "id": "bc9c3b22",
   "metadata": {},
   "outputs": [
    {
     "name": "stdout",
     "output_type": "stream",
     "text": [
      "The cube of 2 is 8\n"
     ]
    }
   ],
   "source": [
    "def cube(x):\n",
    "    \"\"\"Calculate the cube of x.\"\"\"\n",
    "    return x ** 3\n",
    "print('The cube of 2 is', cube(2))"
   ]
  },
  {
   "cell_type": "markdown",
   "id": "e722bcd8",
   "metadata": {},
   "source": [
    "### 4.4"
   ]
  },
  {
   "cell_type": "code",
   "execution_count": 100,
   "id": "7e7e0f68",
   "metadata": {},
   "outputs": [
    {
     "data": {
      "text/plain": [
       "55"
      ]
     },
     "execution_count": 100,
     "metadata": {},
     "output_type": "execute_result"
    }
   ],
   "source": [
    "def mystery(x):\n",
    "    y=0\n",
    "    for value in x:\n",
    "        y += value ** 2\n",
    "    return y\n",
    "mystery([1, 2, 3, 4, 5])"
   ]
  },
  {
   "cell_type": "markdown",
   "id": "492750cf",
   "metadata": {},
   "source": [
    "The mystery function calculates the sum of the square of each element from the input."
   ]
  },
  {
   "cell_type": "markdown",
   "id": "adf4dc07",
   "metadata": {},
   "source": [
    "### 4.5"
   ]
  },
  {
   "cell_type": "code",
   "execution_count": 101,
   "id": "6137723c",
   "metadata": {},
   "outputs": [
    {
     "data": {
      "text/plain": [
       "48645"
      ]
     },
     "execution_count": 101,
     "metadata": {},
     "output_type": "execute_result"
    }
   ],
   "source": [
    "def seconds_since_midnight(h, m, s):\n",
    "    hour_in_seconds = h * 60 * 60\n",
    "    minute_in_seconds = m * 60\n",
    "    return (hour_in_seconds + minute_in_seconds + s)\n",
    "\n",
    "seconds_since_midnight(13, 30, 45)"
   ]
  },
  {
   "cell_type": "markdown",
   "id": "26a431b0",
   "metadata": {},
   "source": [
    "## Q1 & Q2"
   ]
  },
  {
   "cell_type": "markdown",
   "id": "f6283379",
   "metadata": {},
   "source": [
    "### Q1: Use a loop to find the two largest values of 10 numbers entered."
   ]
  },
  {
   "cell_type": "code",
   "execution_count": 102,
   "id": "f6800103",
   "metadata": {},
   "outputs": [
    {
     "name": "stdout",
     "output_type": "stream",
     "text": [
      "Enter number: 1\n",
      "Enter number: 3\n",
      "Enter number: 2\n",
      "Enter number: 5\n",
      "Enter number: 6\n",
      "Enter number: 39\n",
      "Enter number: 29\n",
      "Enter number: 39\n",
      "Enter number: 40\n",
      "Enter number: 2\n",
      "The two largest values are:  40 39\n"
     ]
    }
   ],
   "source": [
    "# initialize variables\n",
    "num1 = -inf\n",
    "num2 = -inf\n",
    "\n",
    "#process 10 numbers\n",
    "for number in range(10):\n",
    "    # get one number\n",
    "    value = int(input('Enter number: '))\n",
    "    if value > num1:\n",
    "        num2 = num1\n",
    "        num1 = value\n",
    "    elif value < num1 and value > num2:\n",
    "        num2 = value\n",
    "    \n",
    "print('The two largest values are: ', num1, num2)"
   ]
  },
  {
   "cell_type": "markdown",
   "id": "6dc8abbf",
   "metadata": {},
   "source": [
    "### Q2: Use a loop to find the two largest values of any positive numbers entered (assume people will always enter positive number if they don’t want to end)"
   ]
  },
  {
   "cell_type": "code",
   "execution_count": 103,
   "id": "e3781cd4",
   "metadata": {},
   "outputs": [
    {
     "name": "stdout",
     "output_type": "stream",
     "text": [
      "Enter number: 1\n",
      "Enter number: 3\n",
      "Enter number: 2\n",
      "Enter number: 5\n",
      "Enter number: 4\n",
      "Enter number: 7\n",
      "Enter number: 8\n",
      "Enter number: 6\n",
      "Enter number: 4\n",
      "Enter number: 50\n",
      "Enter number: 38\n",
      "Enter number: 29\n",
      "Enter number: 47\n",
      "Enter number: -1\n",
      "The two largest values are:  50 47\n"
     ]
    }
   ],
   "source": [
    "# initialize variables\n",
    "num1 = -inf\n",
    "num2 = -inf\n",
    "\n",
    "#process numbers entered\n",
    "while value > 0:\n",
    "    # get one number\n",
    "    value = int(input('Enter number: '))\n",
    "    if value > num1:\n",
    "        num2 = num1\n",
    "        num1 = value\n",
    "    elif value < num1 and value > num2:\n",
    "        num2 = value\n",
    "\n",
    "print('The two largest values are: ', num1, num2)"
   ]
  }
 ],
 "metadata": {
  "kernelspec": {
   "display_name": "Python 3 (ipykernel)",
   "language": "python",
   "name": "python3"
  },
  "language_info": {
   "codemirror_mode": {
    "name": "ipython",
    "version": 3
   },
   "file_extension": ".py",
   "mimetype": "text/x-python",
   "name": "python",
   "nbconvert_exporter": "python",
   "pygments_lexer": "ipython3",
   "version": "3.7.4"
  }
 },
 "nbformat": 4,
 "nbformat_minor": 5
}
