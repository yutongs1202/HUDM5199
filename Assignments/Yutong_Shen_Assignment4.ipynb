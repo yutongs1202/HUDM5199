{
 "cells": [
  {
   "cell_type": "markdown",
   "id": "43c7cd25",
   "metadata": {},
   "source": [
    "## HUDM 5199 - Spring 2022"
   ]
  },
  {
   "cell_type": "markdown",
   "id": "872ad16d",
   "metadata": {},
   "source": [
    "## Yutong Shen, ys3453"
   ]
  },
  {
   "cell_type": "markdown",
   "id": "a3371d10",
   "metadata": {},
   "source": [
    "## HW4 - March 2, 2022"
   ]
  },
  {
   "cell_type": "markdown",
   "id": "6e2fcf63",
   "metadata": {},
   "source": [
    "## Session 6"
   ]
  },
  {
   "cell_type": "markdown",
   "id": "0b57bcfe",
   "metadata": {},
   "source": [
    "### 8. Seaching Sequences"
   ]
  },
  {
   "cell_type": "markdown",
   "id": "4515afb7",
   "metadata": {},
   "source": [
    "**Using Operator in to Prevent a ValueError**"
   ]
  },
  {
   "cell_type": "code",
   "execution_count": 1,
   "id": "0040e1ce",
   "metadata": {},
   "outputs": [],
   "source": [
    "numbers = [3, 7, 1, 4, 2, 8, 5, 6, 3, 7, 1, 4, 2, 8, 5, 6]"
   ]
  },
  {
   "cell_type": "code",
   "execution_count": 2,
   "id": "1dbbff05",
   "metadata": {},
   "outputs": [],
   "source": [
    "key = 2"
   ]
  },
  {
   "cell_type": "code",
   "execution_count": 3,
   "id": "2c7730b1",
   "metadata": {},
   "outputs": [
    {
     "name": "stdout",
     "output_type": "stream",
     "text": [
      "found 2 at index 4\n"
     ]
    }
   ],
   "source": [
    "if key in numbers:\n",
    "    print(f'found {key} at index {numbers.index(key)}')\n",
    "else:\n",
    "    print(f'{key} not found')"
   ]
  },
  {
   "cell_type": "code",
   "execution_count": 4,
   "id": "4d43962c",
   "metadata": {},
   "outputs": [],
   "source": [
    "key = 100"
   ]
  },
  {
   "cell_type": "code",
   "execution_count": 5,
   "id": "7c9d8527",
   "metadata": {},
   "outputs": [
    {
     "name": "stdout",
     "output_type": "stream",
     "text": [
      "100 not found\n"
     ]
    }
   ],
   "source": [
    "if key in numbers:\n",
    "    print(f'found {key} at index {numbers.index(key)}')\n",
    "else:\n",
    "    print(f'{key} not found')"
   ]
  },
  {
   "cell_type": "markdown",
   "id": "ffadcfbf",
   "metadata": {},
   "source": [
    "### 9. Other List Methods"
   ]
  },
  {
   "cell_type": "code",
   "execution_count": 6,
   "id": "40698ffb",
   "metadata": {},
   "outputs": [],
   "source": [
    "color_names = ['orange', 'yellow', 'green']"
   ]
  },
  {
   "cell_type": "markdown",
   "id": "22568238",
   "metadata": {},
   "source": [
    "**Inserting an Element at a Specific List Index**"
   ]
  },
  {
   "cell_type": "code",
   "execution_count": 7,
   "id": "e973e2b9",
   "metadata": {},
   "outputs": [],
   "source": [
    "color_names.insert(0, 'red')"
   ]
  },
  {
   "cell_type": "code",
   "execution_count": 8,
   "id": "eeee087e",
   "metadata": {},
   "outputs": [
    {
     "data": {
      "text/plain": [
       "['red', 'orange', 'yellow', 'green']"
      ]
     },
     "execution_count": 8,
     "metadata": {},
     "output_type": "execute_result"
    }
   ],
   "source": [
    "color_names"
   ]
  },
  {
   "cell_type": "markdown",
   "id": "a8b8f7be",
   "metadata": {},
   "source": [
    "**Adding an Element to the End of a List**"
   ]
  },
  {
   "cell_type": "code",
   "execution_count": 9,
   "id": "2f393a3d",
   "metadata": {},
   "outputs": [],
   "source": [
    "color_names.append('blue')"
   ]
  },
  {
   "cell_type": "code",
   "execution_count": 10,
   "id": "eb91be74",
   "metadata": {},
   "outputs": [
    {
     "data": {
      "text/plain": [
       "['red', 'orange', 'yellow', 'green', 'blue']"
      ]
     },
     "execution_count": 10,
     "metadata": {},
     "output_type": "execute_result"
    }
   ],
   "source": [
    "color_names"
   ]
  },
  {
   "cell_type": "markdown",
   "id": "63b2010e",
   "metadata": {},
   "source": [
    "**Adding All the Elements of a Sequence to the End of a List**"
   ]
  },
  {
   "cell_type": "code",
   "execution_count": 11,
   "id": "c05491b2",
   "metadata": {},
   "outputs": [],
   "source": [
    "color_names.extend(['indigo', 'violet'])"
   ]
  },
  {
   "cell_type": "code",
   "execution_count": 12,
   "id": "fb7da1ba",
   "metadata": {},
   "outputs": [
    {
     "data": {
      "text/plain": [
       "['red', 'orange', 'yellow', 'green', 'blue', 'indigo', 'violet']"
      ]
     },
     "execution_count": 12,
     "metadata": {},
     "output_type": "execute_result"
    }
   ],
   "source": [
    "color_names"
   ]
  },
  {
   "cell_type": "code",
   "execution_count": 13,
   "id": "39e604e4",
   "metadata": {},
   "outputs": [],
   "source": [
    "sample_list = []"
   ]
  },
  {
   "cell_type": "code",
   "execution_count": 14,
   "id": "d81773be",
   "metadata": {},
   "outputs": [],
   "source": [
    "s = 'abc'"
   ]
  },
  {
   "cell_type": "code",
   "execution_count": 15,
   "id": "25e5465d",
   "metadata": {},
   "outputs": [],
   "source": [
    "sample_list.extend(s)"
   ]
  },
  {
   "cell_type": "code",
   "execution_count": 16,
   "id": "b8d7b442",
   "metadata": {},
   "outputs": [
    {
     "data": {
      "text/plain": [
       "['a', 'b', 'c']"
      ]
     },
     "execution_count": 16,
     "metadata": {},
     "output_type": "execute_result"
    }
   ],
   "source": [
    "sample_list"
   ]
  },
  {
   "cell_type": "code",
   "execution_count": 17,
   "id": "2610707c",
   "metadata": {},
   "outputs": [],
   "source": [
    "t = (1, 2, 3)"
   ]
  },
  {
   "cell_type": "code",
   "execution_count": 18,
   "id": "be7a6a6b",
   "metadata": {},
   "outputs": [],
   "source": [
    "sample_list.extend(t)"
   ]
  },
  {
   "cell_type": "code",
   "execution_count": 19,
   "id": "ba38c2e5",
   "metadata": {},
   "outputs": [
    {
     "data": {
      "text/plain": [
       "['a', 'b', 'c', 1, 2, 3]"
      ]
     },
     "execution_count": 19,
     "metadata": {},
     "output_type": "execute_result"
    }
   ],
   "source": [
    "sample_list"
   ]
  },
  {
   "cell_type": "code",
   "execution_count": 20,
   "id": "28122ba4",
   "metadata": {},
   "outputs": [],
   "source": [
    "sample_list.extend((4, 5, 6))"
   ]
  },
  {
   "cell_type": "code",
   "execution_count": 21,
   "id": "e7be702e",
   "metadata": {},
   "outputs": [
    {
     "data": {
      "text/plain": [
       "['a', 'b', 'c', 1, 2, 3, 4, 5, 6]"
      ]
     },
     "execution_count": 21,
     "metadata": {},
     "output_type": "execute_result"
    }
   ],
   "source": [
    "sample_list"
   ]
  },
  {
   "cell_type": "markdown",
   "id": "7981a91b",
   "metadata": {},
   "source": [
    "**Removing the First Occurrence of an Element in a List**"
   ]
  },
  {
   "cell_type": "code",
   "execution_count": 22,
   "id": "96ab8748",
   "metadata": {},
   "outputs": [],
   "source": [
    "color_names.remove('green')"
   ]
  },
  {
   "cell_type": "code",
   "execution_count": 23,
   "id": "6d3fe384",
   "metadata": {},
   "outputs": [
    {
     "data": {
      "text/plain": [
       "['red', 'orange', 'yellow', 'blue', 'indigo', 'violet']"
      ]
     },
     "execution_count": 23,
     "metadata": {},
     "output_type": "execute_result"
    }
   ],
   "source": [
    "color_names"
   ]
  },
  {
   "cell_type": "markdown",
   "id": "3fb4bacf",
   "metadata": {},
   "source": [
    "**Emptying a List**"
   ]
  },
  {
   "cell_type": "code",
   "execution_count": 24,
   "id": "6135357b",
   "metadata": {},
   "outputs": [],
   "source": [
    "color_names.clear()"
   ]
  },
  {
   "cell_type": "code",
   "execution_count": 25,
   "id": "55d46272",
   "metadata": {},
   "outputs": [
    {
     "data": {
      "text/plain": [
       "[]"
      ]
     },
     "execution_count": 25,
     "metadata": {},
     "output_type": "execute_result"
    }
   ],
   "source": [
    "color_names"
   ]
  },
  {
   "cell_type": "markdown",
   "id": "bfea7c6c",
   "metadata": {},
   "source": [
    "**Counting the Number of Occurrences of an Item**"
   ]
  },
  {
   "cell_type": "code",
   "execution_count": 26,
   "id": "d1324dbf",
   "metadata": {},
   "outputs": [],
   "source": [
    "responses = [1, 2, 5, 4, 3, 5, 2, 1, 3, 3,\n",
    "             1, 4, 3, 3, 3, 2, 3, 3, 2, 2]"
   ]
  },
  {
   "cell_type": "code",
   "execution_count": 27,
   "id": "34a66b8d",
   "metadata": {},
   "outputs": [
    {
     "name": "stdout",
     "output_type": "stream",
     "text": [
      "1 appears 3 times in responses\n",
      "2 appears 5 times in responses\n",
      "3 appears 8 times in responses\n",
      "4 appears 2 times in responses\n",
      "5 appears 2 times in responses\n"
     ]
    }
   ],
   "source": [
    "for i in range(1, 6):\n",
    "    print(f'{i} appears {responses.count(i)} times in responses')"
   ]
  },
  {
   "cell_type": "markdown",
   "id": "f8194561",
   "metadata": {},
   "source": [
    "**Reversing a List's Elements**"
   ]
  },
  {
   "cell_type": "code",
   "execution_count": 28,
   "id": "048f31ef",
   "metadata": {},
   "outputs": [],
   "source": [
    "color_names = ['red', 'orange', 'yellow', 'green', 'blue']"
   ]
  },
  {
   "cell_type": "code",
   "execution_count": 29,
   "id": "8d73b22f",
   "metadata": {},
   "outputs": [],
   "source": [
    "color_names.reverse()"
   ]
  },
  {
   "cell_type": "code",
   "execution_count": 30,
   "id": "44e6d0f6",
   "metadata": {},
   "outputs": [
    {
     "data": {
      "text/plain": [
       "['blue', 'green', 'yellow', 'orange', 'red']"
      ]
     },
     "execution_count": 30,
     "metadata": {},
     "output_type": "execute_result"
    }
   ],
   "source": [
    "color_names"
   ]
  },
  {
   "cell_type": "markdown",
   "id": "961fe6d3",
   "metadata": {},
   "source": [
    "**Copying a List**"
   ]
  },
  {
   "cell_type": "code",
   "execution_count": 31,
   "id": "6c578d55",
   "metadata": {},
   "outputs": [],
   "source": [
    "copied_list = color_names.copy()"
   ]
  },
  {
   "cell_type": "code",
   "execution_count": 32,
   "id": "3739a069",
   "metadata": {},
   "outputs": [
    {
     "data": {
      "text/plain": [
       "['blue', 'green', 'yellow', 'orange', 'red']"
      ]
     },
     "execution_count": 32,
     "metadata": {},
     "output_type": "execute_result"
    }
   ],
   "source": [
    "copied_list"
   ]
  },
  {
   "cell_type": "markdown",
   "id": "564f2e88",
   "metadata": {},
   "source": [
    "### 10. Simulating Stacks with Lists"
   ]
  },
  {
   "cell_type": "code",
   "execution_count": 33,
   "id": "d42fbb74",
   "metadata": {},
   "outputs": [],
   "source": [
    "stack = []"
   ]
  },
  {
   "cell_type": "code",
   "execution_count": 34,
   "id": "86448a4d",
   "metadata": {},
   "outputs": [],
   "source": [
    "stack.append('red')"
   ]
  },
  {
   "cell_type": "code",
   "execution_count": 35,
   "id": "d5d8712d",
   "metadata": {},
   "outputs": [
    {
     "data": {
      "text/plain": [
       "['red']"
      ]
     },
     "execution_count": 35,
     "metadata": {},
     "output_type": "execute_result"
    }
   ],
   "source": [
    "stack"
   ]
  },
  {
   "cell_type": "code",
   "execution_count": 36,
   "id": "c8e41d73",
   "metadata": {},
   "outputs": [],
   "source": [
    "stack.append('green')"
   ]
  },
  {
   "cell_type": "code",
   "execution_count": 37,
   "id": "4af47792",
   "metadata": {},
   "outputs": [
    {
     "data": {
      "text/plain": [
       "['red', 'green']"
      ]
     },
     "execution_count": 37,
     "metadata": {},
     "output_type": "execute_result"
    }
   ],
   "source": [
    "stack"
   ]
  },
  {
   "cell_type": "code",
   "execution_count": 38,
   "id": "8dbe8a16",
   "metadata": {},
   "outputs": [
    {
     "data": {
      "text/plain": [
       "'green'"
      ]
     },
     "execution_count": 38,
     "metadata": {},
     "output_type": "execute_result"
    }
   ],
   "source": [
    "stack.pop()"
   ]
  },
  {
   "cell_type": "code",
   "execution_count": 39,
   "id": "2d36d1ac",
   "metadata": {},
   "outputs": [
    {
     "data": {
      "text/plain": [
       "['red']"
      ]
     },
     "execution_count": 39,
     "metadata": {},
     "output_type": "execute_result"
    }
   ],
   "source": [
    "stack"
   ]
  },
  {
   "cell_type": "code",
   "execution_count": 40,
   "id": "d9b61027",
   "metadata": {},
   "outputs": [
    {
     "data": {
      "text/plain": [
       "'red'"
      ]
     },
     "execution_count": 40,
     "metadata": {},
     "output_type": "execute_result"
    }
   ],
   "source": [
    "stack.pop()"
   ]
  },
  {
   "cell_type": "code",
   "execution_count": 41,
   "id": "78aef90a",
   "metadata": {},
   "outputs": [
    {
     "data": {
      "text/plain": [
       "[]"
      ]
     },
     "execution_count": 41,
     "metadata": {},
     "output_type": "execute_result"
    }
   ],
   "source": [
    "stack"
   ]
  },
  {
   "cell_type": "code",
   "execution_count": 42,
   "id": "85b9ed0c",
   "metadata": {},
   "outputs": [
    {
     "ename": "IndexError",
     "evalue": "pop from empty list",
     "output_type": "error",
     "traceback": [
      "\u001b[0;31m---------------------------------------------------------------------------\u001b[0m",
      "\u001b[0;31mIndexError\u001b[0m                                Traceback (most recent call last)",
      "\u001b[0;32m/var/folders/x5/frnnlchj569_vyvfcshj1fv00000gn/T/ipykernel_52436/2667379430.py\u001b[0m in \u001b[0;36m<module>\u001b[0;34m\u001b[0m\n\u001b[0;32m----> 1\u001b[0;31m \u001b[0mstack\u001b[0m\u001b[0;34m.\u001b[0m\u001b[0mpop\u001b[0m\u001b[0;34m(\u001b[0m\u001b[0;34m)\u001b[0m\u001b[0;34m\u001b[0m\u001b[0;34m\u001b[0m\u001b[0m\n\u001b[0m",
      "\u001b[0;31mIndexError\u001b[0m: pop from empty list"
     ]
    }
   ],
   "source": [
    "stack.pop()"
   ]
  },
  {
   "cell_type": "markdown",
   "id": "226165c2",
   "metadata": {},
   "source": [
    "### 11. List Comprehensions"
   ]
  },
  {
   "cell_type": "code",
   "execution_count": 43,
   "id": "e6c5d045",
   "metadata": {},
   "outputs": [],
   "source": [
    "list1 = []"
   ]
  },
  {
   "cell_type": "code",
   "execution_count": 44,
   "id": "6e87d2a5",
   "metadata": {},
   "outputs": [],
   "source": [
    "for item in range(1, 6):\n",
    "    list1.append(item)"
   ]
  },
  {
   "cell_type": "code",
   "execution_count": 45,
   "id": "f076db70",
   "metadata": {},
   "outputs": [
    {
     "data": {
      "text/plain": [
       "[1, 2, 3, 4, 5]"
      ]
     },
     "execution_count": 45,
     "metadata": {},
     "output_type": "execute_result"
    }
   ],
   "source": [
    "list1"
   ]
  },
  {
   "cell_type": "code",
   "execution_count": 46,
   "id": "3ccebe82",
   "metadata": {},
   "outputs": [],
   "source": [
    "list2 = [item for item in range(1, 6)]"
   ]
  },
  {
   "cell_type": "code",
   "execution_count": 47,
   "id": "d5b969a0",
   "metadata": {},
   "outputs": [
    {
     "data": {
      "text/plain": [
       "[1, 2, 3, 4, 5]"
      ]
     },
     "execution_count": 47,
     "metadata": {},
     "output_type": "execute_result"
    }
   ],
   "source": [
    "list2"
   ]
  },
  {
   "cell_type": "code",
   "execution_count": 48,
   "id": "2ad7bc60",
   "metadata": {},
   "outputs": [],
   "source": [
    "list3 = [item ** 3 for item in range(1, 6)]"
   ]
  },
  {
   "cell_type": "code",
   "execution_count": 49,
   "id": "d47cc0a2",
   "metadata": {},
   "outputs": [
    {
     "data": {
      "text/plain": [
       "[1, 8, 27, 64, 125]"
      ]
     },
     "execution_count": 49,
     "metadata": {},
     "output_type": "execute_result"
    }
   ],
   "source": [
    "list3"
   ]
  },
  {
   "cell_type": "code",
   "execution_count": 50,
   "id": "9403d91d",
   "metadata": {},
   "outputs": [],
   "source": [
    "list4 = [item for item in range(1, 11) if item % 2 == 0]"
   ]
  },
  {
   "cell_type": "code",
   "execution_count": 51,
   "id": "3ad0c1bc",
   "metadata": {},
   "outputs": [
    {
     "data": {
      "text/plain": [
       "[2, 4, 6, 8, 10]"
      ]
     },
     "execution_count": 51,
     "metadata": {},
     "output_type": "execute_result"
    }
   ],
   "source": [
    "list4"
   ]
  },
  {
   "cell_type": "markdown",
   "id": "c61f1c48",
   "metadata": {},
   "source": [
    "**List Comprehension that Processes Another List's Elements**"
   ]
  },
  {
   "cell_type": "code",
   "execution_count": 52,
   "id": "147b394f",
   "metadata": {},
   "outputs": [],
   "source": [
    "colors = ['red', 'orange', 'yellow', 'green', 'blue']"
   ]
  },
  {
   "cell_type": "code",
   "execution_count": 53,
   "id": "c98bd0d6",
   "metadata": {},
   "outputs": [],
   "source": [
    "colors2 = [item.upper() for item in colors]"
   ]
  },
  {
   "cell_type": "code",
   "execution_count": 54,
   "id": "a7ec56d3",
   "metadata": {},
   "outputs": [
    {
     "data": {
      "text/plain": [
       "['RED', 'ORANGE', 'YELLOW', 'GREEN', 'BLUE']"
      ]
     },
     "execution_count": 54,
     "metadata": {},
     "output_type": "execute_result"
    }
   ],
   "source": [
    "colors2"
   ]
  },
  {
   "cell_type": "code",
   "execution_count": 55,
   "id": "0e439482",
   "metadata": {},
   "outputs": [
    {
     "data": {
      "text/plain": [
       "['red', 'orange', 'yellow', 'green', 'blue']"
      ]
     },
     "execution_count": 55,
     "metadata": {},
     "output_type": "execute_result"
    }
   ],
   "source": [
    "colors"
   ]
  },
  {
   "cell_type": "markdown",
   "id": "c94ef389",
   "metadata": {},
   "source": [
    "### 12. Generator Expressions (lazy evaluation)"
   ]
  },
  {
   "cell_type": "code",
   "execution_count": 56,
   "id": "a23aee27",
   "metadata": {},
   "outputs": [],
   "source": [
    "numbers = [10, 3, 7, 1, 9, 4, 2, 8, 5, 6]"
   ]
  },
  {
   "cell_type": "code",
   "execution_count": 57,
   "id": "967e1d07",
   "metadata": {},
   "outputs": [
    {
     "name": "stdout",
     "output_type": "stream",
     "text": [
      "9 49 1 81 25 "
     ]
    }
   ],
   "source": [
    "for value in (x ** 2 for x in numbers if x % 2 != 0):\n",
    "    print(value, end=' ')"
   ]
  },
  {
   "cell_type": "code",
   "execution_count": 58,
   "id": "39a86c57",
   "metadata": {},
   "outputs": [],
   "source": [
    "sqaures_of_odds = (x ** 2 for x in numbers if x % 2 != 0)"
   ]
  },
  {
   "cell_type": "code",
   "execution_count": 59,
   "id": "f3f951de",
   "metadata": {},
   "outputs": [
    {
     "data": {
      "text/plain": [
       "<generator object <genexpr> at 0x7ff410aefbd0>"
      ]
     },
     "execution_count": 59,
     "metadata": {},
     "output_type": "execute_result"
    }
   ],
   "source": [
    "sqaures_of_odds"
   ]
  },
  {
   "cell_type": "markdown",
   "id": "388ea339",
   "metadata": {},
   "source": [
    "### 13. Filter, Map and Reduce"
   ]
  },
  {
   "cell_type": "markdown",
   "id": "a6932f0f",
   "metadata": {},
   "source": [
    "**Filtering a Sequence's Values With the Built-In Filter Function**"
   ]
  },
  {
   "cell_type": "code",
   "execution_count": 179,
   "id": "fd0d9641",
   "metadata": {},
   "outputs": [],
   "source": [
    "numbers = [10, 3, 7, 1, 9, 4, 2, 8, 5, 6]"
   ]
  },
  {
   "cell_type": "markdown",
   "id": "e3054abc",
   "metadata": {},
   "source": [
    "**My Solutions**"
   ]
  },
  {
   "cell_type": "code",
   "execution_count": 61,
   "id": "8274e785",
   "metadata": {},
   "outputs": [],
   "source": [
    "odd = []\n",
    "for value in (x for x in numbers if x % 2 != 0):\n",
    "    odd.append(value)"
   ]
  },
  {
   "cell_type": "code",
   "execution_count": 62,
   "id": "6d8a6805",
   "metadata": {},
   "outputs": [
    {
     "data": {
      "text/plain": [
       "[3, 7, 1, 9, 5]"
      ]
     },
     "execution_count": 62,
     "metadata": {},
     "output_type": "execute_result"
    }
   ],
   "source": [
    "odd"
   ]
  },
  {
   "cell_type": "code",
   "execution_count": 63,
   "id": "0bd8bd3f",
   "metadata": {},
   "outputs": [
    {
     "data": {
      "text/plain": [
       "[3, 7, 1, 9, 5]"
      ]
     },
     "execution_count": 63,
     "metadata": {},
     "output_type": "execute_result"
    }
   ],
   "source": [
    "odd2 = [x for x in numbers if x % 2 != 0]\n",
    "odd2"
   ]
  },
  {
   "cell_type": "markdown",
   "id": "055f6bfd",
   "metadata": {},
   "source": [
    "**Solution 1** Using List Comprehensions"
   ]
  },
  {
   "cell_type": "code",
   "execution_count": 68,
   "id": "42edf1d7",
   "metadata": {},
   "outputs": [
    {
     "data": {
      "text/plain": [
       "[3, 7, 1, 9, 5]"
      ]
     },
     "execution_count": 68,
     "metadata": {},
     "output_type": "execute_result"
    }
   ],
   "source": [
    "numbers2 = [x for x in numbers if x % 2 != 0]\n",
    "numbers2"
   ]
  },
  {
   "cell_type": "markdown",
   "id": "02a79d3e",
   "metadata": {},
   "source": [
    "**Solution 2** Using Generator Expression"
   ]
  },
  {
   "cell_type": "code",
   "execution_count": 66,
   "id": "3bd7e473",
   "metadata": {},
   "outputs": [
    {
     "name": "stdout",
     "output_type": "stream",
     "text": [
      "3 7 1 9 5 "
     ]
    }
   ],
   "source": [
    "for value in (x for x in numbers if x % 2 != 0):\n",
    "    print(value, end=' ')"
   ]
  },
  {
   "cell_type": "code",
   "execution_count": 67,
   "id": "1feb4c5c",
   "metadata": {},
   "outputs": [
    {
     "data": {
      "text/plain": [
       "[3, 7, 1, 9, 5]"
      ]
     },
     "execution_count": 67,
     "metadata": {},
     "output_type": "execute_result"
    }
   ],
   "source": [
    "numbers2 = []\n",
    "for value in (x for x in numbers if x % 2 != 0):\n",
    "    numbers2.append(value)\n",
    "numbers2"
   ]
  },
  {
   "cell_type": "markdown",
   "id": "91c2e84b",
   "metadata": {},
   "source": [
    "**Solution 3** Creating a function to pass a list"
   ]
  },
  {
   "cell_type": "code",
   "execution_count": 69,
   "id": "7e3d1ea2",
   "metadata": {},
   "outputs": [
    {
     "name": "stdout",
     "output_type": "stream",
     "text": [
      "3 7 1 9 5 "
     ]
    }
   ],
   "source": [
    "def is_odd(x):\n",
    "    for i in range(len(x)):\n",
    "        if x[i] % 2 != 0:\n",
    "            print(x[i], end=' ')\n",
    "            \n",
    "is_odd(numbers)"
   ]
  },
  {
   "cell_type": "code",
   "execution_count": 182,
   "id": "ce745975",
   "metadata": {},
   "outputs": [
    {
     "data": {
      "text/plain": [
       "[3, 7, 1, 9, 5]"
      ]
     },
     "execution_count": 182,
     "metadata": {},
     "output_type": "execute_result"
    }
   ],
   "source": [
    "def is_odd2(x):\n",
    "    for i in x:\n",
    "        if i % 2 == 0:\n",
    "            x.remove(i)\n",
    "    return x\n",
    "    \n",
    "is_odd2(numbers)"
   ]
  },
  {
   "cell_type": "markdown",
   "id": "665b53f5",
   "metadata": {},
   "source": [
    "**Solution 4** Creating a function to pass each element + List Comprehensions"
   ]
  },
  {
   "cell_type": "code",
   "execution_count": 72,
   "id": "1ccfb36e",
   "metadata": {},
   "outputs": [],
   "source": [
    "def is_odd3(x):\n",
    "    \"\"\"Returns True only if x is odd.\"\"\"\n",
    "    return x % 2 != 0"
   ]
  },
  {
   "cell_type": "code",
   "execution_count": 73,
   "id": "b4a4d891",
   "metadata": {},
   "outputs": [
    {
     "data": {
      "text/plain": [
       "[3, 7, 1, 9, 5]"
      ]
     },
     "execution_count": 73,
     "metadata": {},
     "output_type": "execute_result"
    }
   ],
   "source": [
    "[item for item in numbers if is_odd3(item)]"
   ]
  },
  {
   "cell_type": "markdown",
   "id": "21405b36",
   "metadata": {},
   "source": [
    "**Solution 5** Filtering a Sequence's Values with the Built-in filter Function"
   ]
  },
  {
   "cell_type": "code",
   "execution_count": 74,
   "id": "cedfbc9e",
   "metadata": {},
   "outputs": [],
   "source": [
    "numbers = [10, 3, 7, 1, 9, 4, 2, 8, 5, 6]"
   ]
  },
  {
   "cell_type": "code",
   "execution_count": 75,
   "id": "884718da",
   "metadata": {},
   "outputs": [],
   "source": [
    "def is_odd4(x):\n",
    "    \"\"\"\"Returns True only if x is odd\"\"\"\n",
    "    return x % 2 != 0"
   ]
  },
  {
   "cell_type": "code",
   "execution_count": 76,
   "id": "c63c6e75",
   "metadata": {},
   "outputs": [
    {
     "data": {
      "text/plain": [
       "[3, 7, 1, 9, 5]"
      ]
     },
     "execution_count": 76,
     "metadata": {},
     "output_type": "execute_result"
    }
   ],
   "source": [
    "list(filter(is_odd4, numbers))"
   ]
  },
  {
   "cell_type": "code",
   "execution_count": 77,
   "id": "5e4206fe",
   "metadata": {},
   "outputs": [
    {
     "ename": "TypeError",
     "evalue": "unsupported operand type(s) for %: 'list' and 'int'",
     "output_type": "error",
     "traceback": [
      "\u001b[0;31m---------------------------------------------------------------------------\u001b[0m",
      "\u001b[0;31mTypeError\u001b[0m                                 Traceback (most recent call last)",
      "\u001b[0;32m/var/folders/x5/frnnlchj569_vyvfcshj1fv00000gn/T/ipykernel_52436/208177694.py\u001b[0m in \u001b[0;36m<module>\u001b[0;34m\u001b[0m\n\u001b[0;32m----> 1\u001b[0;31m \u001b[0mis_odd4\u001b[0m\u001b[0;34m(\u001b[0m\u001b[0mnumbers\u001b[0m\u001b[0;34m)\u001b[0m\u001b[0;34m\u001b[0m\u001b[0;34m\u001b[0m\u001b[0m\n\u001b[0m",
      "\u001b[0;32m/var/folders/x5/frnnlchj569_vyvfcshj1fv00000gn/T/ipykernel_52436/644991555.py\u001b[0m in \u001b[0;36mis_odd4\u001b[0;34m(x)\u001b[0m\n\u001b[1;32m      1\u001b[0m \u001b[0;32mdef\u001b[0m \u001b[0mis_odd4\u001b[0m\u001b[0;34m(\u001b[0m\u001b[0mx\u001b[0m\u001b[0;34m)\u001b[0m\u001b[0;34m:\u001b[0m\u001b[0;34m\u001b[0m\u001b[0;34m\u001b[0m\u001b[0m\n\u001b[1;32m      2\u001b[0m     \u001b[0;34m\"\"\"\"Returns True only if x is odd\"\"\"\u001b[0m\u001b[0;34m\u001b[0m\u001b[0;34m\u001b[0m\u001b[0m\n\u001b[0;32m----> 3\u001b[0;31m     \u001b[0;32mreturn\u001b[0m \u001b[0mx\u001b[0m \u001b[0;34m%\u001b[0m \u001b[0;36m2\u001b[0m \u001b[0;34m!=\u001b[0m \u001b[0;36m0\u001b[0m\u001b[0;34m\u001b[0m\u001b[0;34m\u001b[0m\u001b[0m\n\u001b[0m",
      "\u001b[0;31mTypeError\u001b[0m: unsupported operand type(s) for %: 'list' and 'int'"
     ]
    }
   ],
   "source": [
    "is_odd4(numbers)"
   ]
  },
  {
   "cell_type": "markdown",
   "id": "09c433de",
   "metadata": {},
   "source": [
    "**Using a Lambda Rather than a Function**"
   ]
  },
  {
   "cell_type": "code",
   "execution_count": 69,
   "id": "412969c2",
   "metadata": {},
   "outputs": [
    {
     "data": {
      "text/plain": [
       "[3, 7, 1, 9, 5]"
      ]
     },
     "execution_count": 69,
     "metadata": {},
     "output_type": "execute_result"
    }
   ],
   "source": [
    "list(filter(lambda x: x % 2 != 0, numbers))"
   ]
  },
  {
   "cell_type": "markdown",
   "id": "fc02c65b",
   "metadata": {},
   "source": [
    "**Mapping a Sequence's Values to New Values**"
   ]
  },
  {
   "cell_type": "code",
   "execution_count": 78,
   "id": "48f440cd",
   "metadata": {},
   "outputs": [
    {
     "data": {
      "text/plain": [
       "[10, 3, 7, 1, 9, 4, 2, 8, 5, 6]"
      ]
     },
     "execution_count": 78,
     "metadata": {},
     "output_type": "execute_result"
    }
   ],
   "source": [
    "numbers"
   ]
  },
  {
   "cell_type": "code",
   "execution_count": 79,
   "id": "85acab89",
   "metadata": {},
   "outputs": [
    {
     "data": {
      "text/plain": [
       "[100, 9, 49, 1, 81, 16, 4, 64, 25, 36]"
      ]
     },
     "execution_count": 79,
     "metadata": {},
     "output_type": "execute_result"
    }
   ],
   "source": [
    "list(map(lambda x: x ** 2, numbers))"
   ]
  },
  {
   "cell_type": "code",
   "execution_count": 80,
   "id": "7927c250",
   "metadata": {},
   "outputs": [
    {
     "data": {
      "text/plain": [
       "[100, 9, 49, 1, 81, 16, 4, 64, 25, 36]"
      ]
     },
     "execution_count": 80,
     "metadata": {},
     "output_type": "execute_result"
    }
   ],
   "source": [
    "[item ** 2 for item in numbers]"
   ]
  },
  {
   "cell_type": "code",
   "execution_count": 81,
   "id": "05ee6dd3",
   "metadata": {},
   "outputs": [
    {
     "data": {
      "text/plain": [
       "(100, 9, 49, 1, 81, 16, 4, 64, 25, 36)"
      ]
     },
     "execution_count": 81,
     "metadata": {},
     "output_type": "execute_result"
    }
   ],
   "source": [
    "tuple(map(lambda x: x ** 2, numbers))"
   ]
  },
  {
   "cell_type": "markdown",
   "id": "01866859",
   "metadata": {},
   "source": [
    "**Combining filter and map**"
   ]
  },
  {
   "cell_type": "code",
   "execution_count": 82,
   "id": "429afbb7",
   "metadata": {},
   "outputs": [
    {
     "data": {
      "text/plain": [
       "[9, 49, 1, 81, 25]"
      ]
     },
     "execution_count": 82,
     "metadata": {},
     "output_type": "execute_result"
    }
   ],
   "source": [
    "list(map(lambda x: x ** 2,\n",
    "         filter(lambda x: x % 2 != 0, numbers)))"
   ]
  },
  {
   "cell_type": "code",
   "execution_count": 83,
   "id": "29bec209",
   "metadata": {},
   "outputs": [
    {
     "data": {
      "text/plain": [
       "[9, 49, 1, 81, 25]"
      ]
     },
     "execution_count": 83,
     "metadata": {},
     "output_type": "execute_result"
    }
   ],
   "source": [
    "[x ** 2 for x in numbers if x % 2 != 0]"
   ]
  },
  {
   "cell_type": "markdown",
   "id": "3ed25740",
   "metadata": {},
   "source": [
    "### 14. Other Sequence Processing Functions"
   ]
  },
  {
   "cell_type": "markdown",
   "id": "5d7e7fff",
   "metadata": {},
   "source": [
    "**Iterating Backwards Through a Sequence**"
   ]
  },
  {
   "cell_type": "code",
   "execution_count": 84,
   "id": "1323b3fa",
   "metadata": {},
   "outputs": [],
   "source": [
    "numbers = [10, 3, 7, 1, 9, 4, 2, 8, 5, 6]"
   ]
  },
  {
   "cell_type": "code",
   "execution_count": 85,
   "id": "b0c5b77a",
   "metadata": {},
   "outputs": [],
   "source": [
    "reversed_numbers = [item ** 2 for item in reversed(numbers)]"
   ]
  },
  {
   "cell_type": "code",
   "execution_count": 86,
   "id": "5a7fe3c9",
   "metadata": {},
   "outputs": [
    {
     "data": {
      "text/plain": [
       "[36, 25, 64, 4, 16, 81, 1, 49, 9, 100]"
      ]
     },
     "execution_count": 86,
     "metadata": {},
     "output_type": "execute_result"
    }
   ],
   "source": [
    "reversed_numbers"
   ]
  },
  {
   "cell_type": "markdown",
   "id": "188537ad",
   "metadata": {},
   "source": [
    "**Combining Iterables into Tuples of Corresponding Elements**"
   ]
  },
  {
   "cell_type": "code",
   "execution_count": 87,
   "id": "02a8d8d0",
   "metadata": {},
   "outputs": [],
   "source": [
    "names = ['Bob', 'Sue', 'Amanda']"
   ]
  },
  {
   "cell_type": "code",
   "execution_count": 88,
   "id": "fe282336",
   "metadata": {},
   "outputs": [],
   "source": [
    "grade_point_averages = [3.5, 4.0, 3.75]"
   ]
  },
  {
   "cell_type": "code",
   "execution_count": 89,
   "id": "a157c879",
   "metadata": {},
   "outputs": [
    {
     "name": "stdout",
     "output_type": "stream",
     "text": [
      "Name=Bob; GPA=3.5\n",
      "Name=Sue; GPA=4.0\n",
      "Name=Amanda; GPA=3.75\n"
     ]
    }
   ],
   "source": [
    "for name, gpa in zip(names, grade_point_averages):\n",
    "    print(f'Name={name}; GPA={gpa}')"
   ]
  },
  {
   "cell_type": "markdown",
   "id": "f3bae8cc",
   "metadata": {},
   "source": [
    "### 15. Two-Dimensional Lists"
   ]
  },
  {
   "cell_type": "markdown",
   "id": "ea9bf0af",
   "metadata": {},
   "source": [
    "**Creating a Two-Dimensional List**"
   ]
  },
  {
   "cell_type": "code",
   "execution_count": 90,
   "id": "92713bcf",
   "metadata": {},
   "outputs": [],
   "source": [
    "a = [[77, 68, 86, 73], \n",
    "     [96, 87, 89, 81], \n",
    "     [70, 90, 86, 81]]"
   ]
  },
  {
   "cell_type": "code",
   "execution_count": 91,
   "id": "f442c274",
   "metadata": {},
   "outputs": [
    {
     "name": "stdout",
     "output_type": "stream",
     "text": [
      "[77, 68, 86, 73]\n",
      "[96, 87, 89, 81]\n",
      "[70, 90, 86, 81]\n"
     ]
    }
   ],
   "source": [
    "for row in a:\n",
    "    print(row)"
   ]
  },
  {
   "cell_type": "code",
   "execution_count": 92,
   "id": "063051b4",
   "metadata": {},
   "outputs": [
    {
     "name": "stdout",
     "output_type": "stream",
     "text": [
      "77 68 86 73 \n",
      "96 87 89 81 \n",
      "70 90 86 81 \n"
     ]
    }
   ],
   "source": [
    "for row in a:\n",
    "    for item in row:\n",
    "        print(item, end=' ')\n",
    "    print()"
   ]
  },
  {
   "cell_type": "markdown",
   "id": "4c33073f",
   "metadata": {},
   "source": [
    "**How the Nested Loop Execute**"
   ]
  },
  {
   "cell_type": "code",
   "execution_count": 93,
   "id": "f82a82a3",
   "metadata": {},
   "outputs": [],
   "source": [
    "a = [[77, 68, 86, 73], \n",
    "     [96, 87, 89, 81], \n",
    "     [70, 90, 86, 81]]"
   ]
  },
  {
   "cell_type": "code",
   "execution_count": 94,
   "id": "efccf1b7",
   "metadata": {},
   "outputs": [
    {
     "name": "stdout",
     "output_type": "stream",
     "text": [
      "a[0][0]=77 a[0][1]=68 a[0][2]=86 a[0][3]=73 \n",
      "a[1][0]=96 a[1][1]=87 a[1][2]=89 a[1][3]=81 \n",
      "a[2][0]=70 a[2][1]=90 a[2][2]=86 a[2][3]=81 \n"
     ]
    }
   ],
   "source": [
    "for i, row in enumerate(a):\n",
    "    for j, item in enumerate(row):\n",
    "        print(f'a[{i}][{j}]={item}', end=' ')\n",
    "    print()"
   ]
  },
  {
   "cell_type": "markdown",
   "id": "e01556af",
   "metadata": {},
   "source": [
    "### 1. Dictionaries"
   ]
  },
  {
   "cell_type": "markdown",
   "id": "13b85017",
   "metadata": {},
   "source": [
    "### 1.1 Creating a Dictionary "
   ]
  },
  {
   "cell_type": "code",
   "execution_count": 95,
   "id": "65ae6af4",
   "metadata": {},
   "outputs": [],
   "source": [
    "country_codes = {'Finland': 'fi', 'South Africa': 'za', 'Nepal': 'np'}"
   ]
  },
  {
   "cell_type": "code",
   "execution_count": 96,
   "id": "5035dc9b",
   "metadata": {},
   "outputs": [
    {
     "data": {
      "text/plain": [
       "{'Finland': 'fi', 'South Africa': 'za', 'Nepal': 'np'}"
      ]
     },
     "execution_count": 96,
     "metadata": {},
     "output_type": "execute_result"
    }
   ],
   "source": [
    "country_codes"
   ]
  },
  {
   "cell_type": "markdown",
   "id": "f86a887f",
   "metadata": {},
   "source": [
    "**Determining if a Dictionary is Empty**"
   ]
  },
  {
   "cell_type": "code",
   "execution_count": 97,
   "id": "5b5d79f9",
   "metadata": {},
   "outputs": [
    {
     "data": {
      "text/plain": [
       "3"
      ]
     },
     "execution_count": 97,
     "metadata": {},
     "output_type": "execute_result"
    }
   ],
   "source": [
    "len(country_codes)"
   ]
  },
  {
   "cell_type": "code",
   "execution_count": 98,
   "id": "64f8db9a",
   "metadata": {},
   "outputs": [
    {
     "name": "stdout",
     "output_type": "stream",
     "text": [
      "country_codes is not empty\n"
     ]
    }
   ],
   "source": [
    "if country_codes:\n",
    "    print('country_codes is not empty')\n",
    "else:\n",
    "    print('country_codes is empty')"
   ]
  },
  {
   "cell_type": "code",
   "execution_count": 99,
   "id": "1577f623",
   "metadata": {},
   "outputs": [],
   "source": [
    "country_codes.clear()"
   ]
  },
  {
   "cell_type": "code",
   "execution_count": 100,
   "id": "58fb35a1",
   "metadata": {},
   "outputs": [
    {
     "name": "stdout",
     "output_type": "stream",
     "text": [
      "country_codes is empty\n"
     ]
    }
   ],
   "source": [
    "if country_codes:\n",
    "    print('country_codes is not empty')\n",
    "else:\n",
    "    print('country_codes is empty')"
   ]
  },
  {
   "cell_type": "markdown",
   "id": "badf930a",
   "metadata": {},
   "source": [
    "**Iterating through a Dictionary**"
   ]
  },
  {
   "cell_type": "code",
   "execution_count": 101,
   "id": "ef7fe51b",
   "metadata": {},
   "outputs": [],
   "source": [
    "days_per_month = {'January': 31, 'Feburary': 28, 'March': 31}"
   ]
  },
  {
   "cell_type": "code",
   "execution_count": 102,
   "id": "c673c1e1",
   "metadata": {},
   "outputs": [
    {
     "data": {
      "text/plain": [
       "{'January': 31, 'Feburary': 28, 'March': 31}"
      ]
     },
     "execution_count": 102,
     "metadata": {},
     "output_type": "execute_result"
    }
   ],
   "source": [
    "days_per_month"
   ]
  },
  {
   "cell_type": "code",
   "execution_count": 103,
   "id": "1c0cfcac",
   "metadata": {},
   "outputs": [
    {
     "name": "stdout",
     "output_type": "stream",
     "text": [
      "January has 31 days\n",
      "Feburary has 28 days\n",
      "March has 31 days\n"
     ]
    }
   ],
   "source": [
    "for month, day in days_per_month.items():\n",
    "    print(f'{month} has {day} days')"
   ]
  },
  {
   "cell_type": "markdown",
   "id": "ab26a58d",
   "metadata": {},
   "source": [
    "### 1.2 Basic Dicitonary Operations"
   ]
  },
  {
   "cell_type": "code",
   "execution_count": 104,
   "id": "dc5b6078",
   "metadata": {},
   "outputs": [],
   "source": [
    "roman_numerals = {'I': 1, 'II': 2, 'III': 3, 'V': 5, 'X': 100}"
   ]
  },
  {
   "cell_type": "code",
   "execution_count": 105,
   "id": "e22b9fe5",
   "metadata": {},
   "outputs": [
    {
     "data": {
      "text/plain": [
       "{'I': 1, 'II': 2, 'III': 3, 'V': 5, 'X': 100}"
      ]
     },
     "execution_count": 105,
     "metadata": {},
     "output_type": "execute_result"
    }
   ],
   "source": [
    "roman_numerals"
   ]
  },
  {
   "cell_type": "markdown",
   "id": "a641f38f",
   "metadata": {},
   "source": [
    "**Accessing the Value Associated with a Key**"
   ]
  },
  {
   "cell_type": "code",
   "execution_count": 106,
   "id": "a4f481e7",
   "metadata": {},
   "outputs": [
    {
     "data": {
      "text/plain": [
       "5"
      ]
     },
     "execution_count": 106,
     "metadata": {},
     "output_type": "execute_result"
    }
   ],
   "source": [
    "roman_numerals['V']"
   ]
  },
  {
   "cell_type": "markdown",
   "id": "f8809493",
   "metadata": {},
   "source": [
    "**Updating the Value of an Existing Key-Value Pair**"
   ]
  },
  {
   "cell_type": "code",
   "execution_count": 107,
   "id": "05b37e8b",
   "metadata": {},
   "outputs": [],
   "source": [
    "roman_numerals['X'] = 10"
   ]
  },
  {
   "cell_type": "code",
   "execution_count": 108,
   "id": "24475270",
   "metadata": {},
   "outputs": [
    {
     "data": {
      "text/plain": [
       "{'I': 1, 'II': 2, 'III': 3, 'V': 5, 'X': 10}"
      ]
     },
     "execution_count": 108,
     "metadata": {},
     "output_type": "execute_result"
    }
   ],
   "source": [
    "roman_numerals"
   ]
  },
  {
   "cell_type": "markdown",
   "id": "c016ed42",
   "metadata": {},
   "source": [
    "**Adding a New Key-Value Pair**"
   ]
  },
  {
   "cell_type": "code",
   "execution_count": 109,
   "id": "70f67f06",
   "metadata": {},
   "outputs": [],
   "source": [
    "roman_numerals['L'] = 50"
   ]
  },
  {
   "cell_type": "code",
   "execution_count": 110,
   "id": "df9c8265",
   "metadata": {},
   "outputs": [
    {
     "data": {
      "text/plain": [
       "{'I': 1, 'II': 2, 'III': 3, 'V': 5, 'X': 10, 'L': 50}"
      ]
     },
     "execution_count": 110,
     "metadata": {},
     "output_type": "execute_result"
    }
   ],
   "source": [
    "roman_numerals"
   ]
  },
  {
   "cell_type": "markdown",
   "id": "dfae818b",
   "metadata": {},
   "source": [
    "**Removing a Key-Value Pair**"
   ]
  },
  {
   "cell_type": "code",
   "execution_count": 111,
   "id": "8b5bac0c",
   "metadata": {},
   "outputs": [],
   "source": [
    "del roman_numerals['III']"
   ]
  },
  {
   "cell_type": "code",
   "execution_count": 112,
   "id": "a4d343ff",
   "metadata": {},
   "outputs": [
    {
     "data": {
      "text/plain": [
       "{'I': 1, 'II': 2, 'V': 5, 'X': 10, 'L': 50}"
      ]
     },
     "execution_count": 112,
     "metadata": {},
     "output_type": "execute_result"
    }
   ],
   "source": [
    "roman_numerals"
   ]
  },
  {
   "cell_type": "code",
   "execution_count": 113,
   "id": "f677a36b",
   "metadata": {},
   "outputs": [
    {
     "data": {
      "text/plain": [
       "10"
      ]
     },
     "execution_count": 113,
     "metadata": {},
     "output_type": "execute_result"
    }
   ],
   "source": [
    "roman_numerals.pop('X')"
   ]
  },
  {
   "cell_type": "code",
   "execution_count": 114,
   "id": "3d97400e",
   "metadata": {},
   "outputs": [
    {
     "data": {
      "text/plain": [
       "{'I': 1, 'II': 2, 'V': 5, 'L': 50}"
      ]
     },
     "execution_count": 114,
     "metadata": {},
     "output_type": "execute_result"
    }
   ],
   "source": [
    "roman_numerals"
   ]
  },
  {
   "cell_type": "markdown",
   "id": "0d08c68e",
   "metadata": {},
   "source": [
    "**Attempting to Access a Nonexistent Key**"
   ]
  },
  {
   "cell_type": "code",
   "execution_count": 115,
   "id": "a1aeb869",
   "metadata": {},
   "outputs": [
    {
     "data": {
      "text/plain": [
       "{'I': 1, 'II': 2, 'V': 5, 'L': 50}"
      ]
     },
     "execution_count": 115,
     "metadata": {},
     "output_type": "execute_result"
    }
   ],
   "source": [
    "roman_numerals"
   ]
  },
  {
   "cell_type": "code",
   "execution_count": 116,
   "id": "ca04f848",
   "metadata": {},
   "outputs": [
    {
     "ename": "KeyError",
     "evalue": "'III'",
     "output_type": "error",
     "traceback": [
      "\u001b[0;31m---------------------------------------------------------------------------\u001b[0m",
      "\u001b[0;31mKeyError\u001b[0m                                  Traceback (most recent call last)",
      "\u001b[0;32m/var/folders/x5/frnnlchj569_vyvfcshj1fv00000gn/T/ipykernel_52436/4078080874.py\u001b[0m in \u001b[0;36m<module>\u001b[0;34m\u001b[0m\n\u001b[0;32m----> 1\u001b[0;31m \u001b[0mroman_numerals\u001b[0m\u001b[0;34m[\u001b[0m\u001b[0;34m'III'\u001b[0m\u001b[0;34m]\u001b[0m\u001b[0;34m\u001b[0m\u001b[0;34m\u001b[0m\u001b[0m\n\u001b[0m",
      "\u001b[0;31mKeyError\u001b[0m: 'III'"
     ]
    }
   ],
   "source": [
    "roman_numerals['III']"
   ]
  },
  {
   "cell_type": "code",
   "execution_count": 117,
   "id": "47f36111",
   "metadata": {},
   "outputs": [
    {
     "data": {
      "text/plain": [
       "{'I': 1, 'II': 2, 'V': 5, 'L': 50}"
      ]
     },
     "execution_count": 117,
     "metadata": {},
     "output_type": "execute_result"
    }
   ],
   "source": [
    "roman_numerals"
   ]
  },
  {
   "cell_type": "code",
   "execution_count": 118,
   "id": "1f22339d",
   "metadata": {},
   "outputs": [],
   "source": [
    "roman_numerals.get('III')"
   ]
  },
  {
   "cell_type": "code",
   "execution_count": 119,
   "id": "ec1b9f69",
   "metadata": {},
   "outputs": [
    {
     "data": {
      "text/plain": [
       "'III not in dictionary'"
      ]
     },
     "execution_count": 119,
     "metadata": {},
     "output_type": "execute_result"
    }
   ],
   "source": [
    "roman_numerals.get('III', 'III not in dictionary')"
   ]
  },
  {
   "cell_type": "code",
   "execution_count": 120,
   "id": "120de10c",
   "metadata": {},
   "outputs": [
    {
     "data": {
      "text/plain": [
       "5"
      ]
     },
     "execution_count": 120,
     "metadata": {},
     "output_type": "execute_result"
    }
   ],
   "source": [
    "roman_numerals.get('V')"
   ]
  },
  {
   "cell_type": "markdown",
   "id": "4edfd875",
   "metadata": {},
   "source": [
    "**Testing Whether a Dictionary Contains a Specified Key**"
   ]
  },
  {
   "cell_type": "code",
   "execution_count": 121,
   "id": "7b75e5e7",
   "metadata": {},
   "outputs": [
    {
     "data": {
      "text/plain": [
       "True"
      ]
     },
     "execution_count": 121,
     "metadata": {},
     "output_type": "execute_result"
    }
   ],
   "source": [
    "'V' in roman_numerals"
   ]
  },
  {
   "cell_type": "code",
   "execution_count": 122,
   "id": "f196d56c",
   "metadata": {},
   "outputs": [
    {
     "data": {
      "text/plain": [
       "False"
      ]
     },
     "execution_count": 122,
     "metadata": {},
     "output_type": "execute_result"
    }
   ],
   "source": [
    "'III' in roman_numerals"
   ]
  },
  {
   "cell_type": "code",
   "execution_count": 123,
   "id": "ee69b9ba",
   "metadata": {},
   "outputs": [
    {
     "data": {
      "text/plain": [
       "True"
      ]
     },
     "execution_count": 123,
     "metadata": {},
     "output_type": "execute_result"
    }
   ],
   "source": [
    "'III' not in roman_numerals"
   ]
  },
  {
   "cell_type": "markdown",
   "id": "450a637c",
   "metadata": {},
   "source": [
    "### 1.3 Dictionary Methods keys and values"
   ]
  },
  {
   "cell_type": "code",
   "execution_count": 124,
   "id": "08879840",
   "metadata": {},
   "outputs": [],
   "source": [
    "months = {'January': 31, 'Feburary': 28, 'March': 31}"
   ]
  },
  {
   "cell_type": "code",
   "execution_count": 125,
   "id": "062edfb8",
   "metadata": {},
   "outputs": [
    {
     "name": "stdout",
     "output_type": "stream",
     "text": [
      "January Feburary March "
     ]
    }
   ],
   "source": [
    "for month_name in months.keys():\n",
    "    print(month_name, end = ' ')"
   ]
  },
  {
   "cell_type": "code",
   "execution_count": 126,
   "id": "69265a88",
   "metadata": {},
   "outputs": [
    {
     "name": "stdout",
     "output_type": "stream",
     "text": [
      "31 28 31 "
     ]
    }
   ],
   "source": [
    "for month_number in months.values():\n",
    "    print(month_number, end = ' ')"
   ]
  },
  {
   "cell_type": "markdown",
   "id": "7c4ab923",
   "metadata": {},
   "source": [
    "**Dictionary Views**"
   ]
  },
  {
   "cell_type": "code",
   "execution_count": 127,
   "id": "c4448c04",
   "metadata": {},
   "outputs": [],
   "source": [
    "months_view = months.keys()"
   ]
  },
  {
   "cell_type": "code",
   "execution_count": 128,
   "id": "b77f56c4",
   "metadata": {},
   "outputs": [
    {
     "name": "stdout",
     "output_type": "stream",
     "text": [
      "January Feburary March "
     ]
    }
   ],
   "source": [
    "for key in months_view:\n",
    "    print(key, end = ' ')"
   ]
  },
  {
   "cell_type": "code",
   "execution_count": 129,
   "id": "44e7604a",
   "metadata": {},
   "outputs": [],
   "source": [
    "months['December'] = 12"
   ]
  },
  {
   "cell_type": "code",
   "execution_count": 130,
   "id": "9c21f850",
   "metadata": {},
   "outputs": [
    {
     "data": {
      "text/plain": [
       "{'January': 31, 'Feburary': 28, 'March': 31, 'December': 12}"
      ]
     },
     "execution_count": 130,
     "metadata": {},
     "output_type": "execute_result"
    }
   ],
   "source": [
    "months"
   ]
  },
  {
   "cell_type": "code",
   "execution_count": 131,
   "id": "58cb6957",
   "metadata": {},
   "outputs": [
    {
     "name": "stdout",
     "output_type": "stream",
     "text": [
      "January Feburary March December "
     ]
    }
   ],
   "source": [
    "for key in months_view:\n",
    "    print(key, end = ' ')"
   ]
  },
  {
   "cell_type": "markdown",
   "id": "b099736e",
   "metadata": {},
   "source": [
    "**Converting Dictionary Keys, Values and Key-Value Pairs to Lists**"
   ]
  },
  {
   "cell_type": "code",
   "execution_count": 132,
   "id": "d8c544a6",
   "metadata": {},
   "outputs": [
    {
     "data": {
      "text/plain": [
       "['January', 'Feburary', 'March', 'December']"
      ]
     },
     "execution_count": 132,
     "metadata": {},
     "output_type": "execute_result"
    }
   ],
   "source": [
    "list(months.keys())"
   ]
  },
  {
   "cell_type": "code",
   "execution_count": 133,
   "id": "aee758f0",
   "metadata": {},
   "outputs": [
    {
     "data": {
      "text/plain": [
       "[31, 28, 31, 12]"
      ]
     },
     "execution_count": 133,
     "metadata": {},
     "output_type": "execute_result"
    }
   ],
   "source": [
    "list(months.values())"
   ]
  },
  {
   "cell_type": "code",
   "execution_count": 134,
   "id": "440ad21f",
   "metadata": {},
   "outputs": [
    {
     "data": {
      "text/plain": [
       "[('January', 31), ('Feburary', 28), ('March', 31), ('December', 12)]"
      ]
     },
     "execution_count": 134,
     "metadata": {},
     "output_type": "execute_result"
    }
   ],
   "source": [
    "list(months.items())"
   ]
  },
  {
   "cell_type": "markdown",
   "id": "0cea1ccb",
   "metadata": {},
   "source": [
    "**Processing Keys in Sorted Order**"
   ]
  },
  {
   "cell_type": "code",
   "execution_count": 135,
   "id": "fd0120a8",
   "metadata": {},
   "outputs": [
    {
     "name": "stdout",
     "output_type": "stream",
     "text": [
      "January Feburary March December "
     ]
    }
   ],
   "source": [
    "for month_name in months.keys():\n",
    "    print(month_name, end=' ')"
   ]
  },
  {
   "cell_type": "markdown",
   "id": "ac0ac4d2",
   "metadata": {},
   "source": [
    "### 1.4 Dictionary Comparisons"
   ]
  },
  {
   "cell_type": "code",
   "execution_count": 136,
   "id": "f5ace188",
   "metadata": {},
   "outputs": [],
   "source": [
    "country_capitals1 = {'China': 'Beijing', 'UK': 'London'}"
   ]
  },
  {
   "cell_type": "code",
   "execution_count": 137,
   "id": "3c24fad1",
   "metadata": {},
   "outputs": [],
   "source": [
    "country_capitals2 = {'Canada': 'Ottawa', 'Greece': 'Athens'}"
   ]
  },
  {
   "cell_type": "code",
   "execution_count": 138,
   "id": "37bee4b2",
   "metadata": {},
   "outputs": [],
   "source": [
    "country_capitals3 = {'UK': 'London', 'China': 'Beijing'}"
   ]
  },
  {
   "cell_type": "code",
   "execution_count": 139,
   "id": "7c42ca80",
   "metadata": {},
   "outputs": [
    {
     "data": {
      "text/plain": [
       "False"
      ]
     },
     "execution_count": 139,
     "metadata": {},
     "output_type": "execute_result"
    }
   ],
   "source": [
    "country_capitals1 == country_capitals2"
   ]
  },
  {
   "cell_type": "code",
   "execution_count": 140,
   "id": "4b51381b",
   "metadata": {},
   "outputs": [
    {
     "data": {
      "text/plain": [
       "True"
      ]
     },
     "execution_count": 140,
     "metadata": {},
     "output_type": "execute_result"
    }
   ],
   "source": [
    "country_capitals1 == country_capitals3"
   ]
  },
  {
   "cell_type": "code",
   "execution_count": 141,
   "id": "d93a0e5e",
   "metadata": {},
   "outputs": [
    {
     "data": {
      "text/plain": [
       "True"
      ]
     },
     "execution_count": 141,
     "metadata": {},
     "output_type": "execute_result"
    }
   ],
   "source": [
    "country_capitals1 != country_capitals2"
   ]
  },
  {
   "cell_type": "markdown",
   "id": "5ce4835a",
   "metadata": {},
   "source": [
    "### 1.5 Example: Dictionary of Student Grades"
   ]
  },
  {
   "cell_type": "code",
   "execution_count": 142,
   "id": "f3638049",
   "metadata": {},
   "outputs": [
    {
     "name": "stdout",
     "output_type": "stream",
     "text": [
      "Average for Susan is 92.33\n",
      "Average for Ann is 85.67\n",
      "Average for Tina is 87.33\n",
      "Average for Mike is 93.33\n",
      "Class's Average is: 89.67\n"
     ]
    }
   ],
   "source": [
    "\"\"\"Using a dictionary to represent an instructor's grade book.\"\"\"\n",
    "grade_book = {\n",
    "    'Susan': [92, 85, 100],\n",
    "    'Ann': [83, 95, 79],\n",
    "    'Tina': [91, 89, 82],\n",
    "    'Mike': [97, 91, 92]\n",
    "}\n",
    "\n",
    "all_grades_total = 0\n",
    "all_grades_count = 0\n",
    "\n",
    "for name, grades in grade_book.items():\n",
    "    total = sum(grades)\n",
    "    print(f'Average for {name} is {total/len(grades):.2f}')\n",
    "    all_grades_total += total\n",
    "    all_grades_count += len(grades)\n",
    "    \n",
    "print(f\"Class's Average is: {all_grades_total / all_grades_count:.2f}\")"
   ]
  },
  {
   "cell_type": "markdown",
   "id": "5bb9875d",
   "metadata": {},
   "source": [
    "### 1.6 Example: Word Counts"
   ]
  },
  {
   "cell_type": "code",
   "execution_count": 143,
   "id": "59275cff",
   "metadata": {},
   "outputs": [],
   "source": [
    "text = ('this is sample text with several words '\n",
    "        'this is more sample text with some different words')"
   ]
  },
  {
   "cell_type": "code",
   "execution_count": 144,
   "id": "4fa896c1",
   "metadata": {},
   "outputs": [
    {
     "data": {
      "text/plain": [
       "['this',\n",
       " 'is',\n",
       " 'sample',\n",
       " 'text',\n",
       " 'with',\n",
       " 'several',\n",
       " 'words',\n",
       " 'this',\n",
       " 'is',\n",
       " 'more',\n",
       " 'sample',\n",
       " 'text',\n",
       " 'with',\n",
       " 'some',\n",
       " 'different',\n",
       " 'words']"
      ]
     },
     "execution_count": 144,
     "metadata": {},
     "output_type": "execute_result"
    }
   ],
   "source": [
    "text.split()"
   ]
  },
  {
   "cell_type": "code",
   "execution_count": 145,
   "id": "7ef3e16c",
   "metadata": {},
   "outputs": [],
   "source": [
    "from collections import Counter"
   ]
  },
  {
   "cell_type": "code",
   "execution_count": 146,
   "id": "9f0d9278",
   "metadata": {},
   "outputs": [],
   "source": [
    "counter = Counter(text.split())"
   ]
  },
  {
   "cell_type": "code",
   "execution_count": 147,
   "id": "2c1b0b22",
   "metadata": {},
   "outputs": [
    {
     "data": {
      "text/plain": [
       "Counter({'this': 2,\n",
       "         'is': 2,\n",
       "         'sample': 2,\n",
       "         'text': 2,\n",
       "         'with': 2,\n",
       "         'several': 1,\n",
       "         'words': 2,\n",
       "         'more': 1,\n",
       "         'some': 1,\n",
       "         'different': 1})"
      ]
     },
     "execution_count": 147,
     "metadata": {},
     "output_type": "execute_result"
    }
   ],
   "source": [
    "counter"
   ]
  },
  {
   "cell_type": "code",
   "execution_count": 148,
   "id": "3f9b06c6",
   "metadata": {},
   "outputs": [
    {
     "name": "stdout",
     "output_type": "stream",
     "text": [
      "different   1\n",
      "is          2\n",
      "more        1\n",
      "sample      2\n",
      "several     1\n",
      "some        1\n",
      "text        2\n",
      "this        2\n",
      "with        2\n",
      "words       2\n"
     ]
    }
   ],
   "source": [
    "for word, count in sorted(counter.items()):\n",
    "    print(f'{word:<12}{count}')"
   ]
  },
  {
   "cell_type": "code",
   "execution_count": 149,
   "id": "65f60329",
   "metadata": {},
   "outputs": [
    {
     "name": "stdout",
     "output_type": "stream",
     "text": [
      "Number of unique keys: 10\n"
     ]
    }
   ],
   "source": [
    "print('Number of unique keys:', len(counter.keys()))"
   ]
  },
  {
   "cell_type": "markdown",
   "id": "4642adb1",
   "metadata": {},
   "source": [
    "### 1.7 Dictionary Method Update"
   ]
  },
  {
   "cell_type": "code",
   "execution_count": 150,
   "id": "e5a8554e",
   "metadata": {},
   "outputs": [],
   "source": [
    "country_codes = {}"
   ]
  },
  {
   "cell_type": "code",
   "execution_count": 151,
   "id": "169b930d",
   "metadata": {},
   "outputs": [],
   "source": [
    "country_codes.update({'South Africa': 'za'})"
   ]
  },
  {
   "cell_type": "code",
   "execution_count": 152,
   "id": "4563bc26",
   "metadata": {},
   "outputs": [
    {
     "data": {
      "text/plain": [
       "{'South Africa': 'za'}"
      ]
     },
     "execution_count": 152,
     "metadata": {},
     "output_type": "execute_result"
    }
   ],
   "source": [
    "country_codes"
   ]
  },
  {
   "cell_type": "code",
   "execution_count": 153,
   "id": "2f297e9b",
   "metadata": {},
   "outputs": [],
   "source": [
    "country_codes.update({'Australia': 'ar'})"
   ]
  },
  {
   "cell_type": "code",
   "execution_count": 154,
   "id": "50d6846b",
   "metadata": {},
   "outputs": [
    {
     "data": {
      "text/plain": [
       "{'South Africa': 'za', 'Australia': 'ar'}"
      ]
     },
     "execution_count": 154,
     "metadata": {},
     "output_type": "execute_result"
    }
   ],
   "source": [
    "country_codes"
   ]
  },
  {
   "cell_type": "code",
   "execution_count": 155,
   "id": "38431fbf",
   "metadata": {},
   "outputs": [],
   "source": [
    "country_codes.update({'Australia': 'au'})"
   ]
  },
  {
   "cell_type": "code",
   "execution_count": 156,
   "id": "6aceb661",
   "metadata": {},
   "outputs": [
    {
     "data": {
      "text/plain": [
       "{'South Africa': 'za', 'Australia': 'au'}"
      ]
     },
     "execution_count": 156,
     "metadata": {},
     "output_type": "execute_result"
    }
   ],
   "source": [
    "country_codes"
   ]
  },
  {
   "cell_type": "markdown",
   "id": "2eef13ef",
   "metadata": {},
   "source": [
    "### 1.8 Dictioary Comprehensions"
   ]
  },
  {
   "cell_type": "code",
   "execution_count": 157,
   "id": "35d29cfe",
   "metadata": {},
   "outputs": [],
   "source": [
    "months = {'January': 1, 'Feburary': 2, 'March': 3}"
   ]
  },
  {
   "cell_type": "code",
   "execution_count": 158,
   "id": "bc737c3e",
   "metadata": {},
   "outputs": [],
   "source": [
    "months2 = {number: name for name, number in months.items()}"
   ]
  },
  {
   "cell_type": "code",
   "execution_count": 159,
   "id": "15e21b73",
   "metadata": {},
   "outputs": [
    {
     "data": {
      "text/plain": [
       "{1: 'January', 2: 'Feburary', 3: 'March'}"
      ]
     },
     "execution_count": 159,
     "metadata": {},
     "output_type": "execute_result"
    }
   ],
   "source": [
    "months2"
   ]
  },
  {
   "cell_type": "code",
   "execution_count": 160,
   "id": "9e6fe63d",
   "metadata": {},
   "outputs": [],
   "source": [
    "grades = {'Sue': [98, 87, 94], 'Bob': [84, 95, 91]}"
   ]
  },
  {
   "cell_type": "code",
   "execution_count": 161,
   "id": "92310b71",
   "metadata": {},
   "outputs": [],
   "source": [
    "grades2 = {k: sum(v) / len(v) for k, v in grades.items()}"
   ]
  },
  {
   "cell_type": "code",
   "execution_count": 162,
   "id": "4623f965",
   "metadata": {},
   "outputs": [
    {
     "data": {
      "text/plain": [
       "{'Sue': 93.0, 'Bob': 90.0}"
      ]
     },
     "execution_count": 162,
     "metadata": {},
     "output_type": "execute_result"
    }
   ],
   "source": [
    "grades2"
   ]
  },
  {
   "cell_type": "markdown",
   "id": "f25289e2",
   "metadata": {},
   "source": [
    "## Textbook Exercises"
   ]
  },
  {
   "cell_type": "markdown",
   "id": "8578239c",
   "metadata": {},
   "source": [
    "### 6.2"
   ]
  },
  {
   "cell_type": "code",
   "execution_count": 167,
   "id": "71a45b0a",
   "metadata": {},
   "outputs": [
    {
     "name": "stdout",
     "output_type": "stream",
     "text": [
      "be          2\n",
      "is          1\n",
      "not         1\n",
      "or          1\n",
      "question    1\n",
      "that        1\n",
      "the         1\n",
      "to          2\n"
     ]
    }
   ],
   "source": [
    "from collections import Counter\n",
    "text = ('to be or not to be that is the question') \n",
    "counter = Counter(text.split())\n",
    "# for word, count in sorted(counter):\n",
    "for word, count in sorted(counter.items()):\n",
    "#     print(word)\n",
    "    print(f'{word:<12}{count}')"
   ]
  },
  {
   "cell_type": "markdown",
   "id": "ae1286d7",
   "metadata": {},
   "source": [
    "The original code does not use counter.items()."
   ]
  },
  {
   "cell_type": "markdown",
   "id": "64461bab",
   "metadata": {},
   "source": [
    "### 6.3"
   ]
  },
  {
   "cell_type": "code",
   "execution_count": 195,
   "id": "67597d02",
   "metadata": {},
   "outputs": [
    {
     "name": "stdout",
     "output_type": "stream",
     "text": [
      "Monday: 70.00\n",
      "Tuesday: 56.67\n",
      "Wednesday: 79.33\n",
      "Thursday: 74.00\n"
     ]
    }
   ],
   "source": [
    "temperatures = {\n",
    "           'Monday': [66, 70, 74],\n",
    "           'Tuesday': [50, 56, 64],\n",
    "           'Wednesday': [75, 80, 83],\n",
    "           'Thursday': [67, 74, 81]\n",
    "       }\n",
    "for k, v in temperatures.items():\n",
    "    print(f'{k}: {sum(v)/len(v):.2f}')"
   ]
  },
  {
   "cell_type": "markdown",
   "id": "77cff255",
   "metadata": {},
   "source": [
    "The code prints the average of the three Fahrenheit temperature samples for each of four days."
   ]
  },
  {
   "cell_type": "markdown",
   "id": "5e1cdce2",
   "metadata": {},
   "source": [
    "### 6.4"
   ]
  },
  {
   "cell_type": "code",
   "execution_count": 189,
   "id": "5f51e21f",
   "metadata": {},
   "outputs": [
    {
     "data": {
      "text/plain": [
       "{1, 2, 4, 8, 16, 64, 256}"
      ]
     },
     "execution_count": 189,
     "metadata": {},
     "output_type": "execute_result"
    }
   ],
   "source": [
    "#a) \n",
    "{1, 2, 4, 8, 16}.union({1, 4, 16, 64, 256}) # {1,2,4,8,16,64,256} "
   ]
  },
  {
   "cell_type": "code",
   "execution_count": 190,
   "id": "a4be99c8",
   "metadata": {},
   "outputs": [
    {
     "data": {
      "text/plain": [
       "{1, 4, 16}"
      ]
     },
     "execution_count": 190,
     "metadata": {},
     "output_type": "execute_result"
    }
   ],
   "source": [
    "#b) \n",
    "{1, 2, 4, 8, 16}.intersection({1, 4, 16, 64, 256}) # {1,4,16} "
   ]
  },
  {
   "cell_type": "code",
   "execution_count": 191,
   "id": "73485e14",
   "metadata": {},
   "outputs": [
    {
     "data": {
      "text/plain": [
       "{2, 8}"
      ]
     },
     "execution_count": 191,
     "metadata": {},
     "output_type": "execute_result"
    }
   ],
   "source": [
    "#c) \n",
    "{1,2,4,8,16}.difference({1,4,16,64,256}) #{2,8}"
   ]
  },
  {
   "cell_type": "code",
   "execution_count": 192,
   "id": "ce8cf57a",
   "metadata": {},
   "outputs": [
    {
     "data": {
      "text/plain": [
       "{2, 8, 64, 256}"
      ]
     },
     "execution_count": 192,
     "metadata": {},
     "output_type": "execute_result"
    }
   ],
   "source": [
    "#d) \n",
    "{1, 2, 4, 8, 16}.symmetric_difference({1, 4, 16, 64, 256}) # {2,8,64,256} "
   ]
  },
  {
   "cell_type": "code",
   "execution_count": 193,
   "id": "3727a778",
   "metadata": {},
   "outputs": [
    {
     "data": {
      "text/plain": [
       "False"
      ]
     },
     "execution_count": 193,
     "metadata": {},
     "output_type": "execute_result"
    }
   ],
   "source": [
    "#e) \n",
    "{1,2,4,8,16}.isdisjoint({1,4,16,64,256}) #False"
   ]
  },
  {
   "cell_type": "markdown",
   "id": "c2428d97",
   "metadata": {},
   "source": [
    "### 6.9"
   ]
  },
  {
   "cell_type": "code",
   "execution_count": 169,
   "id": "a322a61f",
   "metadata": {},
   "outputs": [],
   "source": [
    "tlds = {'Canada': 'ca', 'United States': 'us', 'Mexico': 'mx'}"
   ]
  },
  {
   "cell_type": "code",
   "execution_count": 170,
   "id": "bb68772b",
   "metadata": {},
   "outputs": [
    {
     "data": {
      "text/plain": [
       "True"
      ]
     },
     "execution_count": 170,
     "metadata": {},
     "output_type": "execute_result"
    }
   ],
   "source": [
    "# a) Check whether the dictionary contains the key 'Canada'.\n",
    "'Canada' in tlds"
   ]
  },
  {
   "cell_type": "code",
   "execution_count": 171,
   "id": "91c7339f",
   "metadata": {},
   "outputs": [
    {
     "data": {
      "text/plain": [
       "False"
      ]
     },
     "execution_count": 171,
     "metadata": {},
     "output_type": "execute_result"
    }
   ],
   "source": [
    "# b) Check whether the dictionary contains the key 'France'.\n",
    "'France' in tlds"
   ]
  },
  {
   "cell_type": "code",
   "execution_count": 172,
   "id": "4ee783b3",
   "metadata": {},
   "outputs": [
    {
     "name": "stdout",
     "output_type": "stream",
     "text": [
      "Canada ca\n",
      "United States us\n",
      "Mexico mx\n"
     ]
    }
   ],
   "source": [
    "# c) Iterate through the key–value pairs and display them in two-column format.\n",
    "for key, value in tlds.items():\n",
    "    print(key, value)"
   ]
  },
  {
   "cell_type": "code",
   "execution_count": 173,
   "id": "14f1063d",
   "metadata": {},
   "outputs": [
    {
     "data": {
      "text/plain": [
       "{'Canada': 'ca', 'United States': 'us', 'Mexico': 'mx', 'Sweden': 'sw'}"
      ]
     },
     "execution_count": 173,
     "metadata": {},
     "output_type": "execute_result"
    }
   ],
   "source": [
    "# d) Add the key–value pair 'Sweden' and 'sw' (which is incorrect).\n",
    "tlds.update({'Sweden':'sw'})\n",
    "tlds"
   ]
  },
  {
   "cell_type": "code",
   "execution_count": 174,
   "id": "23699ccf",
   "metadata": {},
   "outputs": [
    {
     "data": {
      "text/plain": [
       "{'Canada': 'ca', 'United States': 'us', 'Mexico': 'mx', 'Sweden': 'se'}"
      ]
     },
     "execution_count": 174,
     "metadata": {},
     "output_type": "execute_result"
    }
   ],
   "source": [
    "# e) Update the value for the key 'Sweden' to 'se'.\n",
    "tlds['Sweden'] = 'se'\n",
    "tlds"
   ]
  },
  {
   "cell_type": "code",
   "execution_count": 177,
   "id": "8b014691",
   "metadata": {},
   "outputs": [
    {
     "data": {
      "text/plain": [
       "{'ca': 'Canada', 'us': 'United States', 'mx': 'Mexico', 'se': 'Sweden'}"
      ]
     },
     "execution_count": 177,
     "metadata": {},
     "output_type": "execute_result"
    }
   ],
   "source": [
    "# f) Use a dictionary comprehension to reverse the keys and values.\n",
    "tlds2 = {value: key for key, value in tlds.items()}\n",
    "tlds2"
   ]
  },
  {
   "cell_type": "code",
   "execution_count": 178,
   "id": "fc115d52",
   "metadata": {},
   "outputs": [
    {
     "data": {
      "text/plain": [
       "{'ca': 'CANADA', 'us': 'UNITED STATES', 'mx': 'MEXICO', 'se': 'SWEDEN'}"
      ]
     },
     "execution_count": 178,
     "metadata": {},
     "output_type": "execute_result"
    }
   ],
   "source": [
    "# g) With the result of part(f), use a dictionary comprehension to convert the country names to all uppercase letters.\n",
    "{key: value.upper() for key, value in tlds2.items()}"
   ]
  }
 ],
 "metadata": {
  "kernelspec": {
   "display_name": "Python 3 (ipykernel)",
   "language": "python",
   "name": "python3"
  },
  "language_info": {
   "codemirror_mode": {
    "name": "ipython",
    "version": 3
   },
   "file_extension": ".py",
   "mimetype": "text/x-python",
   "name": "python",
   "nbconvert_exporter": "python",
   "pygments_lexer": "ipython3",
   "version": "3.7.4"
  }
 },
 "nbformat": 4,
 "nbformat_minor": 5
}
