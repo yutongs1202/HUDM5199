{
 "cells": [
  {
   "cell_type": "markdown",
   "id": "be2b6e45",
   "metadata": {},
   "source": [
    "## HUDM 5199 - Spring 2022"
   ]
  },
  {
   "cell_type": "markdown",
   "id": "5e5874c3",
   "metadata": {},
   "source": [
    "## Yutong Shen, ys3453"
   ]
  },
  {
   "cell_type": "markdown",
   "id": "0cbe31e2",
   "metadata": {},
   "source": [
    "## HW5 - March 2, 2022"
   ]
  },
  {
   "cell_type": "markdown",
   "id": "158c97d5",
   "metadata": {},
   "source": [
    "## Session 7"
   ]
  },
  {
   "cell_type": "markdown",
   "id": "373d1f36",
   "metadata": {},
   "source": [
    "### 2. Sets"
   ]
  },
  {
   "cell_type": "markdown",
   "id": "0e695b70",
   "metadata": {},
   "source": [
    "**Creating a Set with Curly Braces**"
   ]
  },
  {
   "cell_type": "code",
   "execution_count": 1,
   "id": "e829965b",
   "metadata": {},
   "outputs": [],
   "source": [
    "# Duplicates are ignored, making sets great for duplicate elimination\n",
    "colors = {'red', 'orange', 'yellow', 'green', 'red', 'blue'}"
   ]
  },
  {
   "cell_type": "code",
   "execution_count": 2,
   "id": "4e6927e6",
   "metadata": {},
   "outputs": [
    {
     "data": {
      "text/plain": [
       "{'blue', 'green', 'orange', 'red', 'yellow'}"
      ]
     },
     "execution_count": 2,
     "metadata": {},
     "output_type": "execute_result"
    }
   ],
   "source": [
    "colors"
   ]
  },
  {
   "cell_type": "markdown",
   "id": "86b07878",
   "metadata": {},
   "source": [
    "**Determining a Set's Length**"
   ]
  },
  {
   "cell_type": "code",
   "execution_count": 3,
   "id": "a92b3b52",
   "metadata": {},
   "outputs": [
    {
     "data": {
      "text/plain": [
       "5"
      ]
     },
     "execution_count": 3,
     "metadata": {},
     "output_type": "execute_result"
    }
   ],
   "source": [
    "len(colors)"
   ]
  },
  {
   "cell_type": "markdown",
   "id": "3d0de0f9",
   "metadata": {},
   "source": [
    "**Checking Whether a Value is in a Set**"
   ]
  },
  {
   "cell_type": "code",
   "execution_count": 4,
   "id": "5875c912",
   "metadata": {},
   "outputs": [
    {
     "data": {
      "text/plain": [
       "True"
      ]
     },
     "execution_count": 4,
     "metadata": {},
     "output_type": "execute_result"
    }
   ],
   "source": [
    "'red' in colors"
   ]
  },
  {
   "cell_type": "code",
   "execution_count": 5,
   "id": "9e30728e",
   "metadata": {},
   "outputs": [
    {
     "data": {
      "text/plain": [
       "False"
      ]
     },
     "execution_count": 5,
     "metadata": {},
     "output_type": "execute_result"
    }
   ],
   "source": [
    "'purple' in colors"
   ]
  },
  {
   "cell_type": "code",
   "execution_count": 6,
   "id": "4788c276",
   "metadata": {},
   "outputs": [
    {
     "data": {
      "text/plain": [
       "True"
      ]
     },
     "execution_count": 6,
     "metadata": {},
     "output_type": "execute_result"
    }
   ],
   "source": [
    "'purple' not in colors"
   ]
  },
  {
   "cell_type": "markdown",
   "id": "fe9f7426",
   "metadata": {},
   "source": [
    "**Iterating Through a Set**"
   ]
  },
  {
   "cell_type": "code",
   "execution_count": 8,
   "id": "6f7b9446",
   "metadata": {},
   "outputs": [
    {
     "name": "stdout",
     "output_type": "stream",
     "text": [
      "RED GREEN ORANGE YELLOW BLUE "
     ]
    }
   ],
   "source": [
    "for color in colors:\n",
    "    print(color.upper(), end=' ')"
   ]
  },
  {
   "cell_type": "markdown",
   "id": "d760bb47",
   "metadata": {},
   "source": [
    "**Creating a Set with the Built-in set Function**"
   ]
  },
  {
   "cell_type": "code",
   "execution_count": 9,
   "id": "606e0f2f",
   "metadata": {},
   "outputs": [],
   "source": [
    "numbers = list(range(10)) + list(range(5))"
   ]
  },
  {
   "cell_type": "code",
   "execution_count": 10,
   "id": "dc08f837",
   "metadata": {},
   "outputs": [
    {
     "data": {
      "text/plain": [
       "[0, 1, 2, 3, 4, 5, 6, 7, 8, 9, 0, 1, 2, 3, 4]"
      ]
     },
     "execution_count": 10,
     "metadata": {},
     "output_type": "execute_result"
    }
   ],
   "source": [
    "numbers"
   ]
  },
  {
   "cell_type": "code",
   "execution_count": 11,
   "id": "c4e9343e",
   "metadata": {},
   "outputs": [
    {
     "data": {
      "text/plain": [
       "{0, 1, 2, 3, 4, 5, 6, 7, 8, 9}"
      ]
     },
     "execution_count": 11,
     "metadata": {},
     "output_type": "execute_result"
    }
   ],
   "source": [
    "set(numbers)"
   ]
  },
  {
   "cell_type": "code",
   "execution_count": 12,
   "id": "4947c080",
   "metadata": {},
   "outputs": [
    {
     "data": {
      "text/plain": [
       "set()"
      ]
     },
     "execution_count": 12,
     "metadata": {},
     "output_type": "execute_result"
    }
   ],
   "source": [
    "set()"
   ]
  },
  {
   "cell_type": "markdown",
   "id": "8a91e2bc",
   "metadata": {},
   "source": [
    "**Frozenset: An Immutable Set Type**"
   ]
  },
  {
   "cell_type": "code",
   "execution_count": 13,
   "id": "69e603b6",
   "metadata": {},
   "outputs": [],
   "source": [
    "a = frozenset([1, 2, 3])"
   ]
  },
  {
   "cell_type": "code",
   "execution_count": 14,
   "id": "c8af6197",
   "metadata": {},
   "outputs": [
    {
     "data": {
      "text/plain": [
       "frozenset({1, 2, 3})"
      ]
     },
     "execution_count": 14,
     "metadata": {},
     "output_type": "execute_result"
    }
   ],
   "source": [
    "a"
   ]
  },
  {
   "cell_type": "code",
   "execution_count": 15,
   "id": "82e64969",
   "metadata": {},
   "outputs": [
    {
     "data": {
      "text/plain": [
       "{1, 2, 3}"
      ]
     },
     "execution_count": 15,
     "metadata": {},
     "output_type": "execute_result"
    }
   ],
   "source": [
    "set(a)"
   ]
  },
  {
   "cell_type": "markdown",
   "id": "c11f834b",
   "metadata": {},
   "source": [
    "### 2.1 Comparing Sets"
   ]
  },
  {
   "cell_type": "code",
   "execution_count": 16,
   "id": "ca92303b",
   "metadata": {},
   "outputs": [
    {
     "data": {
      "text/plain": [
       "True"
      ]
     },
     "execution_count": 16,
     "metadata": {},
     "output_type": "execute_result"
    }
   ],
   "source": [
    "{1, 3, 5} == {3, 5, 1}"
   ]
  },
  {
   "cell_type": "code",
   "execution_count": 17,
   "id": "641060fb",
   "metadata": {},
   "outputs": [
    {
     "data": {
      "text/plain": [
       "False"
      ]
     },
     "execution_count": 17,
     "metadata": {},
     "output_type": "execute_result"
    }
   ],
   "source": [
    "{1, 3, 5} != {3, 5, 1}"
   ]
  },
  {
   "cell_type": "code",
   "execution_count": 18,
   "id": "c0311cb4",
   "metadata": {},
   "outputs": [
    {
     "data": {
      "text/plain": [
       "False"
      ]
     },
     "execution_count": 18,
     "metadata": {},
     "output_type": "execute_result"
    }
   ],
   "source": [
    "{1, 3, 5} < {3, 5, 1}"
   ]
  },
  {
   "cell_type": "code",
   "execution_count": 19,
   "id": "22b42fb0",
   "metadata": {},
   "outputs": [
    {
     "data": {
      "text/plain": [
       "True"
      ]
     },
     "execution_count": 19,
     "metadata": {},
     "output_type": "execute_result"
    }
   ],
   "source": [
    "{1, 3, 5} < {7, 3, 5, 1}"
   ]
  },
  {
   "cell_type": "code",
   "execution_count": 20,
   "id": "65ce6a76",
   "metadata": {},
   "outputs": [
    {
     "data": {
      "text/plain": [
       "True"
      ]
     },
     "execution_count": 20,
     "metadata": {},
     "output_type": "execute_result"
    }
   ],
   "source": [
    "{1, 3, 5} <= {3, 5, 1}"
   ]
  },
  {
   "cell_type": "code",
   "execution_count": 21,
   "id": "5b6d91e8",
   "metadata": {},
   "outputs": [
    {
     "data": {
      "text/plain": [
       "True"
      ]
     },
     "execution_count": 21,
     "metadata": {},
     "output_type": "execute_result"
    }
   ],
   "source": [
    "{1, 3} <= {3, 5, 1}"
   ]
  },
  {
   "cell_type": "code",
   "execution_count": 22,
   "id": "dd0821f6",
   "metadata": {},
   "outputs": [
    {
     "data": {
      "text/plain": [
       "True"
      ]
     },
     "execution_count": 22,
     "metadata": {},
     "output_type": "execute_result"
    }
   ],
   "source": [
    "{1, 3, 5}.issubset({3, 5, 1}) # improper subset"
   ]
  },
  {
   "cell_type": "code",
   "execution_count": 23,
   "id": "290a037e",
   "metadata": {},
   "outputs": [
    {
     "data": {
      "text/plain": [
       "False"
      ]
     },
     "execution_count": 23,
     "metadata": {},
     "output_type": "execute_result"
    }
   ],
   "source": [
    "{1, 2}.issubset({3, 5, 1})"
   ]
  },
  {
   "cell_type": "code",
   "execution_count": 24,
   "id": "9a99e001",
   "metadata": {},
   "outputs": [
    {
     "data": {
      "text/plain": [
       "False"
      ]
     },
     "execution_count": 24,
     "metadata": {},
     "output_type": "execute_result"
    }
   ],
   "source": [
    "{1, 3, 5} > {3, 5, 1}"
   ]
  },
  {
   "cell_type": "code",
   "execution_count": 25,
   "id": "30bada95",
   "metadata": {},
   "outputs": [
    {
     "data": {
      "text/plain": [
       "True"
      ]
     },
     "execution_count": 25,
     "metadata": {},
     "output_type": "execute_result"
    }
   ],
   "source": [
    "{1, 3, 5, 7} > {3, 5, 1}"
   ]
  },
  {
   "cell_type": "code",
   "execution_count": 26,
   "id": "1530f64d",
   "metadata": {},
   "outputs": [
    {
     "data": {
      "text/plain": [
       "True"
      ]
     },
     "execution_count": 26,
     "metadata": {},
     "output_type": "execute_result"
    }
   ],
   "source": [
    "{1, 3, 5} >= {3, 5, 1}"
   ]
  },
  {
   "cell_type": "code",
   "execution_count": 27,
   "id": "37247c02",
   "metadata": {},
   "outputs": [
    {
     "data": {
      "text/plain": [
       "True"
      ]
     },
     "execution_count": 27,
     "metadata": {},
     "output_type": "execute_result"
    }
   ],
   "source": [
    "{1, 3, 5} >= {3, 1}"
   ]
  },
  {
   "cell_type": "code",
   "execution_count": 28,
   "id": "641d0c47",
   "metadata": {},
   "outputs": [
    {
     "data": {
      "text/plain": [
       "False"
      ]
     },
     "execution_count": 28,
     "metadata": {},
     "output_type": "execute_result"
    }
   ],
   "source": [
    "{1, 3} >= {3, 1, 7}"
   ]
  },
  {
   "cell_type": "code",
   "execution_count": 30,
   "id": "50ceb5ea",
   "metadata": {},
   "outputs": [
    {
     "data": {
      "text/plain": [
       "True"
      ]
     },
     "execution_count": 30,
     "metadata": {},
     "output_type": "execute_result"
    }
   ],
   "source": [
    "{1, 3, 5}.issuperset({3, 5, 1}) # improper supersets"
   ]
  },
  {
   "cell_type": "code",
   "execution_count": 31,
   "id": "2d022322",
   "metadata": {},
   "outputs": [
    {
     "data": {
      "text/plain": [
       "False"
      ]
     },
     "execution_count": 31,
     "metadata": {},
     "output_type": "execute_result"
    }
   ],
   "source": [
    "{1, 3, 5}.issuperset({3, 2})"
   ]
  },
  {
   "cell_type": "markdown",
   "id": "b07cda79",
   "metadata": {},
   "source": [
    "### 2.2 Mathematical Set Operations"
   ]
  },
  {
   "cell_type": "markdown",
   "id": "b5c4b425",
   "metadata": {},
   "source": [
    "**Union**"
   ]
  },
  {
   "cell_type": "code",
   "execution_count": 32,
   "id": "22448b23",
   "metadata": {},
   "outputs": [
    {
     "data": {
      "text/plain": [
       "{1, 2, 3, 4, 5}"
      ]
     },
     "execution_count": 32,
     "metadata": {},
     "output_type": "execute_result"
    }
   ],
   "source": [
    "{1, 3, 5} | {2, 3, 4}"
   ]
  },
  {
   "cell_type": "code",
   "execution_count": 33,
   "id": "d43e98b6",
   "metadata": {},
   "outputs": [
    {
     "data": {
      "text/plain": [
       "{1, 3, 5, 20, 40}"
      ]
     },
     "execution_count": 33,
     "metadata": {},
     "output_type": "execute_result"
    }
   ],
   "source": [
    "{1, 3, 5}.union([20, 20, 3, 40, 40])"
   ]
  },
  {
   "cell_type": "markdown",
   "id": "779fd94e",
   "metadata": {},
   "source": [
    "**Intersection**"
   ]
  },
  {
   "cell_type": "code",
   "execution_count": 21,
   "id": "c6b011aa",
   "metadata": {},
   "outputs": [
    {
     "data": {
      "text/plain": [
       "{3}"
      ]
     },
     "execution_count": 21,
     "metadata": {},
     "output_type": "execute_result"
    }
   ],
   "source": [
    "{1, 3, 5} & {2, 3, 4}"
   ]
  },
  {
   "cell_type": "code",
   "execution_count": 23,
   "id": "c7ca4eec",
   "metadata": {},
   "outputs": [
    {
     "data": {
      "text/plain": [
       "{1, 3}"
      ]
     },
     "execution_count": 23,
     "metadata": {},
     "output_type": "execute_result"
    }
   ],
   "source": [
    "{1, 3, 5}.intersection([1, 2, 2, 3, 3, 4, 4])"
   ]
  },
  {
   "cell_type": "markdown",
   "id": "91fe5eee",
   "metadata": {},
   "source": [
    "**Difference**"
   ]
  },
  {
   "cell_type": "code",
   "execution_count": 24,
   "id": "6ea5a017",
   "metadata": {},
   "outputs": [
    {
     "data": {
      "text/plain": [
       "{1, 5}"
      ]
     },
     "execution_count": 24,
     "metadata": {},
     "output_type": "execute_result"
    }
   ],
   "source": [
    "{1, 3, 5} - {2, 3, 4}"
   ]
  },
  {
   "cell_type": "code",
   "execution_count": 25,
   "id": "c129e6c2",
   "metadata": {},
   "outputs": [
    {
     "data": {
      "text/plain": [
       "{1, 5, 7}"
      ]
     },
     "execution_count": 25,
     "metadata": {},
     "output_type": "execute_result"
    }
   ],
   "source": [
    "{1, 3, 5, 7}.difference([2, 2, 3, 3, 4, 4])"
   ]
  },
  {
   "cell_type": "markdown",
   "id": "56ecc503",
   "metadata": {},
   "source": [
    "**Symmetric Difference**"
   ]
  },
  {
   "cell_type": "code",
   "execution_count": 1,
   "id": "5758a5f0",
   "metadata": {},
   "outputs": [
    {
     "data": {
      "text/plain": [
       "{1, 2, 4, 5}"
      ]
     },
     "execution_count": 1,
     "metadata": {},
     "output_type": "execute_result"
    }
   ],
   "source": [
    "{1, 3, 5} ^ {2, 3, 4}"
   ]
  },
  {
   "cell_type": "code",
   "execution_count": 3,
   "id": "cb58f588",
   "metadata": {},
   "outputs": [
    {
     "data": {
      "text/plain": [
       "{1, 2, 4, 5, 7}"
      ]
     },
     "execution_count": 3,
     "metadata": {},
     "output_type": "execute_result"
    }
   ],
   "source": [
    "{1, 3, 5, 7}.symmetric_difference({2, 2, 3, 3, 4, 4})"
   ]
  },
  {
   "cell_type": "markdown",
   "id": "01e88970",
   "metadata": {},
   "source": [
    "**Disjoint**"
   ]
  },
  {
   "cell_type": "code",
   "execution_count": 4,
   "id": "3370f77b",
   "metadata": {},
   "outputs": [
    {
     "data": {
      "text/plain": [
       "True"
      ]
     },
     "execution_count": 4,
     "metadata": {},
     "output_type": "execute_result"
    }
   ],
   "source": [
    "{1, 3, 5}.isdisjoint({2, 4, 6})"
   ]
  },
  {
   "cell_type": "code",
   "execution_count": 5,
   "id": "5927e5da",
   "metadata": {},
   "outputs": [
    {
     "data": {
      "text/plain": [
       "False"
      ]
     },
     "execution_count": 5,
     "metadata": {},
     "output_type": "execute_result"
    }
   ],
   "source": [
    "{1, 3, 5}.isdisjoint({4, 6, 1})"
   ]
  },
  {
   "cell_type": "markdown",
   "id": "7bec91db",
   "metadata": {},
   "source": [
    "### 2.3 Mutable Set Operators and Methods"
   ]
  },
  {
   "cell_type": "code",
   "execution_count": 6,
   "id": "2a5cccdd",
   "metadata": {},
   "outputs": [],
   "source": [
    "numbers = {1, 3, 5}"
   ]
  },
  {
   "cell_type": "code",
   "execution_count": 7,
   "id": "a29cd5c9",
   "metadata": {},
   "outputs": [],
   "source": [
    "numbers |= {2, 3, 4}"
   ]
  },
  {
   "cell_type": "code",
   "execution_count": 8,
   "id": "7ec8225a",
   "metadata": {},
   "outputs": [
    {
     "data": {
      "text/plain": [
       "{1, 2, 3, 4, 5}"
      ]
     },
     "execution_count": 8,
     "metadata": {},
     "output_type": "execute_result"
    }
   ],
   "source": [
    "numbers"
   ]
  },
  {
   "cell_type": "code",
   "execution_count": 9,
   "id": "577a5f04",
   "metadata": {},
   "outputs": [],
   "source": [
    "numbers.update(range(10))"
   ]
  },
  {
   "cell_type": "code",
   "execution_count": 10,
   "id": "4dc0ce7b",
   "metadata": {},
   "outputs": [
    {
     "data": {
      "text/plain": [
       "{0, 1, 2, 3, 4, 5, 6, 7, 8, 9}"
      ]
     },
     "execution_count": 10,
     "metadata": {},
     "output_type": "execute_result"
    }
   ],
   "source": [
    "numbers"
   ]
  },
  {
   "cell_type": "markdown",
   "id": "1c91fc0c",
   "metadata": {},
   "source": [
    "**Methods for Adding and Removing Elements**"
   ]
  },
  {
   "cell_type": "code",
   "execution_count": 11,
   "id": "36afe8f6",
   "metadata": {},
   "outputs": [],
   "source": [
    "numbers.add(17)"
   ]
  },
  {
   "cell_type": "code",
   "execution_count": 12,
   "id": "23b49dca",
   "metadata": {},
   "outputs": [],
   "source": [
    "numbers.add(3)"
   ]
  },
  {
   "cell_type": "code",
   "execution_count": 13,
   "id": "237e3665",
   "metadata": {},
   "outputs": [
    {
     "data": {
      "text/plain": [
       "{0, 1, 2, 3, 4, 5, 6, 7, 8, 9, 17}"
      ]
     },
     "execution_count": 13,
     "metadata": {},
     "output_type": "execute_result"
    }
   ],
   "source": [
    "numbers"
   ]
  },
  {
   "cell_type": "code",
   "execution_count": 14,
   "id": "2c107ea0",
   "metadata": {},
   "outputs": [],
   "source": [
    "numbers.remove(3)"
   ]
  },
  {
   "cell_type": "code",
   "execution_count": 15,
   "id": "2542c60f",
   "metadata": {},
   "outputs": [
    {
     "data": {
      "text/plain": [
       "{0, 1, 2, 4, 5, 6, 7, 8, 9, 17}"
      ]
     },
     "execution_count": 15,
     "metadata": {},
     "output_type": "execute_result"
    }
   ],
   "source": [
    "numbers"
   ]
  },
  {
   "cell_type": "markdown",
   "id": "5ceb7c84",
   "metadata": {},
   "source": [
    "### 2.4 Set Comprehensions"
   ]
  },
  {
   "cell_type": "code",
   "execution_count": 16,
   "id": "5448512d",
   "metadata": {},
   "outputs": [],
   "source": [
    "numbers = [1, 2, 2, 3, 4, 5, 6, 6, 7, 8, 9, 10, 10]"
   ]
  },
  {
   "cell_type": "code",
   "execution_count": 19,
   "id": "4f7a3dac",
   "metadata": {},
   "outputs": [],
   "source": [
    "evens = {item for item in numbers if item % 2 == 0}"
   ]
  },
  {
   "cell_type": "code",
   "execution_count": 20,
   "id": "8c20ce7a",
   "metadata": {},
   "outputs": [
    {
     "data": {
      "text/plain": [
       "{2, 4, 6, 8, 10}"
      ]
     },
     "execution_count": 20,
     "metadata": {},
     "output_type": "execute_result"
    }
   ],
   "source": [
    "evens"
   ]
  },
  {
   "cell_type": "markdown",
   "id": "7be1ade3",
   "metadata": {},
   "source": [
    "### 1. Python Key Data Science libararies"
   ]
  },
  {
   "cell_type": "markdown",
   "id": "18478dc5",
   "metadata": {},
   "source": [
    "### 1.1 Numpy"
   ]
  },
  {
   "cell_type": "markdown",
   "id": "1e6e269b",
   "metadata": {},
   "source": [
    "Preferred Python array implementation\n",
    "\n",
    "N-dimensional array called ndarray\n",
    "\n",
    "Up to 100 times faster than lists\n",
    "\n",
    "Over 450 Python libararies depend on Numpy"
   ]
  },
  {
   "cell_type": "markdown",
   "id": "623216e3",
   "metadata": {},
   "source": [
    "### 1.2 Pandas"
   ]
  },
  {
   "cell_type": "markdown",
   "id": "d99a102c",
   "metadata": {},
   "source": [
    "Open source Data Analysis libaray: **Data Manipulation, visulization, and analysis with Python**\n",
    "\n",
    "A set of labeled array data structures, the primary of which are **Series and Dataframe**\n",
    "\n",
    "Pandas support 3 data structures: **Series, DataFrame, Panel**"
   ]
  },
  {
   "cell_type": "markdown",
   "id": "960c58d3",
   "metadata": {},
   "source": [
    "### 1.3 SciPy"
   ]
  },
  {
   "cell_type": "markdown",
   "id": "6047bbe5",
   "metadata": {},
   "source": [
    "SciPy builds on Numpy, provides a large number of functions"
   ]
  },
  {
   "cell_type": "markdown",
   "id": "59b8a13a",
   "metadata": {},
   "source": [
    "### 1.4 Matplotlib"
   ]
  },
  {
   "cell_type": "markdown",
   "id": "c8c6e261",
   "metadata": {},
   "source": [
    "Python **2D plotting** libarary"
   ]
  },
  {
   "cell_type": "markdown",
   "id": "142ea328",
   "metadata": {},
   "source": [
    "### 1.5 Seaborn"
   ]
  },
  {
   "cell_type": "markdown",
   "id": "30d9f3ce",
   "metadata": {},
   "source": [
    "Seaborn is a **graphic library built on top of Matplotlib**"
   ]
  },
  {
   "cell_type": "markdown",
   "id": "47b8c371",
   "metadata": {},
   "source": [
    "### 1.6 Plotly"
   ]
  },
  {
   "cell_type": "markdown",
   "id": "901618c0",
   "metadata": {},
   "source": [
    "Plotly is a graphing libarary for **interactive**, publication-quality graphs"
   ]
  },
  {
   "cell_type": "markdown",
   "id": "cfbfb616",
   "metadata": {},
   "source": [
    "### 1.7 Scikit-learn"
   ]
  },
  {
   "cell_type": "markdown",
   "id": "a259794b",
   "metadata": {},
   "source": [
    "Tool for **data mining** and **data analysis**\n",
    "\n",
    "Used to solve **Machine Learning** problems"
   ]
  }
 ],
 "metadata": {
  "kernelspec": {
   "display_name": "Python 3 (ipykernel)",
   "language": "python",
   "name": "python3"
  },
  "language_info": {
   "codemirror_mode": {
    "name": "ipython",
    "version": 3
   },
   "file_extension": ".py",
   "mimetype": "text/x-python",
   "name": "python",
   "nbconvert_exporter": "python",
   "pygments_lexer": "ipython3",
   "version": "3.7.4"
  }
 },
 "nbformat": 4,
 "nbformat_minor": 5
}
